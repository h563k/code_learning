{
 "cells": [
  {
   "cell_type": "markdown",
   "source": [
    "55、（多选题）如下代码执行时会抛异常的有（BD）\n",
    "\n",
    "A、result = {(1, 2), 1, 2}\n",
    "\n",
    "B、result = {[1, 2], 1, 2}\n",
    "\n",
    "C、result = ([1, 2], 1, 2)\n",
    "\n",
    "D、result = {[1, 2] : 12, 1 : 1, 2 : 2}"
   ],
   "metadata": {
    "collapsed": false
   }
  },
  {
   "cell_type": "markdown",
   "source": [
    "可变类型有列表、集合、字典\n",
    "{}表示集合，集合中的元素相当于字典中的键\n",
    "所以，虽然集合是可变类型，但是集合的元素必须是不可变类型\n",
    "()为元组，不可变\n",
    "A:\n",
    "    {}表示集合，集合只能放不可变类型\n",
    "B:\n",
    "    列表是可变类型，报错\n",
    "C:\n",
    "    元组可以放多种类型，可变不可变都可以，并且元组内的可变类型是可以修改的\n",
    "D:\n",
    "    字典属于可变类型，但是字典的键不能是可变类型\n"
   ],
   "metadata": {
    "collapsed": false
   }
  },
  {
   "cell_type": "markdown",
   "source": [
    "```python\n",
    "class B():\n",
    "    def __init__(self):\n",
    "        print('B')\n",
    "\n",
    "\n",
    "class A(B):\n",
    "    def __init__(self):\n",
    "        ____________ # 需填入代码\n",
    "```\n",
    "\n",
    "a = A()\n",
    "以下哪些选项中的代码单独填入到横线处，可以使得以上代码段输出B（AD）\n",
    "\n",
    "A、super().__init__()\n",
    "\n",
    "B、super().__init__(self)\n",
    "\n",
    "C、B.__init__()\n",
    "\n",
    "D、B.__init__(self)"
   ],
   "metadata": {
    "collapsed": false
   }
  },
  {
   "cell_type": "markdown",
   "source": [
    "这里很显然，A继承了B，super().__init__()相当于执行B的__init__，输出B\n",
    "直接调用B的函数显然也是可以的\n",
    "BC属于语法错误"
   ],
   "metadata": {
    "collapsed": false
   }
  },
  {
   "cell_type": "markdown",
   "source": [],
   "metadata": {
    "collapsed": false
   }
  },
  {
   "cell_type": "code",
   "execution_count": 545,
   "outputs": [
    {
     "name": "stdout",
     "output_type": "stream",
     "text": [
      "14\n"
     ]
    }
   ],
   "source": [
    "# 相当于int(\"12\")+2\n",
    "print(int(\"1\" + \"2\") + 2)"
   ],
   "metadata": {
    "collapsed": false
   }
  },
  {
   "cell_type": "code",
   "execution_count": 546,
   "outputs": [],
   "source": [
    "class GrandParent:\n",
    "    def __init__(self):\n",
    "        print(\"Hello GrandParent\")\n",
    "\n",
    "\n",
    "class Parent(GrandParent):\n",
    "    def __init__(self):\n",
    "        super().__init__()\n",
    "        print(\"Hello Parent\")\n",
    "\n",
    "\n",
    "# class Child(GrandParent, Parent):\n",
    "#     def __init__(self):\n",
    "#         super().__init__()\n",
    "#         print(\"Hello Child\")\n",
    "\n",
    "# c = Child()"
   ],
   "metadata": {
    "collapsed": false
   }
  },
  {
   "cell_type": "markdown",
   "source": [
    "这里直接会报错，因为Child不能同时继承GrandParent和Parent"
   ],
   "metadata": {
    "collapsed": false
   }
  },
  {
   "cell_type": "code",
   "execution_count": 547,
   "outputs": [],
   "source": [
    "# class A:\n",
    "#     a = 42\n",
    "#     b = list(a + i for i in range(10))\n",
    "#     print(b)\n",
    "#\n",
    "# A()"
   ],
   "metadata": {
    "collapsed": false
   }
  },
  {
   "cell_type": "code",
   "execution_count": 548,
   "outputs": [
    {
     "name": "stdout",
     "output_type": "stream",
     "text": [
      "12323\n",
      "12323\n",
      "12323\n",
      "1\n"
     ]
    }
   ],
   "source": [
    "import re\n",
    "x = \"abaax12323ddd\"\n",
    "t = re.match(r\"[a-zA-Z]+(\\d+?)[a-zA-Z]+\", x).group(1)\n",
    "print(t)\n",
    "t = re.match(r\"[a-zA-Z]+(\\d+)[a-zA-Z]+\", x).group(1)\n",
    "print(t)\n",
    "t = re.match(r\"[a-zA-Z]+(\\d*)[a-zA-Z]+\", x).group(1)\n",
    "print(t)\n",
    "t = re.match(r\"[a-zA-Z]+(\\d+?)\", x).group(1)\n",
    "print(t)"
   ],
   "metadata": {
    "collapsed": false
   }
  },
  {
   "cell_type": "markdown",
   "source": [
    "group(0)表示整个匹配结果，group(1)表示第一个括号内的匹配值\n",
    "显而易见[a-zA-Z]+表示1个或者多个字母\n",
    "第二和第三个没区别不讲\n",
    "一和四的区别在于中间尾部的匹配，虽然都使用了非贪婪模式，但是第一中为了匹配后面的[a-zA-Z]+将不得不匹配全部内容\n",
    "匹配为“12323“ ”ddd”\n",
    "第四的区别在于由于不需要匹配最后部分，“12323ddd”将直接因为非贪婪变为“1”\n"
   ],
   "metadata": {
    "collapsed": false
   }
  },
  {
   "cell_type": "code",
   "execution_count": 549,
   "outputs": [
    {
     "name": "stdout",
     "output_type": "stream",
     "text": [
      "666\n",
      "666\n",
      "0\n"
     ]
    }
   ],
   "source": [
    "class A:\n",
    "    x = 0\n",
    "\n",
    "    def func(self):\n",
    "        print(self.x)\n",
    "\n",
    "\n",
    "a = A()\n",
    "a.x = 666\n",
    "a.func()\n",
    "# a.func(a)\n",
    "A.func(a)\n",
    "A.func(A)"
   ],
   "metadata": {
    "collapsed": false
   }
  },
  {
   "cell_type": "markdown",
   "source": [
    "\"\"\"\n",
    "则下列哪些语句可以打印出0（ACD）\n",
    "\n",
    "A、a.func()\n",
    "\n",
    "B、a.func(a)\n",
    "\n",
    "C、A.func(a)\n",
    "\n",
    "D、A.func(A)\n",
    "\"\"\""
   ],
   "metadata": {
    "collapsed": false
   }
  },
  {
   "cell_type": "markdown",
   "source": [
    "```python\n",
    "class A:\n",
    "    x = 0\n",
    "```\n",
    "x = 0在这里叫做类变量，类变量是属于类本身的变量，而不是属于类的实例。这意味着，所有 A 类的实例都共享同一个 x 变量\n",
    "a.x = 0 将实例a的x值进行了修改\n",
    "a.func()，调用a实例x的值，由于已经定义了a.x = 0，输出0\n",
    "a.func(a)，报错，因为不需要参数\n",
    "A.func(a) 相当于a.func()\n",
    "A.func(A)\n"
   ],
   "metadata": {
    "collapsed": false
   }
  },
  {
   "cell_type": "code",
   "execution_count": 550,
   "outputs": [
    {
     "name": "stdout",
     "output_type": "stream",
     "text": [
      "<class '__main__.Bar'>\n"
     ]
    }
   ],
   "source": [
    "class Foo:\n",
    "    count = 0\n",
    "\n",
    "    def __init__(self):\n",
    "        self.count = 0\n",
    "\n",
    "    def incr(self):\n",
    "        self.count += 1\n",
    "\n",
    "    @staticmethod\n",
    "    def incr_static():\n",
    "        Foo.count += 1\n",
    "\n",
    "    @classmethod\n",
    "    def incr_class(cls):\n",
    "        print(str(cls))\n",
    "        cls.count += 1\n",
    "\n",
    "\n",
    "class Bar(Foo):\n",
    "    pass\n",
    "\n",
    "foo = Foo()\n",
    "bar = Bar()\n",
    "bar.incr()\n",
    "bar.incr_static()\n",
    "bar.incr_class()"
   ],
   "metadata": {
    "collapsed": false
   }
  },
  {
   "cell_type": "markdown",
   "source": [
    "A、foo.count的值为1\n",
    "\n",
    "B、bar.count的值为1\n",
    "\n",
    "C、Bar.count的值为1\n",
    "\n",
    "D、Foo.count的值为1"
   ],
   "metadata": {
    "collapsed": false
   }
  },
  {
   "cell_type": "code",
   "execution_count": 551,
   "outputs": [
    {
     "name": "stdout",
     "output_type": "stream",
     "text": [
      "0 1 2 1\n"
     ]
    }
   ],
   "source": [
    "print(foo.count,bar.count,Bar.count,Foo.count)"
   ],
   "metadata": {
    "collapsed": false
   }
  },
  {
   "cell_type": "markdown",
   "source": [
    "Bar继承了Foo，但是Bar本身没有定义任何数据，因此所有的修改都会修改Foo\n",
    "bar.incr(),会将实例化的bar的count值加1\n",
    "bar.incr_static() 会将Foo的类变量count加1\n",
    "bar.incr_class() 由于这里使用了cls，这里的cls将专门指代Bar，而不是Foo，因此Bar的类变量count会加1"
   ],
   "metadata": {
    "collapsed": false
   }
  },
  {
   "cell_type": "markdown",
   "source": [
    "有如下几个文件，目录结构及文件内容如下：\n",
    "```\n",
    ".\n",
    "├── test1.py\n",
    "└── tests\n",
    "    ├── __init__.py\n",
    "    └── test2.py\n",
    "```\n",
    "test1.py:\n",
    "```python\n",
    "from tests import test2\n",
    "\n",
    "test2.test_2()\n",
    "```\n",
    "tests/__init__.py:\n",
    "```python\n",
    "import test2\n",
    "\n",
    "def test2():\n",
    "    print('hello python')\n",
    "```\n",
    "tests/test2.py:\n",
    "```python\n",
    "def test_2():\n",
    "    print('hello world')\n",
    "```\n",
    "运行test1.py的结果是（C）\n",
    "\n",
    "A、hello python\n",
    "\n",
    "B、hello world\n",
    "\n",
    "C、AttributeError: 'function' object has no attribute 'test_2\n",
    "\n",
    "D、AttributeError: module 'tests' has no attribute 'test2"
   ],
   "metadata": {
    "collapsed": false
   }
  },
  {
   "cell_type": "markdown",
   "source": [
    "这道题涉及python导入优先级，python会优先去__init__.py 文件中查找名为 test2 的变量、函数或类\n",
    "如果找到了，就会导入它。如果没有找到，解释器会继续查找名为 test2 的子模块或子包。"
   ],
   "metadata": {
    "collapsed": false
   }
  },
  {
   "cell_type": "markdown",
   "source": [],
   "metadata": {
    "collapsed": false
   }
  },
  {
   "cell_type": "markdown",
   "source": [
    "自定义的异常类型必须继承自Exception，按照已知异常->Exception的顺序捕获时，不需要关注对键盘中断、进程退出、生成器结束等异常的特殊处理。\n",
    "禁止使用非异常类型作为raise对象，如NotImplemented、可迭代对象等。\n",
    "下面是一个正例子："
   ],
   "metadata": {
    "collapsed": false
   }
  },
  {
   "cell_type": "markdown",
   "source": [],
   "metadata": {
    "collapsed": false
   }
  },
  {
   "cell_type": "code",
   "execution_count": 552,
   "outputs": [],
   "source": [
    "class AuthenticationError(Exception): # 使用Exception而不是BaseException\n",
    "    def __init__(self, message=None):\n",
    "        super(AuthenticationError, self).__init__(message)\n",
    "        self.http_code = 404\n",
    "\n",
    "\n",
    "def handle_request(req):\n",
    "    try:\n",
    "        ...\n",
    "    except AuthenticationError as e:\n",
    "        return Response(e.http_code, e.message)\n",
    "    except Exception as e:  # AuthenticationError等异常会正常抛出，无需额外关注\n",
    "        return Response(400, e.message)"
   ],
   "metadata": {
    "collapsed": false
   }
  },
  {
   "cell_type": "code",
   "execution_count": 553,
   "outputs": [],
   "source": [
    "# 模块内全局变量\n",
    "_global = object()\n",
    "\n",
    "# 全局可见的全局变量\n",
    "overall_global = object()\n",
    "\n",
    "# 全局常量\n",
    "CONSTANT = 60 * 60"
   ],
   "metadata": {
    "collapsed": false
   }
  },
  {
   "cell_type": "markdown",
   "source": [
    "下述哪些选项的说法符合《华为Python语言编程规范》中“变量作用域”章节的原则、要求和建议（ABC）\n",
    "```python\n",
    "__all__ = []\n",
    "_g_type = 1\n",
    "\n",
    "\n",
    "def get_type():\n",
    "    global _g_type\n",
    "    return _g_type\n",
    "\n",
    "\n",
    "def set_type(type):\n",
    "    _g_type = type\n",
    "```\n",
    "A、get_type函数中的global的使用违反规范\n",
    "\n",
    "B、set_type函数中的type参数命名违反规范\n",
    "\n",
    "C、set_type函数中的_g_type的命名违反规范\n",
    "\n",
    "D、全局变量_g_type的命名违反规范，模块内使用的全局变量不能以下划线开头\n",
    "\n"
   ],
   "metadata": {
    "collapsed": false
   }
  },
  {
   "cell_type": "markdown",
   "source": [
    "考察：G.VAR.02 禁止使用global关键字声明不存在的外部变量\n",
    "A 正确，\n",
    "get_type 是直接返回了_g_type，在读取外部变量的时候，不需要使用global进行声明\n",
    "B 正确\n",
    "type是python自带函数，不建议使用\n",
    "_g_type = type会覆盖外部变量_g_type的值\n",
    "C 正确\n",
    "如果必要使用全局变量，应该通过命名（以_开头）将全局变量声明为模块的内部变量，并且将其排除在__all__之外。\n",
    "D 错误\n",
    "见C\n"
   ],
   "metadata": {
    "collapsed": false
   }
  },
  {
   "cell_type": "code",
   "execution_count": 554,
   "outputs": [
    {
     "name": "stdout",
     "output_type": "stream",
     "text": [
      "5 Q2\n"
     ]
    }
   ],
   "source": [
    "import datetime\n",
    "d2 = datetime.datetime(5, 6, 7, 8, 9, 10)\n",
    "print(d2.year, \" Q\", d2.month // 4 + 1, sep='')"
   ],
   "metadata": {
    "collapsed": false
   }
  },
  {
   "cell_type": "markdown",
   "source": [
    "datetime(year, month, day, hour=0, minute=0, second=0, microsecond=0, tzinfo=None, *, fold=0)\n",
    "The year, month and day arguments are required\n",
    "\n",
    "year=5,month=6 代入即可"
   ],
   "metadata": {
    "collapsed": false
   }
  },
  {
   "cell_type": "code",
   "execution_count": 555,
   "outputs": [
    {
     "name": "stdout",
     "output_type": "stream",
     "text": [
      "2 True\n"
     ]
    }
   ],
   "source": [
    "language = u\"中文\"\n",
    "print(len(language), hasattr(language, \"encode\"))"
   ],
   "metadata": {
    "collapsed": false
   }
  },
  {
   "cell_type": "markdown",
   "source": [
    "u\"中文\"是Python 2.x中的Unicode字符串，其中的u表示该字符串是Unicode编码。在Python 3.x中，所有字符串都是Unicode字符串，因此不需要使用u前缀。"
   ],
   "metadata": {
    "collapsed": false
   }
  },
  {
   "cell_type": "markdown",
   "source": [
    "下述哪个选项的代码符合《华为Python语言编程规范》中“运算符”章节的原则、要求和建议（C）\n",
    "\n",
    "A、比较两个list内容是否相同：\n",
    "\n",
    "if list1 is list2:\n",
    "B、比较两个时间是否相等：\n",
    "\n",
    "if time1 is time2:\n",
    "C、比较两个tuple的内容是否相同：\n",
    "\n",
    "if tuple1 == tuple2:\n",
    "D、判断tuple内容是否为空：\n",
    "\n",
    "if my_tuple is ():"
   ],
   "metadata": {
    "collapsed": false
   }
  },
  {
   "cell_type": "markdown",
   "source": [
    "G.OPR.03 禁止使用is或is not运算符在内置类型之间作比较，建议用==或!="
   ],
   "metadata": {
    "collapsed": false
   }
  },
  {
   "cell_type": "markdown",
   "source": [
    "如下哪些程序执行能输出attr_name的值（ABD）\n",
    "```\n",
    "\n",
    "A、\n",
    "class Parent:\n",
    "    attr_name = 1\n",
    "\n",
    "Foo = type('', (Parent,), {})\n",
    "print(Foo.attr_name)\n",
    "B、\n",
    "class Parent:\n",
    "    attr_name = 1\n",
    "\n",
    "Foo = type('', (), {'attr_name': 1})\n",
    "foo = Foo()\n",
    "print(foo.attr_name)\n",
    "C、\n",
    "\n",
    "class Parent:\n",
    "    attr_name = 1\n",
    "\n",
    "\n",
    "Foo = type('Parent', (), {})\n",
    "print(Foo.attr_name)\n",
    "\n",
    "D、\n",
    "class Parent:\n",
    "    attr_name = 1\n",
    "\n",
    "Foo = type('', (Parent,), {})\n",
    "foo = Foo()\n",
    "print(foo.attr_name)\n",
    "```"
   ],
   "metadata": {
    "collapsed": false
   }
  },
  {
   "cell_type": "markdown",
   "source": [
    "Foo = type('', (Parent,), {})\n",
    "这是一个Python中的动态类创建方法。type()函数可以接受三个参数，分别是type(name, bases, dict)。其中，name是类名，bases是继承的父类集合，dict是属性集合。这个语句的意思是创建一个名为Foo的类，它继承自Parent类，但没有任何属性¹。\n",
    "A 正确\n",
    "这里相当于创建了一个继承Parent的Foo类，同时也继承了Parent的类变量，输出1\n",
    "B\n",
    "这里的Foo没有继承任何类，但是定义了attr_name属性，能输出1\n",
    "C\n",
    "无继承，无属性，无结果\n",
    "D\n",
    "输出实例foo的attr_name属性\n"
   ],
   "metadata": {
    "collapsed": false
   }
  },
  {
   "cell_type": "markdown",
   "source": [],
   "metadata": {
    "collapsed": false
   }
  },
  {
   "cell_type": "code",
   "execution_count": 556,
   "outputs": [
    {
     "name": "stdout",
     "output_type": "stream",
     "text": [
      "1\n"
     ]
    }
   ],
   "source": [
    "class Parent:\n",
    "    attr_name = 1\n",
    "\n",
    "\n",
    "Foo = type('', (), {'attr_name': 1})\n",
    "foo = Foo()\n",
    "print(foo.attr_name)"
   ],
   "metadata": {
    "collapsed": false
   }
  },
  {
   "cell_type": "markdown",
   "source": [],
   "metadata": {
    "collapsed": false
   }
  },
  {
   "cell_type": "code",
   "execution_count": 557,
   "outputs": [
    {
     "name": "stdout",
     "output_type": "stream",
     "text": [
      "3\n"
     ]
    }
   ],
   "source": [
    "def decorate_function(function):\n",
    "    def inner(*args, **kwargs):\n",
    "        inner.co += 1\n",
    "        return function(*args, **kwargs)\n",
    "\n",
    "    inner.co = 0\n",
    "    return inner\n",
    "\n",
    "\n",
    "@decorate_function\n",
    "def sample_function():\n",
    "    pass\n",
    "\n",
    "\n",
    "sample_function()\n",
    "sample_function()\n",
    "sample_function()\n",
    "print(sample_function.co)"
   ],
   "metadata": {
    "collapsed": false
   }
  },
  {
   "cell_type": "markdown",
   "source": [
    "`sample_function` 有 `co` 这个属性是因为在定义装饰器函数 `decorate_function` 时，新函数 `inner` 被定义为一个闭包，它可以访问外部函数的变量。在这种情况下，`inner` 函数可以访问 `decorate_function` 函数中定义的变量 `co`。每次调用 `sample_function` 函数时，实际上是调用了 `inner` 函数，因此每次调用都会增加 `co` 变量的值。由于 `co` 变量是作为 `inner` 函数的属性存储的，因此它可以跨多个调用保持不变。"
   ],
   "metadata": {
    "collapsed": false
   }
  },
  {
   "cell_type": "markdown",
   "source": [
    "下面的几个删除目录及目录下所有文件的操作中，符合《华为Python语言编程规范》中“代码工程”章节的原则、要求和建议的是（D）\n",
    "\n",
    "A、\n",
    "\n",
    "os.system(f\"rm -r {dir_name}\")\n",
    "B、\n",
    "\n",
    "proc = subprocess.Popen(['rm', '-r', dir_name], stdout=subprocess.PIPE, stderr=subprocess.PIPE)\n",
    "outs, errs = proc.communicate()\n",
    "C、\n",
    "\n",
    "subprocess.run(['rm', '-r', dir_name])\n",
    "D、\n",
    "\n",
    "shutil.rmtree(dir_name)"
   ],
   "metadata": {
    "collapsed": false
   }
  },
  {
   "cell_type": "markdown",
   "source": [
    "A 错误\n",
    "P.11 建议尽量使用标准库中的功能来替代直接调用操作系统的系统命令\n",
    "os.remove shutil.rmtree可以实现删除功能\n"
   ],
   "metadata": {
    "collapsed": false
   }
  },
  {
   "cell_type": "markdown",
   "source": [
    "如下代码段，输出字符串为“海贝色”的是(D )\n",
    "\n",
    "DictColor = {\"seashell\": \"海贝色\", \"gold\": \"金色\", \"pink\": \"粉红色\", \"brown\": \"棕色\", \"purple\": \"紫色\", \"tomato\": \"西红柿色\"}\n",
    "A、\n",
    "\n",
    "print(DictColor.keys())\n",
    "B、\n",
    "\n",
    "print(DictColor[\"海贝色\"])\n",
    "C、\n",
    "\n",
    "print(DictColor.values())\n",
    "D、\n",
    "\n",
    "print(DictColor[\"seashell\"])\n",
    "\n",
    "基础题 跳过"
   ],
   "metadata": {
    "collapsed": false
   }
  },
  {
   "cell_type": "code",
   "execution_count": 558,
   "outputs": [
    {
     "name": "stdout",
     "output_type": "stream",
     "text": [
      "start\n",
      "end\n",
      "None\n"
     ]
    }
   ],
   "source": [
    "def decorate(func):\n",
    "    def wrapper():\n",
    "        print('start')\n",
    "        func()\n",
    "        print('end')\n",
    "\n",
    "    return wrapper\n",
    "\n",
    "\n",
    "@decorate\n",
    "def show():\n",
    "    return 'show'\n",
    "\n",
    "\n",
    "print(show())"
   ],
   "metadata": {
    "collapsed": false
   }
  },
  {
   "cell_type": "markdown",
   "source": [
    "decorate(show),很显然 print('start') func() print('end')，输出 start end，wrapper未定义返回值"
   ],
   "metadata": {
    "collapsed": false
   }
  },
  {
   "cell_type": "markdown",
   "source": [
    "已有变量定义 name = \"tom\"，则下列表达式中值为字符串\"tom\"的是（C）\n",
    "\n",
    "A、\n",
    "\n",
    "\"{name!r}\"\n",
    "\n",
    "\n",
    "B、\n",
    "\n",
    "\"{name%r}\"\n",
    "C、\n",
    "\n",
    "f\"{name!r}\"\n",
    "D、\n",
    "\n",
    "f\"{name%r}\""
   ],
   "metadata": {
    "collapsed": false
   }
  },
  {
   "cell_type": "markdown",
   "source": [
    "选项C的表达式是f\"{name!r}\"，它的值为字符串\"tom\"。在这个表达式中，f表示这是一个格式化字符串，、\n",
    "{name!r}表示将变量name的值转换为字符串并使用repr()函数来表示它。repr()函数返回对象的 string 格式\n",
    "除了r还可以使用s和a\n",
    "!a表示使用ascii()函数来表示变量的值，!s表示使用str()函数来表示变量的值\n"
   ],
   "metadata": {
    "collapsed": false
   }
  },
  {
   "cell_type": "code",
   "execution_count": 559,
   "outputs": [
    {
     "data": {
      "text/plain": "('{name!r}', '{name%r}', \"'tom'\")"
     },
     "execution_count": 559,
     "metadata": {},
     "output_type": "execute_result"
    }
   ],
   "source": [
    "name = \"tom\"\n",
    "\"{name!r}\",\"{name%r}\",f\"{name!r}\" # f\"{name%r}\"报错"
   ],
   "metadata": {
    "collapsed": false
   }
  },
  {
   "cell_type": "markdown",
   "source": [
    "下面all函数对字典的操作，输出为True的有（）下面all函数对字典的操作，输出为True的有（BD）\n",
    "\n",
    "A、\n",
    "\n",
    "print(all({0: 'True', 1: 'True'}))\n",
    "B、\n",
    "\n",
    "print(all({1: 'False', 2: 'True'}))\n",
    "C、\n",
    "\n",
    "print(all({1: 'True', False: 2}))\n",
    "D、\n",
    "\n",
    "print(all({'0': 'True'}))"
   ],
   "metadata": {
    "collapsed": false
   }
  },
  {
   "cell_type": "markdown",
   "source": [
    "all() 函数用于判断给定的可迭代参数 iterable 中的所有元素是否都为 TRUE，如果是返回 True，否则返回 False。"
   ],
   "metadata": {
    "collapsed": false
   }
  },
  {
   "cell_type": "markdown",
   "source": [
    "AD:\n",
    "字典对象将检查所有键值，第一个键值为0，返回false\n",
    "BC:\n",
    "键值全部不为0，返回True"
   ],
   "metadata": {
    "collapsed": false
   }
  },
  {
   "cell_type": "markdown",
   "source": [
    "下列构造文件路径的方式，符合《华为Python语言编程规范》中“文件”章节的要求和建议的有（BC）\n",
    "\n",
    "A、\n",
    "\n",
    "import os\n",
    "\n",
    "\n",
    "file_name = 'tmp.txt'\n",
    "file_path = os.getcwd() + '\\\\' + file_name\n",
    "B、\n",
    "\n",
    "import os\n",
    "\n",
    "\n",
    "file_name = 'tmp.txt'\n",
    "file_path = os.getcwd() + os.sep + file_name\n",
    "C、\n",
    "\n",
    "from pathlib import Path\n",
    "\n",
    "\n",
    "file_name = 'tmp.txt'\n",
    "file_path = Path(Path.cwd(), file_name)\n",
    "D、\n",
    "\n",
    "from pathlib import Path\n",
    "\n",
    "\n",
    "file_name = 'tmp.txt'\n",
    "file_path = Path(Path.cwd()) / file_name"
   ],
   "metadata": {
    "collapsed": false
   }
  },
  {
   "cell_type": "markdown",
   "source": [
    "A:\n",
    "G.FIO.05 构造文件路径时应屏蔽操作系统的差异，建议使用库函数辅助构造\n",
    "使用'\\'进行路径拼接会导致其路径在win系统无法使用\n",
    "BC:【正例】包含，使用OS和pathlib函数构造路径\n",
    "D:\n",
    "同A\n"
   ],
   "metadata": {
    "collapsed": false
   }
  },
  {
   "cell_type": "markdown",
   "source": [
    "以下哪些变量定义语句执行时会产生异常？（CD ）\n",
    "\n",
    "A、\n",
    "\n",
    "a = 100, 200, 300\n",
    "B、\n",
    "\n",
    "a = b = c = 10\n",
    "C、\n",
    "\n",
    "a, b = 100, 300, 500\n",
    "D、\n",
    "\n",
    "a = 10 20"
   ],
   "metadata": {
    "collapsed": false
   }
  },
  {
   "cell_type": "markdown",
   "source": [
    "A选项\n",
    "这种写法会自动转换为一个元组，不会报错"
   ],
   "metadata": {
    "collapsed": false
   }
  },
  {
   "cell_type": "markdown",
   "source": [
    "以下哪些选项输出结果为True ( AB)\n",
    "\n",
    "A、\n",
    "\n",
    "print(2 == 0 or True)\n",
    "B、\n",
    "\n",
    "print(2 != 0 or True)\n",
    "C、\n",
    "\n",
    "print(str(2) and str(0) or True)\n",
    "D、\n",
    "\n",
    "print(str(2) or str(0) or True)"
   ],
   "metadata": {
    "collapsed": false
   }
  },
  {
   "cell_type": "markdown",
   "source": [
    "A\n",
    "Fales or True -> True\n",
    "B\n",
    "True or True -> True\n",
    "C\n",
    "'0' or True -> '0'\n",
    "D\n",
    "'2' or True -> '2'\n",
    "\n",
    "'' or True -> True\n",
    "'' or False -> ''"
   ],
   "metadata": {
    "collapsed": false
   }
  },
  {
   "cell_type": "markdown",
   "source": [
    "下列哪些选项符合《华为Python语言编程规范》中“类与面向对象”章节的原则、要求和建议（ACD）\n",
    "```\n",
    "A、\n",
    "\n",
    "class Summation:\n",
    "    def __init__(self, base):\n",
    "        self._base = base\n",
    "\n",
    "    def add(self, a: int):\n",
    "        self._base += a\n",
    "B、\n",
    "\n",
    "class Addition:\n",
    "    def add(self, a: int, b: int) -> int:\n",
    "        return a + b\n",
    "C、\n",
    "\n",
    "class Addition:\n",
    "    @staticmethod\n",
    "    def add(a: int, b: int) -> int:\n",
    "        return a + b\n",
    "D、\n",
    "\n",
    "from abc import ABC, abstractmethod\n",
    "\n",
    "\n",
    "class Base(ABC):\n",
    "    def __init__(self, base):\n",
    "        self._base = base\n",
    "\n",
    "    @abstractmethod\n",
    "    def cal(self, a, b):\n",
    "        pass\n",
    "\n",
    "\n",
    "class Addition(Base):\n",
    "    def cal(self, a, b):\n",
    "        return a + b\n",
    "```"
   ],
   "metadata": {
    "collapsed": false
   }
  },
  {
   "cell_type": "markdown",
   "source": [
    "B:\n",
    "G.CLS.07 类的方法不需要访问实例时，建议定义为staticmethod或classmethod\n",
    "D:\n",
    "G.CLS.04 建议在实现抽象类时使用abc模块\n",
    "\n"
   ],
   "metadata": {
    "collapsed": false
   }
  },
  {
   "cell_type": "markdown",
   "source": [
    "抽象类是面向对象程序设计中的一个重要概念。它是一种特殊的类，只能被继承，不能被实例化。抽象类通常包含一个或多个抽象方法，这些方法只有声明，没有具体的实现。子类必须实现这些抽象方法，否则它们也将成为抽象类。\n",
    "\n",
    "在 Python 中，可以使用 `abc` 模块来定义抽象类。例如，下面是一个简单的抽象类的例子：\n",
    "\n",
    "```python\n",
    "from abc import ABC, abstractmethod\n",
    "\n",
    "class Shape(ABC):\n",
    "    @abstractmethod\n",
    "    def area(self):\n",
    "        pass\n",
    "\n",
    "    @abstractmethod\n",
    "    def perimeter(self):\n",
    "        pass\n",
    "```\n",
    "\n",
    "在这个例子中，我们定义了一个名为 `Shape` 的抽象类，它包含两个抽象方法：`area` 和 `perimeter`。这些方法没有具体的实现，因此子类必须实现它们。\n",
    "\n",
    "总之，抽象类是一种特殊的类，它提供了一种定义接口的方式。子类必须实现抽象类中的所有抽象方法，否则它们也将成为抽象类。这样可以确保子类遵循特定的接口规范。"
   ],
   "metadata": {
    "collapsed": false
   }
  },
  {
   "cell_type": "markdown",
   "source": [
    "下面哪些表达式结果的数据类型为int（ABD）\n",
    "\n",
    "A、\n",
    "\n",
    "0xacd\n",
    "B、\n",
    "\n",
    "12_00\n",
    "C、\n",
    "\n",
    "float(3)\n",
    "D、\n",
    "\n",
    "0b1011"
   ],
   "metadata": {
    "collapsed": false
   }
  },
  {
   "cell_type": "markdown",
   "source": [
    "\n",
    "\n",
    "- 表达式 A：`0xacd` 是一个十六进制整数，它的十进制值为 `2765`。\n",
    "- 表达式 B：`12_00` 是一个整数，其中的下划线只是为了提高可读性，它的值为 `1200`。\n",
    "- 表达式 C：`float(3)` 将整数 `3` 转换为浮点数，结果为 `3.0`。\n",
    "- 表达式 D：`0b1011` 是一个二进制整数，它的十进制值为 `11`。\n"
   ],
   "metadata": {
    "collapsed": false
   }
  },
  {
   "cell_type": "markdown",
   "source": [
    "下面哪些表达式操作可以将x = ['a', 'b'] 转变为['a', 'b', 'c', 'd']（ABD）\n",
    "\n",
    "A、\n",
    "\n",
    "x.extend(['c', 'd'])\n",
    "B、\n",
    "\n",
    "x += ['c', 'd']\n",
    "C、\n",
    "\n",
    "x.append(['c', 'd'])\n",
    "D、\n",
    "\n",
    "x += \"cd\""
   ],
   "metadata": {
    "collapsed": false
   }
  },
  {
   "cell_type": "markdown",
   "source": [
    "D:\n",
    "[+=可以视为串联赋值](https://python-reference.readthedocs.io/en/latest/docs/operators/concatenation_assignment.html)"
   ],
   "metadata": {
    "collapsed": false
   }
  },
  {
   "cell_type": "markdown",
   "source": [
    "关于下面的代码的输出，正确的是（B）\n",
    "\n",
    "language = b\"Chinese\"\n",
    "print(language)\n",
    "print(type(language))\n",
    "print(str(language))\n",
    "print(type(str(language)))"
   ],
   "metadata": {
    "collapsed": false
   }
  },
  {
   "cell_type": "code",
   "execution_count": 560,
   "outputs": [
    {
     "name": "stdout",
     "output_type": "stream",
     "text": [
      "b'Chinese'\n",
      "<class 'bytes'>\n",
      "b'Chinese'\n",
      "<class 'str'>\n"
     ]
    }
   ],
   "source": [
    "language = b\"Chinese\"\n",
    "print(language)\n",
    "print(type(language))\n",
    "print(str(language))\n",
    "print(type(str(language)))"
   ],
   "metadata": {
    "collapsed": false
   }
  },
  {
   "cell_type": "markdown",
   "source": [
    "1. b\"Chinese\"为字节串而不是字符串，字节串的print输出都会以b开头，编码形式为ASCII\n",
    "2. str函数直接对字节串进行转换的时候，默认为ASCII编码，不会有任何变化\n",
    "3. 如果想要输出Chinese，那么str(language, encoding='utf-8')，指定编码方式即可\n"
   ],
   "metadata": {
    "collapsed": false
   }
  },
  {
   "cell_type": "markdown",
   "source": [
    "下述哪个选项的代码符合《华为Python语言编程规范》中“函数与方法”章节的要求和建议（D）\n",
    "```\n",
    "A、\n",
    "\n",
    "def division(x, y):\n",
    "    if y != 0:\n",
    "        print(x / y)\n",
    "\n",
    "result = division(1, 2)\n",
    "B、\n",
    "\n",
    "def division(x, y):\n",
    "    if abs(y) > 1e-5:\n",
    "        print(x / y)\n",
    "\n",
    "result = division(1, 2)\n",
    "C、\n",
    "\n",
    "def division(x, y):\n",
    "    try:\n",
    "        print(x / y)\n",
    "    except ZeroDivisionError:\n",
    "        print('除数不能为0')\n",
    "\n",
    "result = division(1, 2)\n",
    "D、\n",
    "\n",
    "def division(x, y):\n",
    "    if y != 0:\n",
    "        print(x / y)\n",
    "\n",
    "division(1, 2)\n",
    "```"
   ],
   "metadata": {
    "collapsed": false
   }
  },
  {
   "cell_type": "markdown",
   "source": [
    "G.FNM.04 不要将没有返回值的函数调用结果赋值给变量\n",
    "division返回为空值，直接执行即可，不应赋值给新变量\n",
    "\n",
    "此外\n",
    "G.EXP.01 尽可能使用隐式布尔值\n",
    "if y != 0使用if y代替更好\n",
    "从这个角度来看，是没有正确选项的\n",
    "推荐写法如下\n",
    "```python\n",
    "def division(x, y):\n",
    "    try:\n",
    "        print(x / y)\n",
    "    except ZeroDivisionError:\n",
    "        return False\n",
    "    return True\n",
    "\n",
    "result = division(1, 2)\n",
    "```\n",
    "\n",
    "\n"
   ],
   "metadata": {
    "collapsed": false
   }
  },
  {
   "cell_type": "markdown",
   "source": [
    "下列哪个选项符合《华为Python语言编程规范》中“类与面向对象”章节的原则、要求和建议（C）\n",
    "\n",
    "\n",
    "```\n",
    "A、\n",
    "\n",
    "import sys\n",
    "\n",
    "\n",
    "class Base:\n",
    "    def __init__(self):\n",
    "        self.running = False\n",
    "\n",
    "    def start(self):\n",
    "        self.running = True\n",
    "\n",
    "\n",
    "class Addition(Base):\n",
    "    def start(self, a, b):\n",
    "        super().start()\n",
    "        result = a + b\n",
    "        sys.stdout.write(str(result))\n",
    "B、\n",
    "\n",
    "import sys\n",
    "\n",
    "\n",
    "class Base:\n",
    "    def __init__(self):\n",
    "        self.running = False\n",
    "\n",
    "    def start(self, *args):\n",
    "        self.running = True\n",
    "\n",
    "\n",
    "class Addition(Base):\n",
    "    def __init__(self):\n",
    "        self.running = False\n",
    "\n",
    "    def start(self, *args):\n",
    "        super().start(*args)\n",
    "        result = sum(*args)\n",
    "        sys.stdout.write(str(result))\n",
    "C、\n",
    "\n",
    "import sys\n",
    "\n",
    "\n",
    "class Base:\n",
    "    def __init__(self):\n",
    "        self.running = False\n",
    "\n",
    "    def start(self, *args):\n",
    "        self.running = True\n",
    "\n",
    "\n",
    "class Addition(Base):\n",
    "    def start(self, *args):\n",
    "        super().start(*args)\n",
    "        result = sum(*args)\n",
    "        sys.stdout.write(str(result))\n",
    "D、\n",
    "\n",
    "import sys\n",
    "\n",
    "\n",
    "class Base:\n",
    "    def __init__(self):\n",
    "        self.running = False\n",
    "\n",
    "    def start(self, *args):\n",
    "        self.running = True\n",
    "\n",
    "\n",
    "class Addition(Base):\n",
    "    def __init__(self):\n",
    "        Base.__init__(self)\n",
    "        self.running = True\n",
    "```"
   ],
   "metadata": {
    "collapsed": false
   }
  },
  {
   "cell_type": "markdown",
   "source": [
    "A错误\n",
    "于其他函数相比，直接相加局限性太大（个人理解）\n",
    "B\n",
    "G.CLS.01 反例\n",
    "父类已经定义running的情况下，重复定义会导致父类初始化过程遗漏\n",
    "class Base:\n",
    "    def __init__(self):\n",
    "        super.__init__()\n",
    "        self.running = False\n",
    "D\n",
    "G.CLS.05 子类调用父类初始化方法的方式，建议使用super类辅助\n",
    "避免菱形继承"
   ],
   "metadata": {
    "collapsed": false
   }
  },
  {
   "cell_type": "code",
   "execution_count": 561,
   "outputs": [
    {
     "name": "stdout",
     "output_type": "stream",
     "text": [
      "(0, 1, 2)\n"
     ]
    }
   ],
   "source": [
    "def func():\n",
    "    yield (x for x in range(3))\n",
    "\n",
    "\n",
    "for x in func():\n",
    "    print(tuple(x))"
   ],
   "metadata": {
    "collapsed": false
   }
  },
  {
   "cell_type": "markdown",
   "source": [
    "```\n",
    "class Shape:\n",
    "    def __init__(self, name):\n",
    "        self.name = name\n",
    "\n",
    "\n",
    "class Rectangle(Shape):\n",
    "    def __init__(self, length, width):\n",
    "        super().__init__('Rectangle')\n",
    "        self._length = length\n",
    "        self._width = width\n",
    "\n",
    "    def area(self):\n",
    "        return self._length * self._width\n",
    "\n",
    "\n",
    "class Square(Rectangle):\n",
    "    def __init__(self, length):\n",
    "    ______________ # 请从选项中选择合适的代码\n",
    "\n",
    "square = Square(5)\n",
    "print(square.name)\n",
    "```\n",
    "下列哪些选项中的代码单独填入到横线处时，可以使得以上代码执行后的输出结果为Square？（ ACD）"
   ],
   "metadata": {
    "collapsed": false
   }
  },
  {
   "cell_type": "markdown",
   "source": [
    "A、\n",
    "\n",
    "super().__init__(length, length)\n",
    "Shape.__init__(self, 'Square')\n",
    " B、\n",
    "\n",
    "self._name = 'Square'\n",
    "super().__init__(length, length)\n",
    " C、\n",
    "\n",
    "super(Square, self).__init__(length, length)\n",
    "super(Rectangle, self).__init__('Square')\n",
    " D、\n",
    "\n",
    "super().__init__(length, length)\n",
    "super(Rectangle, self).__init__('Square')"
   ],
   "metadata": {
    "collapsed": false
   }
  },
  {
   "cell_type": "markdown",
   "source": [
    "继承顺序Square->Rectangle->Shape\n",
    "注意到Rectangle 的init函数会将name命名为Rectangle\n",
    "\n",
    "A:正确\n",
    "Shape.__init__(self, 'Square')直接调用父类并指定名称\n",
    "B:错误\n",
    "self._name 不是name变量，不改变结果，依旧输出Rectangle\n",
    "C:正确\n",
    "super(Rectangle, self).__init__('Square')\n",
    "指的是调用Rectangle父类的方法，也就是shape的init方法\n",
    "D:正确\n",
    "于C区别不大\n"
   ],
   "metadata": {
    "collapsed": false
   }
  },
  {
   "cell_type": "markdown",
   "source": [
    "以下哪些选项的代码执行之后，s是一个包含'a', 'b', 'c'三个字符元素的集合（set）（ABE ）\n",
    "A、\n",
    "\n",
    "s = set('abc')\n",
    " B、\n",
    "\n",
    "s = {'a', 'b', 'c'}\n",
    " C、\n",
    "\n",
    "s = {('a', 'b', 'c')}\n",
    " D、\n",
    "\n",
    "s = set('a', 'b', 'c')\n",
    " E、\n",
    "\n",
    "s = set(['a', 'b', 'c'])"
   ],
   "metadata": {
    "collapsed": false
   }
  },
  {
   "cell_type": "markdown",
   "source": [
    "A:\n",
    "set 函数接受一个可迭代对象作为参数，并从中提取元素以创建集合。字符串是一个可迭代对象,所以会正确输出\n",
    "B:\n",
    "集合的定义\n",
    "C:\n",
    "这是一个单元素集合\n",
    "D:\n",
    "报错，对象数量超过1个\n",
    "E:\n",
    "见A"
   ],
   "metadata": {
    "collapsed": false
   }
  },
  {
   "cell_type": "markdown",
   "source": [
    "以下含有多行的代码，可以正常执行的有（BCD ）\n",
    "```\n",
    "A.\n",
    "\n",
    " s = 'a' + 'b'\n",
    "     + 'c' + 'd'\n",
    "     + 'e' + 'f'\n",
    "B.\n",
    "\n",
    " s = 'a' + 'b' \\\n",
    "     + 'c' + 'd' \\\n",
    "     + 'e' + 'f'\n",
    "C.\n",
    "\n",
    " s = ('a' + 'b'\n",
    "     + 'c' + 'd'\n",
    "     + 'e' + 'f')\n",
    "D.\n",
    "\n",
    " s = 'a' + 'b' \\\n",
    "     + 'c' + 'd' \\\n",
    "     + 'e' + 'f' \\\n",
    "```"
   ],
   "metadata": {
    "collapsed": false
   }
  },
  {
   "cell_type": "markdown",
   "source": [
    "反斜杠（\\）用于在 Python 中表示续行,末尾有不会报错"
   ],
   "metadata": {
    "collapsed": false
   }
  },
  {
   "cell_type": "markdown",
   "source": [
    "在linux环境中，为了能够import在/my_path路径下的包(package)，以下做法不符合《华为Python语言编程规范》中“标准库”章节的要求和建议的有（BCD）\n",
    "\n",
    "A.\n",
    "\n",
    "运行代码前，在bash中执行export PYTHONPATH=$PYTHONPATH:/my_path\n",
    "\n",
    "B.\n",
    "\n",
    "在代码中添加\n",
    "\n",
    " sys.path.insert(0, './')\n",
    " sys.path.insert(0, './my_path')\n",
    "C.\n",
    "\n",
    "在代码中添加sys.path = ['/my_path']\n",
    "\n",
    "D.\n",
    "\n",
    "在代码中添加sys.path.insert(0, '/my_path')"
   ],
   "metadata": {
    "collapsed": false
   }
  },
  {
   "cell_type": "markdown",
   "source": [
    "G.PSL.03 修改sys.path时注意避免模块重名问题\n",
    "\n",
    "1. 在修改sys.path时注意避免模块重名导致的导入失败，建议使用sys.path.append代替sys.path.insert(0, my_directory)。\n",
    "2. 除此之外，也可以在运行python进程前，修改系统PYTHONPATH环境变量达到相同的目的。\n",
    "3. 建议以项目或子项目的根目录作为待添加入sys.path的路径"
   ],
   "metadata": {
    "collapsed": false
   }
  },
  {
   "cell_type": "markdown",
   "source": [
    "有如下的文件结构：\n",
    "```\n",
    " .\n",
    " ├── test1.py\n",
    " └── tests\n",
    "     ├── __init__.py\n",
    "     ├── test2.py\n",
    "     └── test3.py\n",
    "在test2.py中，以下几个包导入操作可以正确执行的有（AB）\n",
    "\n",
    "A.\n",
    "\n",
    "from . import test3\n",
    "B.\n",
    "\n",
    "from . import *\n",
    "C.\n",
    "\n",
    "from ..tests import test3\n",
    "D.\n",
    "\n",
    "import test3\n",
    "```"
   ],
   "metadata": {
    "collapsed": false
   }
  },
  {
   "cell_type": "markdown",
   "source": [
    "ABC均为从相对目录导入，但是C是从上级目录导入，题目中当前目录为tests文件夹内，所以AB成功，C失败\n",
    "D属于直接从系统目录导入"
   ],
   "metadata": {
    "collapsed": false
   }
  },
  {
   "cell_type": "code",
   "execution_count": 562,
   "outputs": [
    {
     "name": "stdout",
     "output_type": "stream",
     "text": [
      "bar Hello Hello\n",
      "True\n",
      "bar Hello Hello\n",
      "True\n"
     ]
    }
   ],
   "source": [
    "class Foo:\n",
    "    def __init__(self, name):\n",
    "        self._name = name\n",
    "\n",
    "    def __str__(self):\n",
    "        return self._name\n",
    "\n",
    "    def __eq__(self, other):\n",
    "        print('foo', self, other)\n",
    "        return self is other\n",
    "\n",
    "\n",
    "class Bar(Foo):\n",
    "    def __eq__(self, other):\n",
    "        print('bar', self, other)\n",
    "        return str(self) == str(other)\n",
    "\n",
    "\n",
    "foo = Foo('Hello')\n",
    "bar = Bar('Hello')\n",
    "print(foo == bar)\n",
    "print(bar == foo)"
   ],
   "metadata": {
    "collapsed": false
   }
  },
  {
   "cell_type": "markdown",
   "source": [
    "- 上面这段代码，Bar继承了Foo，并重新定义了__eq__，因此，Foo的__eq__会被Bar的__eq__重写（Method Overriding），无论调用父类还是子类，执行的都是子类的方法。\n",
    "- 需要注意的是，这个是__eq__函数的特殊情况，因为__eq__同时涉及到了两个类，常规情况下，只声明Foo，其同名函数并不会被重写"
   ],
   "metadata": {
    "collapsed": false
   }
  },
  {
   "cell_type": "code",
   "execution_count": 563,
   "outputs": [
    {
     "name": "stdout",
     "output_type": "stream",
     "text": [
      "3 "
     ]
    }
   ],
   "source": [
    "def func(x):\n",
    "    x = yield x\n",
    "    x = yield x\n",
    "\n",
    "\n",
    "m = func(3)\n",
    "for x in m:\n",
    "    print(x, end=' ')\n",
    "    m.send(0)"
   ],
   "metadata": {
    "collapsed": false
   }
  },
  {
   "cell_type": "markdown",
   "source": [
    "如下表达式的值为False的有(ACD)\n",
    "\n",
    " A、{3, 5, 4} < {4, 3, 5}\n",
    "\n",
    " B、{5, 3} < {4, 3, 5}\n",
    "\n",
    " C、{3, 5, 4} > {4, 3, 5}\n",
    "\n",
    " D、{3, 5, 6} > {4, 3, 5}\n",
    " <用于判断集合是否为其子集"
   ],
   "metadata": {
    "collapsed": false
   }
  },
  {
   "cell_type": "markdown",
   "source": [
    "在 Python 中，`<` 运算符用于比较两个对象的值。如果第一个对象小于第二个对象，则返回 `True`。否则，返回 `False`。但是，当 `<` 运算符用于比较不同类型的对象时，它的行为可能会有所不同。\n",
    "\n",
    "- 对于数字类型（如整数和浮点数），`<` 运算符按照数学规则进行比较。例如，表达式 `3 < 4.0` 返回 `True`，因为整数 3 小于浮点数 4.0。\n",
    "\n",
    "```python\n",
    "print(3 < 4.0) # True\n",
    "```\n",
    "\n",
    "- 对于字符串类型，`<` 运算符按照字典顺序进行比较。例如，表达式 `'cat' < 'dog'` 返回 `True`，因为字符串 `'cat'` 在字典中排在字符串 `'dog'` 之前。\n",
    "\n",
    "```python\n",
    "print('cat' < 'dog') # True\n",
    "```\n",
    "\n",
    "- 对于列表和元组类型，`<` 运算符按照元素顺序进行比较。例如，表达式 `[1, 2] < [1, 3]` 返回 `True`，因为列表 `[1, 2]` 的第二个元素小于列表 `[1, 3]` 的第二个元素。\n",
    "\n",
    "```python\n",
    "print([1, 2] < [1, 3]) # True\n",
    "```\n",
    "\n",
    "- 对于集合类型，`<` 运算符用于判断一个集合是否是另一个集合的子集。例如，表达式 `{1, 2} < {1, 2, 3}` 返回 `True`，因为集合 `{1, 2}` 是集合 `{1, 2, 3}` 的子集。\n",
    "\n",
    "```python\n",
    "print({1, 2} < {1, 2, 3}) # True\n",
    "```\n",
    "\n",
    "然而，当 `<` 运算符用于比较不同类型的对象时，它的行为可能会引发 `TypeError`。例如，表达式 `3 < 'cat'` 将引发错误，因为整数和字符串不能直接进行比较。\n",
    "\n",
    "```python\n",
    "try:\n",
    "    print(3 < 'cat')\n",
    "except TypeError as e:\n",
    "    print(e) # '<' not supported between instances of 'int' and 'str'\n",
    "```"
   ],
   "metadata": {
    "collapsed": false
   }
  },
  {
   "cell_type": "code",
   "execution_count": 564,
   "outputs": [
    {
     "name": "stdout",
     "output_type": "stream",
     "text": [
      "True\n",
      "False\n"
     ]
    }
   ],
   "source": [
    "# 以下代码的输出结果是（ B）\n",
    "\n",
    "class Foo:\n",
    "    @classmethod\n",
    "    def create_one(cls):\n",
    "        return cls()\n",
    "\n",
    "    @staticmethod\n",
    "    def create_two():\n",
    "        return Foo()\n",
    "\n",
    "\n",
    "class Bar(Foo):\n",
    "    pass\n",
    "\n",
    "\n",
    "bar_one = Bar.create_one()\n",
    "bar_two = Bar.create_two()\n",
    "print(isinstance(bar_one, Bar))\n",
    "print(isinstance(bar_two, Bar))"
   ],
   "metadata": {
    "collapsed": false
   }
  },
  {
   "cell_type": "markdown",
   "source": [
    "\n",
    "`bar_one` 是通过 `Bar.create_one()` 创建的，它是一个 `Bar` 类的实例。`create_one` 是一个类方法，它接收类本身作为第一个参数，因此 `cls()` 等价于 `Bar()`。\n",
    "\n",
    "`bar_two` 是通过 `Bar.create_two()` 创建的，它是一个 `Foo` 类的实例。`create_two` 是一个静态方法，它不接收类本身作为参数，因此 `Foo()` 总是创建一个 `Foo` 类的实例，而不管它是从哪个类调用的。\n",
    "\n",
    "因此，`isinstance(bar_one, Bar)` 返回 `True`，而 `isinstance(bar_two, Bar)` 返回 `False`。"
   ],
   "metadata": {
    "collapsed": false
   }
  },
  {
   "cell_type": "markdown",
   "source": [
    "下述哪个选项的代码符合《华为Python语言编程规范》中“函数与方法”章节的要求和建议（B）\n",
    "```\n",
    "A、\n",
    "\n",
    "def fun(arg_0, arg_1='', arg_2=[]):\n",
    "    arg_2.append(arg_0)\n",
    "    arg_2.append(arg_1)\n",
    "    print(arg_2)\n",
    "B、\n",
    "\n",
    "def fun(arg_0, arg_1='', arg_2=None):\n",
    "    arg_2 = [] if arg_2 is None else arg_2\n",
    "    arg_2.append(arg_0)\n",
    "    arg_2.append(arg_1)\n",
    "    print(arg_2)\n",
    "C、\n",
    "\n",
    "def fun(arg_0, arg_1='', arg_2={}):\n",
    "    arg_2.update({\"arg_0\": arg_0})\n",
    "    arg_2.update({\"arg_1\": arg_1})\n",
    "    print(arg_2)\n",
    "D、\n",
    "\n",
    "def fun(arg_0, arg_1='', arg_2=set()):\n",
    "    arg_2.add(arg_0)\n",
    "    arg_2.add(arg_1)\n",
    "    print(arg_2)\n",
    "```"
   ],
   "metadata": {
    "collapsed": false
   }
  },
  {
   "cell_type": "markdown",
   "source": [
    "G.FNM.01 禁止使用可变对象作为参数默认值\n",
    "字典，集合，列表均为可变对象"
   ],
   "metadata": {
    "collapsed": false
   }
  },
  {
   "cell_type": "code",
   "execution_count": 565,
   "outputs": [
    {
     "name": "stdout",
     "output_type": "stream",
     "text": [
      "2\n"
     ]
    }
   ],
   "source": [
    "def func(a, *b):\n",
    "    for item in b:\n",
    "        a += item\n",
    "    return a\n",
    "\n",
    "\n",
    "m = 0\n",
    "print(func(m, 1, 1))"
   ],
   "metadata": {
    "collapsed": false
   }
  },
  {
   "cell_type": "markdown",
   "source": [
    "现有numbers = [1, 2, 3]，则以下代码哪些的运行结果是[2]（BD）\n",
    "\n",
    "A、\n",
    "\n",
    "print(list(filter(lambda x: x > 1, numbers)))\n",
    "B、\n",
    "\n",
    "print(list(filter(lambda x: x % 2 == 0, numbers)))\n",
    "C、\n",
    "\n",
    "print(list(filter(lambda x: 2, numbers)))\n",
    "D、\n",
    "\n",
    "print(list(filter(lambda x: (x + 1) % 3 == 0, numbers)))\n"
   ],
   "metadata": {
    "collapsed": false
   }
  },
  {
   "cell_type": "markdown",
   "source": [
    "filter函数会将所有lambda函数返回为真的留下来\n",
    "A [2,3]\n",
    "B 2\n",
    "C [1,2,3]\n",
    "D [2]"
   ],
   "metadata": {
    "collapsed": false
   }
  },
  {
   "cell_type": "markdown",
   "source": [
    "以下哪个选项符合《华为Python语言编程规范》中“异常处理”章节的要求和建议（C）\n",
    "\n",
    "```\n",
    "\n",
    "A、\n",
    "\n",
    "try:\n",
    "    do_something()\n",
    "except SomeException:\n",
    "    raise\n",
    "except Exception as e:\n",
    "    do_something(e)\n",
    "B、\n",
    "\n",
    "def control_statement_in_finally(param):\n",
    "    ret = -1\n",
    "    try:\n",
    "        ret = 1 / param\n",
    "    finally:\n",
    "        return ret\n",
    "C、\n",
    "\n",
    "def control_statement_in_finally(param):\n",
    "    ret = -1\n",
    "    try:\n",
    "        ret = 1 / param\n",
    "    except ZeroDivisionError:\n",
    "        do_something()\n",
    "    finally:\n",
    "        do_finally()\n",
    "    return ret\n",
    "D、\n",
    "\n",
    "try:\n",
    "    fp = open('test_read.txt', encoding='utf8')\n",
    "    print(fp.read())\n",
    "except FileNotFoundError:\n",
    "    pass\n",
    "except UnicodeDecodeError:\n",
    "    pass\n",
    "finally:\n",
    "    fp.close()\n",
    "```"
   ],
   "metadata": {
    "collapsed": false
   }
  },
  {
   "cell_type": "markdown",
   "source": [
    "A\n",
    "G.ERR.06 raise语句必须包含异常实例\n",
    "raise 如果不返回异常，则会默认抛出RuntimeError，丢失了原始错误调用栈信息。\n",
    "B\n",
    "G.ERR.14不要使用return、break、continue或抛出异常使finally块非正常结束\n",
    "try后未对错误进行处理，导致即使出现错误也会继续执行finally语句，导致无法捕获错误\n",
    "D\n",
    "G.ERR.07 避免抑制或忽略异常\n",
    "编码时应尽量避免捕获一个异常但什么都不做的情况"
   ],
   "metadata": {
    "collapsed": false
   }
  },
  {
   "cell_type": "markdown",
   "source": [
    "已知：x = [ 4, 1, 0, 3, 5]， 下面哪些表达式操作可以将 x转变为[ 4, 1, 3, 5]（BCD）\n",
    "```\n",
    "A、\n",
    "\n",
    "x[2] = []\n",
    "B、\n",
    "\n",
    "del x[2]\n",
    "C、\n",
    "\n",
    "x.remove(0)\n",
    "D、\n",
    "\n",
    "x[2:3] = []\n",
    "```"
   ],
   "metadata": {
    "collapsed": false
   }
  },
  {
   "cell_type": "code",
   "execution_count": 566,
   "outputs": [
    {
     "name": "stdout",
     "output_type": "stream",
     "text": [
      "B's __new__() invoked\n",
      "A's __new__() invoked\n",
      "A's __init__() invoked\n"
     ]
    }
   ],
   "source": [
    "class A:\n",
    "    def __new__(self):\n",
    "        print(\"A's __new__() invoked\")\n",
    "        return object.__new__(self)\n",
    "\n",
    "    def __init__(self):\n",
    "        print(\"A's __init__() invoked\")\n",
    "\n",
    "\n",
    "class B(A):\n",
    "    def __new__(self):\n",
    "        print(\"B's __new__() invoked\")\n",
    "\n",
    "    def __init__(self):\n",
    "        print(\"B's __init__() invoked\")\n",
    "\n",
    "\n",
    "obj1 = B()\n",
    "obj2 = A()"
   ],
   "metadata": {
    "collapsed": false
   }
  },
  {
   "cell_type": "markdown",
   "source": [
    "请认真阅读这段代码\n",
    "这里的B类继承了A，\n",
    "\n",
    "- object 类是 Python 中所有类的基类，它提供了一些基本方法，包括 __new__ 方法\n",
    "- __new__ 方法是一个静态方法，它负责创建并返回一个新的对象\n",
    "- 因此A类的__new__返回自己为对象的类\n",
    "- 但是对于B类，由于B类并未返回任何值，所以B类将无法执行__init__函数（相当于重写了object的new）\n",
    "- __new__先于__init__执行，这里obj1将只输出B's __new__() invoked\n",
    "- obj2将正常执行"
   ],
   "metadata": {
    "collapsed": false
   }
  },
  {
   "cell_type": "code",
   "execution_count": 566,
   "outputs": [],
   "source": [],
   "metadata": {
    "collapsed": false
   }
  }
 ],
 "metadata": {
  "kernelspec": {
   "display_name": "Python 3",
   "language": "python",
   "name": "python3"
  },
  "language_info": {
   "codemirror_mode": {
    "name": "ipython",
    "version": 2
   },
   "file_extension": ".py",
   "mimetype": "text/x-python",
   "name": "python",
   "nbconvert_exporter": "python",
   "pygments_lexer": "ipython2",
   "version": "2.7.6"
  }
 },
 "nbformat": 4,
 "nbformat_minor": 0
}
