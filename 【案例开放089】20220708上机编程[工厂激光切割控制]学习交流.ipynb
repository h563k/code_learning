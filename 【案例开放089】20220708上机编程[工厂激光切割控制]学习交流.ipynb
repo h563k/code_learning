{
 "cells": [
  {
   "cell_type": "markdown",
   "source": [
    "http://3ms.huawei.com/km/groups/3803117/blogs/details/12572965?l=zh-cn"
   ],
   "metadata": {
    "collapsed": false
   }
  },
  {
   "cell_type": "markdown",
   "source": [
    "某工厂使用激光刀切割材料。激光刀具有开启和关闭两种状态，并可转向和移动。支持指令如下：\n",
    "\n",
    "·         O —— 开启激光刀（即 \"OPEN\"），指令执行后激光刀处于开启状态\n",
    "\n",
    "·         C —— 关闭激光刀（即 \"CLOSE\"），指令执行后激光刀处于关闭状态\n",
    "\n",
    "·         M —— 激光刀沿着当前方向前进一段距离（即 \"MOV\")，若激光刀在开启状态下，会同步进行材料切割，否则只移动不切割\n",
    "\n",
    "·         U，D，L，R —— 改变激光刀的前进方向、但不移动（上：U，下：D，左：L，右：R）\n",
    "\n",
    "给定一块高为 height，宽为 width 的材料。初始时，激光刀位于材料左上角，处于关闭状态，前进方向为朝下 (D)。\n",
    "\n",
    "激光刀的操作指令依次记录于字符串 operations，所有 M 指令的移动距离依次记录于数组 distances，distances[i] 表示第 i 个 M 指令的移动距离。\n",
    "\n",
    "请计算完成操作指令后，材料板上被切割出了多少个 1 x 1 的方块。\n",
    "\n",
    "注意：输入数据保证激光刀始终在材料初始范围内，可在材料边上，即：激光刀的位置 [row, col] 始终满足 0 <= row <= height，0 <= col <= width。\n",
    "\n",
    "示例 1：\n",
    "\n",
    "输入：\n",
    "height = 3\n",
    "width = 4\n",
    "operations = \"MRMOMDMLMUMCRMODMC\"\n",
    "distances = [1,1,2,1,2,2,1,2]\n",
    "\n",
    "输出：3\n",
    "\n",
    "解释：operations 中有 8 个 M，对应的移动距离在数组distances中。\n",
    "如图所示，激光刀移动的位置顺序 0->1->2->3->...->8 。其中黄色的线是激光刀开启情形下切割的路径。这样最终图中的 3 个阴影位置是切割所得的 1 x 1 方块。\n",
    "![](./assert/7.png)\n",
    "\n",
    "示例 2：\n",
    "\n",
    "输入：\n",
    "height = 3\n",
    "width = 4\n",
    "operations = \"MRMOMDMLMUMC\"\n",
    "distances = [1,1,2,1,2,2]\n",
    "\n",
    "输出：0\n",
    "\n",
    "解释：如图所示，没有切割出 1 x 1 的方块，故返回 0。\n",
    "注意：下图中切出的是一个 2 x 1 的材料块，不是两个 1 x 1 的方块。\n",
    "![](./assert/8.png)\n",
    "\n",
    "示例 3：\n",
    "\n",
    "输入：\n",
    "height = 3\n",
    "width = 3\n",
    "operations = \"MROMDMLMUMRMDMRMUMLMC\"\n",
    "distances = [1,2,1,2,1,1,1,1,1,1]\n",
    "\n",
    "输出：2\n",
    "\n",
    "提示：\n",
    "\n",
    "·         1 <= height, width <= 100\n",
    "\n",
    "·         0 <= operations.length <= 10^4\n",
    "\n",
    "·         distances.length 等于 operations 中 M 的个数\n",
    "\n",
    "·         operations[i] 仅为 'O'、'C'、'U'、'D'、'L'、'R'、'M'\n",
    "\n",
    "·         一条边可能会被多次切割"
   ],
   "metadata": {
    "collapsed": false
   }
  },
  {
   "cell_type": "code",
   "execution_count": 1,
   "outputs": [],
   "source": [
    "from typing import List"
   ],
   "metadata": {
    "collapsed": false
   }
  },
  {
   "cell_type": "code",
   "execution_count": 2,
   "metadata": {
    "collapsed": true
   },
   "outputs": [],
   "source": [
    "class Solution:\n",
    "    def __init__(self):\n",
    "        self.direction = 'D'  # 初始刀头方向\n",
    "        self.status = 0  # 初始状态\n",
    "        self.dir_dict = {\n",
    "            'U': [0, -1],\n",
    "            'D': [0, 1],\n",
    "            'L': [-1, 0],\n",
    "            'R': [1, 0],\n",
    "        }\n",
    "        self.distances = []\n",
    "        self.count = 0\n",
    "        # 额外增加一个切割边记录\n",
    "        self.cut = []\n",
    "\n",
    "    def get_unit_block_num(self, height: int, width: int, operations: str, distances: List[int]) -> int:\n",
    "        self.distances = [[1] * (width + 1) for _ in range(height + 1)]\n",
    "        row, col = 0, 0\n",
    "        temp = 0\n",
    "        # 默认全部边都切割了\n",
    "        for i in range(height):\n",
    "            self.cut.append([[0, i], [0, i + 1]])\n",
    "            self.cut.append([[width, i], [width, i + 1]])\n",
    "        for i in range(width):\n",
    "            self.cut.append(([i, 0], [i + 1, 0]))\n",
    "            self.cut.append(([i, height], [i + 1, height]))\n",
    "        for num, operation in enumerate(operations):\n",
    "            # 转向\n",
    "            if operation in ['U', 'D', 'L', 'R']:\n",
    "                self.direction = operation\n",
    "            if operation == 'O':\n",
    "                self.status = 1\n",
    "                # 立即切割当前点\n",
    "                self.distances[row][col] = 0\n",
    "            if operation == 'C':\n",
    "                self.status = 0\n",
    "            # 移动\n",
    "            if operation == 'M':\n",
    "                # 确定当前移动方向\n",
    "                dir_col, dir_row = self.dir_dict[self.direction]\n",
    "                distance = distances[temp]\n",
    "                temp += 1\n",
    "                for _ in range(distance):\n",
    "                    temp_row, temp_col = row, col\n",
    "                    row += dir_row\n",
    "                    col += dir_col\n",
    "                    if self.status:\n",
    "                        self.distances[row][col] = 0\n",
    "                        temp_location = [[temp_row, temp_col], [row, col]]\n",
    "                        temp_location.sort()\n",
    "                        self.cut.append(temp_location)\n",
    "        for row in range(height):\n",
    "            for col in range(width):\n",
    "                if self.distances[row][col] == self.distances[row + 1][col] == self.distances[row][col + 1] == \\\n",
    "                        self.distances[row + 1][col + 1] == 0:\n",
    "                    if [[row, col], [row + 1, col]] in self.cut and [[row, col], [row, col + 1]] in self.cut and [\n",
    "                        [row + 1, col], [row + 1, col + 1]] in self.cut and [[row, col + 1],\n",
    "                                                                             [row + 1, col + 1]] in self.cut:\n",
    "                        self.count += 1\n",
    "        return self.count\n"
   ]
  },
  {
   "cell_type": "code",
   "execution_count": 3,
   "outputs": [],
   "source": [
    "height = 3\n",
    "width = 4\n",
    "operations = \"MRMOMDMLMUMCRMODMC\"\n",
    "distances = [1, 1, 2, 1, 2, 2, 1, 2]"
   ],
   "metadata": {
    "collapsed": false
   }
  },
  {
   "cell_type": "code",
   "execution_count": 4,
   "outputs": [],
   "source": [
    "height = 3\n",
    "width = 4\n",
    "operations = \"MRMOMDMLMUMC\"\n",
    "distances = [1,1,2,1,2,2]"
   ],
   "metadata": {
    "collapsed": false
   }
  },
  {
   "cell_type": "code",
   "execution_count": 5,
   "outputs": [],
   "source": [
    "height = 3\n",
    "width = 3\n",
    "operations = \"MROMDMLMUMRMDMRMUMLMC\"\n",
    "distances = [1,2,1,2,1,1,1,1,1,1]"
   ],
   "metadata": {
    "collapsed": false
   }
  },
  {
   "cell_type": "code",
   "execution_count": 6,
   "outputs": [
    {
     "data": {
      "text/plain": "2"
     },
     "execution_count": 6,
     "metadata": {},
     "output_type": "execute_result"
    }
   ],
   "source": [
    "sol = Solution()\n",
    "sol.get_unit_block_num(height, width, operations, distances)"
   ],
   "metadata": {
    "collapsed": false
   }
  }
 ],
 "metadata": {
  "kernelspec": {
   "display_name": "Python 3",
   "language": "python",
   "name": "python3"
  },
  "language_info": {
   "codemirror_mode": {
    "name": "ipython",
    "version": 2
   },
   "file_extension": ".py",
   "mimetype": "text/x-python",
   "name": "python",
   "nbconvert_exporter": "python",
   "pygments_lexer": "ipython2",
   "version": "2.7.6"
  }
 },
 "nbformat": 4,
 "nbformat_minor": 0
}
