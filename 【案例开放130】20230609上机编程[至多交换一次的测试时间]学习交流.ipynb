{
 "cells": [
  {
   "cell_type": "markdown",
   "source": [
    "有一批指示灯，放在正方形的测试仪器 board 中进行测试。 board[i][j] 表示仪器第 i 行 j 列位置上指示灯的型号。\n",
    "\n",
    "现进行测试，仪器依次接收 nums 中的数字，规则如下：\n",
    "\n",
    "l  每接收一个数字， board 中所有型号值等于该数字的指示灯都会点亮；\n",
    "\n",
    "l  当 board 有任意一行或一列被完全点亮时，表示仪器测试完成；\n",
    "\n",
    "l  有 1 次交换 board 中任意两盏指示灯的机会（也可以不使用）。\n",
    "\n",
    "请问仪器最早能在接收第几个数字（从 1 开始计数）时完成测试？\n",
    "\n",
    "示例 1：\n",
    "- <img src=\"data:image/png;base64,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\" >\n",
    "输入：\n",
    "nums = [6,2,2,1,7,5,7,3,4]\n",
    "board = [[4,1,3],[1,2,5],[7,6,2]]\n",
    "\n",
    "输出: 2\n",
    "\n",
    "解释：\n",
    "如下图所示方案，交换 board 中 2和7的位置，即可在接收完 nums[1] = 2 时完整点亮 board 的最后一行。\n",
    "-\n",
    "假设不交换，在接收完 nums[1] 数字后，board的最后一行和中间一列只差一盏灯未点亮，因此只要交换一盏灯，即可在第 2 步完成。\n",
    "\n",
    "示例 2：\n",
    "\n",
    "输入：\n",
    "nums = [8,9,2,7,10,1,1,1,4,5,5,3]\n",
    "board = [[5,9,5,1],[1,4,2,8],[2,8,1,3],[3,1,7,2]]\n",
    "\n",
    "输出: 6\n",
    "\n",
    "解释：\n",
    "其中一种方案如下图所示：\n",
    "- <img src=\"data:image/png;base64,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\" >\n",
    "\n",
    "示例 3：\n",
    "\n",
    "输入：\n",
    "nums = [1,2,3,4,5,6,7,8,9]\n",
    "board = [[7,1,2,8],[4,8,6,3],[9,2,1,7],[4,7,6,5]]\n",
    "\n",
    "输出: 6\n",
    "\n",
    "解释：不需要交换任何指示灯的位置。\n",
    "\n",
    "提示：\n",
    "\n",
    "l 2 <= board.length == board[i].length <= 300，board 中的数字可能重复，且每个数字的重复个数不超过 100\n",
    "\n",
    "l 1 <= nums.length <= 10^5, 1 <= nums[i] <= 10^5，nums 中的数字可能重复\n",
    "\n",
    "l board 中的所有数字在 nums 中都存在，nums 中的数字在 board 中不一定存在\n",
    "\n",
    "l 温馨提醒：暴力解法通过用例不多，请考虑高效的解法"
   ],
   "metadata": {
    "collapsed": false
   }
  },
  {
   "cell_type": "markdown",
   "source": [
    "### 思路\n",
    "- 需要一个快速的方法来点亮对应的灯\n",
    "- 出现一列或者一行为n-1个后，我们直接从任意一处已经点亮的灯交换即可，我们并不关心这个灯在哪，怎么交换"
   ],
   "metadata": {
    "collapsed": false
   }
  },
  {
   "cell_type": "code",
   "execution_count": 82,
   "metadata": {
    "collapsed": true
   },
   "outputs": [],
   "source": [
    "from typing import List\n",
    "import numpy as np\n",
    "\n",
    "\n",
    "class Solution:\n",
    "\n",
    "    def earliest_completed_test(self, nums: List[int], board: List[List[int]]) -> int:\n",
    "        lens = len(board)\n",
    "        board = np.array(board)\n",
    "        light = np.zeros_like(board)\n",
    "        for i, num in enumerate(nums):\n",
    "            temp = np.array(board == num).astype(int)\n",
    "            light += temp\n",
    "            light = light.astype(bool).astype(int)\n",
    "            row_sum = light.sum(axis=0)\n",
    "            col_sum = light.sum(axis=1)\n",
    "            if lens - 1 in row_sum or lens - 1 in col_sum and light.sum() >= lens:\n",
    "                return i + 1\n",
    "        return len(nums)"
   ]
  },
  {
   "cell_type": "code",
   "execution_count": 83,
   "outputs": [],
   "source": [
    "nums = [6,2,2,1,7,5,7,3,4]\n",
    "board = [[4,1,3],[1,2,5],[7,6,2]]"
   ],
   "metadata": {
    "collapsed": false
   }
  },
  {
   "cell_type": "code",
   "execution_count": 84,
   "outputs": [],
   "source": [
    "nums = [8,9,2,7,10,1,1,1,4,5,5,3]\n",
    "board = [[5,9,5,1],[1,4,2,8],[2,8,1,3],[3,1,7,2]]"
   ],
   "metadata": {
    "collapsed": false
   }
  },
  {
   "cell_type": "code",
   "execution_count": 85,
   "outputs": [],
   "source": [
    "nums = [1,2,3,4,5,6,7,8,9]\n",
    "board = [[7,1,2,8],[4,8,6,3],[9,2,1,7],[4,7,6,5]]"
   ],
   "metadata": {
    "collapsed": false
   }
  },
  {
   "cell_type": "code",
   "execution_count": 86,
   "outputs": [
    {
     "data": {
      "text/plain": "6"
     },
     "execution_count": 86,
     "metadata": {},
     "output_type": "execute_result"
    }
   ],
   "source": [
    "sol = Solution()\n",
    "sol.earliest_completed_test(nums,board)"
   ],
   "metadata": {
    "collapsed": false
   }
  }
 ],
 "metadata": {
  "kernelspec": {
   "display_name": "Python 3",
   "language": "python",
   "name": "python3"
  },
  "language_info": {
   "codemirror_mode": {
    "name": "ipython",
    "version": 2
   },
   "file_extension": ".py",
   "mimetype": "text/x-python",
   "name": "python",
   "nbconvert_exporter": "python",
   "pygments_lexer": "ipython2",
   "version": "2.7.6"
  }
 },
 "nbformat": 4,
 "nbformat_minor": 0
}
