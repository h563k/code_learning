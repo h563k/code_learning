{
 "cells": [
  {
   "cell_type": "markdown",
   "source": [
    "有一批指示灯，放在正方形的测试仪器 board 中进行测试。 board[i][j] 表示仪器第 i 行 j 列位置上指示灯的型号。\n",
    "\n",
    "现进行测试，仪器依次接收 nums 中的数字，规则如下：\n",
    "\n",
    "l  每接收一个数字， board 中所有型号值等于该数字的指示灯都会点亮；\n",
    "\n",
    "l  当 board 有任意一行或一列被完全点亮时，表示仪器测试完成；\n",
    "\n",
    "l  有 1 次交换 board 中任意两盏指示灯的机会（也可以不使用）。\n",
    "\n",
    "请问仪器最早能在接收第几个数字（从 1 开始计数）时完成测试？\n",
    "\n",
    "示例 1：\n",
    "\n",
    "输入：\n",
    "nums = [6,2,2,1,7,5,7,3,4]\n",
    "board = [[4,1,3],[1,2,5],[7,6,2]]\n",
    "\n",
    "输出: 2\n",
    "\n",
    "解释：\n",
    "如下图所示方案，交换 board 中 2和7的位置，即可在接收完 nums[1] = 2 时完整点亮 board 的最后一行。\n",
    "- <img src=\"data:image/png;base64,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\" >\n",
    "如下交换方案也是在接收完第 2 个数字时完成：\n",
    "- <img src=\"data:image/png;base64,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\" >\n",
    "假设不交换，在接收完 nums[1] 数字后，board的最后一行和中间一列只差一盏灯未点亮，因此只要交换一盏灯，即可在第 2 步完成。\n",
    "\n",
    "示例 2：\n",
    "\n",
    "输入：\n",
    "nums = [8,9,2,7,10,1,1,1,4,5,5,3]\n",
    "board = [[5,9,5,1],[1,4,2,8],[2,8,1,3],[3,1,7,2]]\n",
    "\n",
    "输出: 6\n",
    "\n",
    "解释：\n",
    "其中一种方案如下图所示：\n",
    "- <img src=\"data:image/png;base64,iVBORw0KGgoAAAANSUhEUgAAAggAAAC+CAMAAABnLgcQAAAABGdBTUEAALGPC/xhBQAAAAFzUkdCAK7OHOkAAAAZdEVYdFNvZnR3YXJlAE1pY3Jvc29mdCBPZmZpY2V/7TVxAAAACXBIWXMAAA7EAAAOxAGVKw4bAAADAFBMVEX/8SDy8vItLS2Dg4P//yIICAkhISH////V1dUAAADh4eGVlZX7+/yurq4VFRXT09MODg69vb3//yP/8iAKCgoPDw9MTEw+Pj4oKChsbGx8fHyOjo7IyMhdXV309PTe3t3r6+vY2NiKiooyMjIlJSUODhby8vO5ubm9shH/8yD/9SAdHR0nJyf/+CH/+yH//CGZmZn/8CAUEwKDhJD77R+MjIyVlaDc3NxoYg1bW1tCPgghHgAtKQD/+SH/9CD/9iHo6Ojm5uYODAFOTk4IBwH//SL/+iHTyBvh1BwXFgNeXl4JCAOupRYuMEAXGCXY2dxRUVHy5B0GBgamnRWBeQL9/f2mnAvczxjt7e3+/v9JSUmcnJwYGBgqKip/f39ycnL+/v67u7vU1NQCAgHi4uPu7u7Ly8u+vr6Xl5f5+Ph+fn5gYGCbm5unp6fp6elubm7x8fHk5ORkZGRZWVkuLAaBehAuKwADAwNTU1Pf398UFCCUlJTBwcFmZma9sxiSkpKur7eupAypqalPT09oaXi9vcTX19dXV1e3t7dCPQDExMTTxxZwcHCBgY56enqenp+kpKRiYmI1NTV2dneJiYmgoKCtra0bGxuCgoLQ0NAMDAw4ODj6+vpAQEDHx8eysrI8PDx5eXmhoaH//iGzs7NVVVVpaWlGRkaNjY6QkJC4uLjg4OBDQ0NqamqHh4fMzMz5+flzdHNWVlb19fWWlpb39/cjIyN1dXXa2tqLi4v//yRZVA1QSw2FhYTw8PCYmJjz8/MWFhZwaQ8fHx/S0tIvLy/q3B61tbVNTU3CtxuQhxTOzs4SEhK8vLzNwxs6NggRERH//yWwsLAQEBCxqxclIwf06CBsZg7u4x8hIAKIgBR5chLGvBqpoBhiWw0pJgZJRQvZzh3k2R6YkBZFQQkeHAXT0ht0bRK+uxW5rxozMAeVjRKdlAz7+yHz8SD58CCbkhfj4R6kmxaflhb99iGJgAN+dxP97yAbGgWrnwv//yZ+foggIi9DPgD68yFcXWsTmm5rAAAgAElEQVR42uzce1ST5x0HcKFJ3vwQMZBway0hBouAEnC1iJ1EFLzA6jSbnRMQBgmIXFxK28AR5Rxp48rpJKAQGhC5ONFx06IYqReQAlUoihdar52udl526jlrt551l7PE1XJp39+TzLetZz7fv/LHj18e837yvs/7PPGdwNDQWDKBfgQ0FAINhUBDIdBQCDQUAg2FQGMjhPy4iYTEFZMqjteRKg7UHSeVlIXZOfxq4sgzyyYS3zXuwFo0B4qJ//yQXfYN3Hkz+cMofo6Q4jJSRVwdqeI5Q+cIhCadgBAVkCoGoJtQEQRdpCZQYCeE5cRx8YkVAtAZ49EYgdjEFGTfwB10LsRhRV18Hs3FFCBVLIDnCRVLwTwCoWY9adxr5KQKV/cqQsUxSSupid9TdkLwiCFV7PEiNkk45GtG4+uRS+oRZy8EUT6p5IWfdyjRdMyZ64ZXuF1dqlyEVvCWxP50BIKnN2lQTxIh+Lu3ESp8Jak/AITDNkDYP1+PZv5qIoQQuyGkkSG4BaBxmzOXh1fwfrZUrEQrFL/gHoIPoSJbMoV7CE+TKqbaACExUogmcvVy7iG42gBhAhorBLzCAiE0Aq1YRCFQCBQChUAhUAgUAoVAIVAIFAKFQCFQCBTCQ0Ew50llD14nhzk9KhCUiuAIHEJgsEJJgqBU2g6hytcSTRIGIUnY2oZD0FibpOMQqnyduYXgbH3TVUkoBH2qDw7BacrmXUJp8v3Xem3+/n79t0DwdeAWgo915J0YhPoVg4sDZ4ayQwhVfLF4cDgahxC4otd2CCEiAGhvQyAIawAS+jEImnaVpYkBhxAu6ucWgsE6cuMxBELYDgC/agyCtKULQP4bqfV1ntNeo6pVveobew35omZuIeRILCN/CYFQf/UmwJFhJTuE4ME7ABfPK9ghhCp5wxdffjbQVggl4FGS82YVO4SDcvCIAYEDAqEVBCUxbxchENr6dgOkcgthPTSU5DS3sUOo8rRUQLwvOwRpX4qpNgfkMr1QH5m2GoBfV9S6o3DMHyRPFEAGpxD2BfHDM7ZkskMIXqyCOafhGk/MBiHw3svwp0uxsTfmsUIIvHF1LlywHUKpKTsbnSOkguXTLYRyBEIWHOh0QOcIyZavALRyC2GHSp2NzhGE0L2SCYcydgjqifA7Ru0uSTXrJyfyrWNU8SU6U+nC2SNoPb7x7X1YCHmw3NkXmyPwLsGcoeFZYw7zWAgze+HC0JdH4CSPFQLvlGXgH9kMQeOiMsKMSQgEV5BbzxtrEAjbQKATlbQhEByyDEEcQ2gL0gWBwIBAmGIlvB4S2SGYi/wGvHNVGVKhrHV3uxXCVtdf1chbcrxEXi1fHauirBKOIfRB1zldkxmBcBkuDylvwsl6NggBn78T9cHfFpweffUYB0F5/eolOyC8m2JqDgeTEzuE7DNwqEUHbyIQCsFzWxccxecIco4hhKkkuzNAJWOHoDGC92EVlLBDkAmbrEd/TaMwWa8VGnLiYZ3mmMcW6ymsottl6oPJCMcQ9oLgUCU0rWSFUH8bFtx9B+A8jw2CWHHJOvBr/45A5ghuS+y4NOwzRzJMw9iJ3rjJYpojqBzRM0JkGMPshEoUwsoejiE4m7UMkwvHkclitRx0PbCfHYK2GTzT4s5AeZ5VhZN2SkVB2IO7hn0Tz1Sq/3vcOYZwzOzDZLvrnFghiBWnZsHNm3CF9YwQvQkuXvnkNNzlIXcNwYvtgLArxnJZWAhZ7BDa8sv7jz0Nk9ghaHbvT2LSoDLpe4XgH2MZdDiEsENIzy9v1TRDHTJHaILZK39dA4fVX10q1ObkkdtHbU2X/ruAsH2jlPEZ0KlZIQTeuH3+k96bsb0z2SDw7sK1L4dOwRzOIJSDJK4CTGp2CJ0DcNYA3T7sENK7IcOQAC34GcGR47sGf9CFtADfjEAIgqxy6NIgZ4RE8MtqUUGf9FtXFp0LXSznS+b4uKvLw0J4CeSGXGhgnyPUn4QLgx+MOcrjzwhXYMHVWxfgM84gOCdaLjVd5djKYpYJIH4Kto5QLbA02XLw+4XAbNUBDNRhK4s7zwC45CPrCLJ+6xxBsk7KssScVGo9zXENYb71TeXIZDHg8xOWio8/ZF9HCJj3SpR1jnAvgisIDPNWWZYaX2I2lxkiCSuLZ+OKSEvMra4OHC8xJ9cZGvEl5ry6OjW2sphslmVVHPZvZN1r0Kosg4z0l3G8xJyW2ZeOLTEHzrzyx/PPLkJWFgOir//ls8F5ylAEQsDwpiuhYrrXYNNeg75Rq5Uim04FklU/xF5DQDSPFxiK7TWIg3k8RQC6xBwawFPQTSeOdh+d44/S3UcKwZKj3c4UAoVgmWbwqykECsGSnq0UAoVgSfMOCoFCsO40GKsoBAqBYVJFjRQChcAwTl1F/58QahJJg3qilFRRdI5UcdA0mVQyY4+9EEpIFQUJxCaOtZ1OaDrf2zL2L4y/H9+jzl4IJuK34oW/DvHQDJ34uAOv6PjJ0nq8wq13NISmQldCwv1IFdslfYSKcv4GUhOj3Q/KaCC13BhEqnDtzt0ch2ZzaU3a6LzvUps2LontdkI4t+d1Qv557dZ0NLf+cOfWJjS3Ls+aTujxomoUhFyViBCVjlQhAROhwgQSUpOUTDshZJBHniIivivfnRCVTvJ1+KL4eJ1kQCQZE1WPfQPv7IpdQEgKfxoh/BRSj6gUUo9pOumoOcJGB0IO9ZAqJokiCRVSiSupSbu9c4T3tpBaPuFHqnDwO0qqyKmRpT5If1bF2oGN+f7VqaMi2yawb+DPTDv/6Qo0n/74H88Q8tobpB5/Xkbq8RZfNgoCJ4/O2Ueo0Dyqj87xIr5rhmf218/R0e4EAL5Lgzls1MN1sivshjCd9NibV39EavLav0g9/r6M1MNpDITH+65hxmxSRYynduQeovH+jxo3qEffV2jX2Q8Bn/GLo1/9LRHCG6S7hheX/ZLQI4xC+F8hqNdaHHiMcUAhPI4QZJPbweSaRyE87hCsP2scvwRFITyOEKR9lf1mCoFCECZXy5IpBApBKDSP342gEB5PCEIKgUK4/0NnaziGII4QPywEsXJmxKMHISkynQDBWZv+aELQ+OIQ9N/BGUGsFD/kGSFUWT/cG1DPKYT8hAISBO+EOhRCnJdKcBiFkOmni6+t4hhCakILCcK2hLUoBOlCd9FyKQKhsbjd2BU/o8jMHQSxouOVjwYVOASNZ4IQgaC8d2Jp1OnbCgRCdmm70Wh0tRWC9uwMqCVAyASYikHYCVCZAsUIBH84s9ERtnMKIbKvB7wJELIAnsQgHJRDQjtUpiPrCN5gdPQq5RCC+Ivrd6NgEw+H8Pb4B4uMgSCOPgGz7kDs9UXsEPLhXKncschWCJXW5wPgEPp1KfAUBqEJCpjj4IFAqIUyJgw8OYXQYBl5Ig5BxgeowCD4Q4JzmxHeZYegboA+vZnLvYZFS1IsIz+JQ9gLOl0/OwTlhwCLO46M/W/x4yDEgSHJjktDcYUnAYKPl2A9DqHZU8uEQC4CYZepYdJu1R5OIRgqGggQ9vUYE3EI79dsYNK7QMa+xJzspfsPe/ceE9WZBQA82MsMBwdRhoddiUA1MYACY2wsJsMIAsLo7tJx6Roevnj4QB4DmEEdy1aTYlgCI74BFaWiFFApiIharC+soPiWBd/4iN1tq+vWNd3N7s6VP3TQe87czK3b7n7nT3Ly3W/Cb+493/34DqO+Ko1fKh0Ev+6eJc8JCJ7wRR0gEMbdnXQzwgzhKQIhEyr9T9aIqBHW4RBitbpak2UbgjesGjYMhc8QCFml5i9BgoPENcJgHMKc+iSHbXCQKBb17nBaIQihxWiAUaVgP8ZLMggqX85lEg4hQ3ZSfhq8sFWDxuVvvRB9d5wwhHIY7Q6WnS9wCLNwCHOhND0GdhoxCI3VYB+PFYtpUGBcCycbpYXwPg5hKwxKLwD3YSiEiwkQMxMpFjeXmFqS62C7XsJVQ0hIFw6hAbJNzVDcgkDg7nTBrXMRKmEIHfNHykfAKskgmOBFuCMQvD3AXY8tH2P9IVkuH3AL/skhbOufeSUGIR86Tdjy0ctp9o4MuzQoeqsQcvpnvkAYQtX1aOhVt6qFIXgfNH+wzy37cVAQFmEQJre3n9VCtgMCoRo62zbEr0buCHVQNLkEvrKTFsJByxZfAyF4m2deDcHOCIQOgGAnU4leEELyYrAPWnAJTI5vE8K89tWfJ0L+ZOFi8eoV+Gb6jcfnNMIQDDCisNyyjw0OoZhcPprLiBqkRrA7/8LvaARCYQLfmcQkcY2wB+qp9whNeLG4vf+rd1EQwqctBXxCtpeDpBByyeWj+RHvI1wjcI/6J34MKRbX8+1wd9lZD6Fj8F4KwokmZwRC446g+MWL27BiUa5fkHnQQeo3i/OaPCkIDk0dGITCNvPMg4KE7wgOPi1BK1aUvGzcLQUEpe/lvlMaAkJ7kDeyfIzqe2yOPuSOIJdv3tOQrmB7DVLtNXzqqNfXSr3pFGHZD0X0K2aVpv/IClIjsE0nqTed2O4jg8AgMAgMAoPAIDAIDAKDwCAwCAwCg/B/DKGyiLrkLLJjyvxLCiLDzrVDeghpVMYIK05D11AZaVtmTkRj5qbjYiF87aLGItK609DoGGorTkMnvwphi9aRiHcHURmmsk+JjA7Xi9QgshqREFbFUEMWNzuSVy2mMvJKPeei4ZnZLBbCR0+i0Hhya20yEf/uosY4s6yW+GjGVyHkGeyJMCRRGTqgMuxBR2bEi4SQZngr8zJ/fB0a9gbRHVPCp4WjMS3Jit8KNUY4/elf7ZhSl+NMxIrhVEZQWSqRYbRPpwY5LvqOcJoacrbMmbxqA5XhvmUeEbNE1wh/eTAVjQdXrj34IxoPDnVRY/yw7ATx0drF1QibyBrBeGkOkTHSdTNZtu2WvEaoobuqDSdbeGnJfwm83l8shOsuAVgEuuT2tKIZAa3X7uFjBLh8QtYIerZqELFqCJ5CZQSJhkCuGnKX2N5nkS0fGQQGgUFgEBgEBoFBYBAYBAaBQWAQGAQG4X8RgtIvhIAwMONNEJRSQ4glIcRKAKHiJ4CgICEopIAQKy0ElZr7e4jF37MPhKCKrDJnaFQYBJUfZ/GvYt8EoUIEhP2zRiVWh2IQGmcNata2EBDqCxpRCJ5TmitN0kKoOFI6PNsRg7Bvz0lZzjwCwrC41SiExuJBiZkZEkJQBUTdvPVNz7/8BCGoIqNu/im396oGgRDCnbrdE6nEIMSXN+/ssBbCnGzQlUHpUQRCNcgqQeaNQIgN3Q1lX2IQfNxANuCIts0QiiDJDRJTEAgN4F8JCXoMwtGtwyEfhbAGznfCln3SQdB0X4HxAL0RSiEImu5b0HUFbqp9BSEoJ0QdgsMcBmEHgD90elkJoQXKWrzHglEYwv6y8wvlwbANgeCkAziehUFogAa5yfJEta0Q9KA7kXLSsiuDJYTYBPsUeT2YEAgVfN+GIAxCLbhlKcaCs3QQuD6Y9N3HEP3KF34ABO5jOPyjJlp3apwQBGXVNfPED1UhEGJHwzC5FgZbCcHTP5s/bzlXGIKi0nXD3tKh2GnorQUx4I9CmJ8fmlw84OyyjRBO+Ofwp6ydhCHM2aUzbfYoS0UgKGYHN+MQMmrGNBoThuilgxBx5v6M1rtJ4z8UhBBwJyz33OWwru9DBO8IAX2HunAIih0ljQ51us+shKCw48/Fy1KQR4MT3/JnBV4jZOgSsvBisRZgiI+UEPiZr4OEDOTRMIY/D5xD1AjVOARz7IQB58Vtg6Cc8CHXfRtuBgo+GpQu/PcdbnAqQQgq9YXpOAR+ngAeCqtXDUvjoDkVKRb1zbq1Nf66dBRCLQkh66AHTFFIumoIXQUbjUixmJGoK1ou05XgELJJCO2ZZecLJSwWNdyj+3C7WyNYLEZMn/b8TG/48yi1cLGo5GaQEJwXHdeNsBZC4UZ4dz+2fFwJcXyDvQIUwlICQnZdijwjSZcsJYS9xyE7C1s+rubbuKXz07cBQntpm/lHlk1lbLwjVJ2BsL5WTqkSrBFuQt+PFyxbZb22fOT+ikNwrMzm2914WAkhwx9O7001ZghDMIJs4n6tudizBUIcFOmbwF/KHkopo2GXZ6oxVBjCXtjosK9+wFNNLISzsHGzzyDLBY+NNcIjgGcPrl+/6isIoRcOf3f3FjyqsgGCtw5WJgfDGishxL+hW48lhIUxAJ1wvAWF4AWu6PLR0w3MlUa8lDXCyv6ZvycMQRHMzzzBGYeQgy8fFTv5q2yxkwyCkjvcP/M7AUIQ1FH3IcwAh5Fi0fx7f0osH2v4i1h+egSC8cD2tWvXHtiLFIv7Sr6IO5KMF4spv9qzEK0RHLa71xslfaG09cXMG7YixaLClBO3yYsoFp1mp6I1QsXigrzlI6UrFpWaxw97ex8+fNbtJ/hCKfBuz+1DT7/XqBAI46Y+vDEOfbPYvsJ91lK21/Cz3WtQBfZ3O/FVCb9iVvMJfvgrZg0XoGKbTr/sTScrdh+VSrb7yCCwbWgGgUFgEBgEBoFBYBAYBAaBQWAQfg4QMql5LyIhnHVbSGSkuKZKD0FLZbxvRccU8qrBq6iMxeIhuPhhoXHJXdKKZvi1fjAJH8PPio4pSy0g1CuIKB5FZbS7fUlkhLoWUoM0i4YQTA25ZyyVoRj9HpWRc5rKWCAewrcT0Pg29xmV8cEkKuOj31AT93kVQoz9ECJcDVSGG1AZnXCJSjEsFglBK8HMhxhcqQydjsooE90xJWw8EUnTovGE6HADlRFmWEaFYeJLCLvinIjYKaMyFrmmExnr7ddRgyTki4SQt4UaUruRynDamEZleJRSGdUieyjZnf/HH4j456HL09G4fC+XyjgW9gkel/8c3vISQmUDNe8jZMeUwktUxr4yB7JsE90xZQ2VkU93TEkcTGWk5VEZJpGPBrsysnL+9Q8XODQuHLvXime0To/GE7iqU9N+y1YN/8VVg93QYSSE39m+apgRrQpBMyJ/zyAwCAwCg8AgMAgMAoPAIDAIDAKDwCAwCAwCgyAAwVfJIPzCIajULpb9UCwhqEI4Fz5ePfnwGoRALpILsBpCxfKYvPhYHILiQBMKoSYzM7OoyAmDkPLOlOCL0kJQtOXFtCkICNtHoBBSM/mpFx/FIDhpTx9JkRSCfnucdj4KwZe7c+xrtTAEzamHx/iYqhaGEHHu2u1rUwOthZDNH4yajULY/w6UoxBkL45wBSMQjpbDax0pbO+Y8tpx/YEQFu6GQSiEpv7TZ6EIhAV8QrmdhBC8E80jJl3EIGie3IMeThhCwNT+id/gBCEEnAszJ4yfGmkdhBMwxHHzJfv/sHf3MU2kaQDARfBeXi17kWpjW0sLbNJg/KhuCNtkD6nsGrfxj64Xkl6rFT/K19AWOnGpoU2TTkIb0pTWYqluBcG2tAIFWglFBd3bvYVblr21tznvcnfZjbnkcvvnrpe7P2+G4q1FfQfWButmnsQE5U15387PmeeZ4X2K2AQL+Cfhqh3FqyGYbb6ivsyPXF8FQQI/qroH3wxkEUIVvCos/RhuRUCQ9EF4DQlhq80XNMLaiRdDyPsK2rpOZfbjeEkIZdA01wSHXwyhYtOddyH8HAGh+oPjf//6c/jfR/teBIF94y7856M78GHx2iAUhm2g8Ks3RAgIkUu7aCCQcRm2oHIE7xY30MOPs7kbuirsBsKTV9sREJrKT2VuC39ejjC1N7M/1CoIyROXqI2y6ixCKBorrOuBJiSEP7yPhHCwoqCg+E7H7wtemCNU/+e7I48efA/vFLPXmiwuQBhF5wjztBBqrvZNoSDoS0EzntljIQvJIg5hPjpHaITX6SBw4RAqWWxOikBwS0dXVpNFZR/84yLy0nD7t0gI1HE/nnGQnzkjHDx2rPjYN/CHG2uuGsquwc3nXxICL3N7+nOqhiuX4KXzWYZgHe7YlURCMNNCuLjlkymaqsEFz6mzWzXMWXadw+oQEKoL6CBUP/4Ofvkeonw8eKP4+yPw7cfVa4MQlJqpZlpqJIQgHYSpX5wrRENw74BeVlarBrFUDMBw5snsJ5wRIpCLLh9rRuGlhqyWjzGjFrSfgEIEBDYthANfwm8qqhEQ9jx+CA/9uvjAwbVB2Aavl+j3ZjapWz+EfriXhYTQDWFMKWvPZg+lIVg+pyzPbGXyEyCMQh8SQmAYXi/UjmSzalBBzcQSvCp6KQgFF+DDAtQNpRsX4KF//enYZ+y1QdDvgid3wo9KkBCKVqdcqyFY4Sj6hhIB4QkId2azh9Lc7+AbX8ByLRKCGJajIbTtgONICGaq1CMZZxFCYwfVfdQFkBDeRpaPm9jvfbtKyioIh/9MVo9k7fHtvoq15Qgj3M3lLhE6WVwkZtEQbAu30BB4ChNB1AqU2cwR2p2bN0/L0MlioaIFDUEZx/VICN2ESUEQnGyWj6Ax/uZoK/rO4v4f7n69HwXh8F/v/m0/CsJnd+5SceEwm7nF/DrfYj78qz3oZw37jmZ0VHnm0sA+Sn0G4NF9zLOG1/uhE3vVA6NnILAraB46sSuoYDMQXm8IzGNoBgIDgYHAQGAgMBAYCAwEBgIDgYHw84CQoBkheiUQZtYAIfIqIDSuAQIbGRQE9AgSwqY9yBH7MyBcd9JNyk+7Ld5Muy0+sePKyx+S1RAwuhFR+m3xu2i7MsgVdCMurxtCPy2Efz84gIwHD/9xGz3i9vH39xcgRxQ/ehrCtRObaWIHpBvRB0/RjNgLP6F7kVW/DkMfRAfdS+6knflmuJNuRAfti3zRt04I5/pop3Xkw3eQ8eG7kG7EIfgOzYi/wKcaZTgq82lihk83IhalGzFrjdENiRauE8L2CN1LltHOKz9aRjciQrv8Xt36Jh5Q074Z/MhbNBGJ0o2YsdKNeKuz7UcITPxc4zdrHslAYIKBwAQDgQkGAhMMBCYYCEwwEJhgIDDBQGCCgcAEA4EJBgITDAQmGAhMMBCYYCAwkVsQtDL9Ssi0ICH6MVg5vWhhz5PWJCW2LgDqbRntT0pqCsXtOTHP8SD1EYoD4pW/3k8JwbjjuW9tPflH5h7J+LcEuY7zGwOhfjYeisdxDx6Pc2IgJZULjGEPhsnlxou5aoClVCq13cO9Si35BQtoh30AmEeNrT1UP4hu60w+b9oSUnCsOTHZqD1QM3BTKp2/uZ0VaJDpVT7gerqLZEC7omK3k5Tdfe3JLwfvptbhpdbBr9sQCHWD4fkzS00m9ZI42ADc9vn+XoHN4TDfU1TlKoQqgVQeNsYVnjAmlQrnxuM9+t24s1Jup3pjdHKcg7PRnlR3UpsTZqOYqD8U53JxlZOlNfny7PMsi0Xd06pLH38zFzcsLX+VxMMiMERE1BKJxAGARPVkHcqNOSPUTfe2dfKnFbzKmXkA3BgQjck1s6dHfknkLARtUVHK0BQcsI6lUr6SnmF5SG536kWeJhZ5dr1lCeTQVLfKcXwMNNqTUwbvFBBJU232pa6Q0WPnDC5Ps5/ArILh9G/FF3JiE16c67QYVX4A1Fjzun/ay0HwlpXWujolUT7OIyFY5uXE5JlJu2x37p4RyAjWkmodRA/1P6nIHm3gGae5JotzNwCtdo1fsxzeolc/z7nUoCBVFYxLHAr+eEIrICE4rJg+ofEuH+aAV5EEDbz59GBxd4MqOGJrEyqCAFwOtTxZh2+DIPQm7bEetVptnKUgNErEGBZ3gP4chjClVs2QbyTLrfInyITK5ADR8JDc71bcJCHEXen3TzPty4W5qi11fIVHimMC00iChIC5BJgWGDqXv3kx7t3OH/p/VsuyCJodxH2dQkZBeLIOr21DILAmy5J2Vy8ZWAwAHWarNFj4p42RqF2Ys5cGr4rrSpIJuStWyysBeoHxViUfeMQA2w5AZCy3qh1JSLNVqJN2XxQKA0pBKs+DhUM2kSLd4XqRvKh5FuQrO0EmRPybZJamd1Npbmd4YmMvDQGDNUlYU8FgkVFDQrCoZ4ewnn5b7zY8Z88IzTO2dtzQfN8i1+rymwe4uNHm14zbbUkBmYH5XUKvk+rSb8iFE4LQj+ExPs+gOO2fnexPCOZZuE7Px2J4uun4uEna3XZPtbKBt4dH1geVqnSlGRsUDqbXodsYCAlMLfNOhkMhg5O84rrleUC/5LeMgO6czhHI6eX7TWRKUAc6LaYzSwtSuVQuD0llwBA9S/CsVitfsS0HpnnFaOFqh8J4NDpmarmSh1mHFPPgvIez0raw1OQkk0Qi3ZuxTUqekhNjHAPVO7jeEEkSLmodJv7GQJCFfKBVkjcdS7q6KAiBbrylaagGmHMbAlCrVOl3M9EeCorG+z246VbhYkAfSiUVVK/NeuOtXCgfExLPFMuJJ0sMZAY2XquQm4KA5VWt9EYuGbN3AZsqfaiDqisAFBE6jPqm3m7bWrt8j8yyQRAaas9WcTrBYFm7nSxw3BgrMa7TGA31i0QuQ5CppZjRHl1OYxImsjy4RyxFpGTeIOaUJhXU1v2pnIBAgvWU1G13SY2UzprLi0m7OG/WxCVWKpoBjkcTMi3fREpYpgEw1/JAcNgBQCPn0xGiezmB3CAIVvmnmKV03OIH5lE10MU7L+vc6kGpJD+esxBKxL24yn9RFuUoeL62dt9C0dnpYRuYc9YOKaeNdWfjTk2LxmWS5EJ90z/omRsx+xfkgrEU9clCImmLQeUTuVTqdCuKVBgbTN9GsF3rn1OruHrAiqhseV7PRDJErYMXsm4MhFa+Pla6yFG4yUR1AOgI5+Tk/7Zxe1/W9tqKQZsQFLIr1oEyCzv/FkvZ1K4TEzlWViSCehNx2XnrJrCfDsiPk8rqC8gYDAlBsll6g1SU5ARHxbhi0KSBY7ZXbQ3QqX3Z0PORt8IGQNOl2deLTQGJ8uyszVOaCmw7AP0h1Rewkj4JgWcfqFia2QYZj0s5vSEBDNgV0jYP1oTAXgnveSuksGdWRrCnQl3gZgwAAAB1SURBVAR4VrNv3cy+TwYUtgmnB8VciaP8BvZKRXBPEHy+9JwdhfvApRq2qaQEaN7b4MCeuZmdcR44jZyWp09CGAXDB4wmhFEwmhBGwWhCGAWjCWEUjCaEUTCaEEbBaEIYBaMJYRSMJoRRMJoQRsFoQhgFZAIA86sMjQTwmPoAAAAASUVORK5CYII=\" >\n",
    "\n",
    "示例 3：\n",
    "\n",
    "输入：\n",
    "nums = [1,2,3,4,5,6,7,8,9]\n",
    "board = [[7,1,2,8],[4,8,6,3],[9,2,1,7],[4,7,6,5]]\n",
    "\n",
    "输出: 6\n",
    "\n",
    "解释：不需要交换任何指示灯的位置。\n",
    "\n",
    "提示：\n",
    "\n",
    "l 2 <= board.length == board[i].length <= 300，board 中的数字可能重复，且每个数字的重复个数不超过 100\n",
    "\n",
    "l 1 <= nums.length <= 10^5, 1 <= nums[i] <= 10^5，nums 中的数字可能重复\n",
    "\n",
    "l board 中的所有数字在 nums 中都存在，nums 中的数字在 board 中不一定存在\n",
    "\n",
    "l 温馨提醒：暴力解法通过用例不多，请考虑高效的解法"
   ],
   "metadata": {
    "collapsed": false
   }
  },
  {
   "cell_type": "code",
   "execution_count": 262,
   "outputs": [],
   "source": [
    "# nums = [1,2,3,4,5,6,7,8,9]\n",
    "# board = [[7,1,2,8],[4,8,6,3],[9,2,1,7],[4,7,6,5]]"
   ],
   "metadata": {
    "collapsed": false
   }
  },
  {
   "cell_type": "code",
   "execution_count": 263,
   "outputs": [],
   "source": [
    "nums = [6,2,2,1,7,5,7,3,4]\n",
    "board = [[4,1,3],[1,2,5],[7,6,2]]"
   ],
   "metadata": {
    "collapsed": false
   }
  },
  {
   "cell_type": "code",
   "execution_count": 264,
   "outputs": [],
   "source": [
    "# nums = [8,9,2,7,10,1,1,1,4,5,5,3]\n",
    "# board = [[5,9,5,1],[1,4,2,8],[2,8,1,3],[3,1,7,2]]"
   ],
   "metadata": {
    "collapsed": false
   }
  },
  {
   "cell_type": "code",
   "execution_count": 265,
   "outputs": [],
   "source": [
    "import numpy as np"
   ],
   "metadata": {
    "collapsed": false
   }
  },
  {
   "cell_type": "code",
   "execution_count": 266,
   "metadata": {
    "collapsed": true
   },
   "outputs": [],
   "source": [
    "class Solution:\n",
    "    def __init__(self):\n",
    "        self.visited = []\n",
    "        self.lens = 0\n",
    "\n",
    "    def find_best_times(self, nums, board):\n",
    "        board = np.array(board)\n",
    "        self.lens = len(board)\n",
    "        self.visited = np.zeros_like(board)\n",
    "        max_time = self.lens\n",
    "        for i in range(len(nums)):\n",
    "            num = nums.pop()\n",
    "            self.visited += (board == num).astype(int)\n",
    "            self.visited = self.visited.astype(bool).astype(int)\n",
    "            col_sum = self.visited.sum(axis=0)  # 按列求和\n",
    "            row_sum = self.visited.sum(axis=1)  # 按行求和\n",
    "            if self.lens in col_sum or self.lens in row_sum:\n",
    "                max_time = i+1\n",
    "                print(max_time,i)\n",
    "                break\n",
    "        return max_time"
   ]
  },
  {
   "cell_type": "code",
   "execution_count": 267,
   "outputs": [
    {
     "name": "stdout",
     "output_type": "stream",
     "text": [
      "6 5\n"
     ]
    },
    {
     "data": {
      "text/plain": "6"
     },
     "execution_count": 267,
     "metadata": {},
     "output_type": "execute_result"
    }
   ],
   "source": [
    "sol = Solution()\n",
    "sol.find_best_times(nums,board)"
   ],
   "metadata": {
    "collapsed": false
   }
  },
  {
   "cell_type": "code",
   "execution_count": 268,
   "outputs": [
    {
     "data": {
      "text/plain": "(array([3, 5, 6]), array([6, 8]))"
     },
     "execution_count": 268,
     "metadata": {},
     "output_type": "execute_result"
    }
   ],
   "source": [
    "a = np.array([[1,2,3],[2,3,3]])\n",
    "a.sum(axis =0),a.sum(axis =1)"
   ],
   "metadata": {
    "collapsed": false
   }
  },
  {
   "cell_type": "code",
   "execution_count": 269,
   "outputs": [
    {
     "data": {
      "text/plain": "True"
     },
     "execution_count": 269,
     "metadata": {},
     "output_type": "execute_result"
    }
   ],
   "source": [
    "3 in a.sum(axis =0)"
   ],
   "metadata": {
    "collapsed": false
   }
  }
 ],
 "metadata": {
  "kernelspec": {
   "display_name": "Python 3",
   "language": "python",
   "name": "python3"
  },
  "language_info": {
   "codemirror_mode": {
    "name": "ipython",
    "version": 2
   },
   "file_extension": ".py",
   "mimetype": "text/x-python",
   "name": "python",
   "nbconvert_exporter": "python",
   "pygments_lexer": "ipython2",
   "version": "2.7.6"
  }
 },
 "nbformat": 4,
 "nbformat_minor": 0
}
