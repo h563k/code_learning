{
 "cells": [
  {
   "cell_type": "markdown",
   "source": [
    "http://3ms.huawei.com/km/groups/3803117/blogs/details/12177261?l=zh-cn"
   ],
   "metadata": {
    "collapsed": false
   }
  },
  {
   "cell_type": "markdown",
   "source": [
    "Excel工作表中对选定区域的数值进行统计的功能非常实用。仿照Excel的这个功能，请对给定表格中选中区域中单元格进行求和统计，并输出统计结果。\n",
    "\n",
    "为简化统计，假设当前输入中每个单元格内容仅为数字或公式两种。\n",
    "\n",
    "l  如果为数字，则是一个非负整数，形如 0、11\n",
    "\n",
    "l  如果为公式，则固定以=开头，且仅包含下面三种情况：\n",
    "\n",
    "Ø  等于某单元格的值，形如=B12\n",
    "\n",
    "Ø  两个单元格的双目运算（仅为 + 或 -），形如=C1-C2、C10+B2\n",
    "\n",
    "Ø  单元格和数字的双目运算（仅为 + 或 -），形如=B12+1、=100-B12\n",
    "\n",
    "公式不存在嵌套，例如 =C1-C2，其中C1和C2单元格的内容只会是数字，不会是公式。\n",
    "\n",
    "公式内容都是合法的，例如不存在“=C+2”,“=C1-C2+B3”,“=5”,“=1+10”； 内容中不存在空格、括号\n",
    "\n",
    "输入\n",
    "\n",
    "第一行两个整数 rows cols，表示给定表格区域的行数和列数， 1 <= rows <= 20，1 <= cols <= 26\n",
    "接下来 rows 行，每行 cols 个以空格分隔的字符串，表示给定表格 values 的单元格内容\n",
    "最后一行输入的字符串，表示给定的选中区域，形如A1:C2\n",
    "\n",
    "l  表格的行号 1~20，列号 A~Z，例如单元格 B3 对应 values[2][1]\n",
    "\n",
    "l  输入的单元格内容（含公式）中的数字均为十进制，值范围 [0, 100]\n",
    "\n",
    "l  选中区域: 冒号左侧单元格表示选中区域的左上角，右侧表示右下角，如可以为 B2:C10、B2:B5、B2:Y2、B2:B2，无类似 C2:B2、C2:A1 的输入\n",
    "\n",
    "输出\n",
    "\n",
    "一个整数，表示选中区域的数值之和\n",
    "\n",
    "样例\n",
    "\n",
    "输入样例 1\n",
    "\n",
    "5 3\n",
    "\n",
    "10 12 =C5\n",
    "\n",
    "15 5 6\n",
    "\n",
    "7 8 =3+C2\n",
    "\n",
    "6 =B2-A1 =C2\n",
    "\n",
    "7 5 3\n",
    "\n",
    "B2:C4\n",
    "\n",
    "输出样例 1\n",
    "\n",
    "29\n",
    "\n",
    "提示样例 1\n",
    "\n",
    "给定表格内容为5行3列，各单元格的输入数据及计算后数值，表示如下：\n",
    "![](./assert/6.png)\n",
    "\n",
    "其中几个单元格内容为公式，这几个单元格的值计算过程如下：\n",
    "C1 = C5 = 3\n",
    "C3 = 3+C2 = 3+6 = 9\n",
    "B4 = B2-A1 = 5-10 = -5\n",
    "C4 = C2 = 6\n",
    "\n",
    "选中区域 B2:C4 包含6个单元格（图中蓝色区域），统计结果为：5 + 8 - 5 + 6 + 9 + 6 = 29\n",
    "\n",
    "\n",
    "\n",
    "输入样例 2\n",
    "\n",
    "1 3\n",
    "\n",
    "1 =A1+C1 3\n",
    "\n",
    "A1:C1\n",
    "\n",
    "输出样例 2\n",
    "\n",
    "8\n",
    "\n",
    "提示样例 2\n",
    "\n",
    "选定区域为整行。B1单元格按公式计算为4，结果为1+4+3=8"
   ],
   "metadata": {
    "collapsed": false
   }
  },
  {
   "cell_type": "code",
   "execution_count": 1,
   "metadata": {
    "collapsed": true
   },
   "outputs": [],
   "source": [
    "\"\"\"\n",
    "Copyright (c) Huawei Technologies Co., Ltd. 2019-2021. All rights reserved.\n",
    "Description: 上机编程认证\n",
    "Note: 缺省代码仅供参考，可自行决定使用、修改或删除\n",
    "\"\"\"\n",
    "from typing import List\n",
    "import string\n",
    "import re"
   ]
  },
  {
   "cell_type": "code",
   "execution_count": 2,
   "outputs": [],
   "source": [
    "class Solution:\n",
    "    def __init__(self):\n",
    "        self.dict = {x: y for y, x in enumerate(string.ascii_uppercase)}\n",
    "        self.values = []\n",
    "        self.sum = 0\n",
    "\n",
    "    def get_sum(self, values: List[List[str]], sum_area: str) -> int:\n",
    "        self.values = [value[0].split(' ') for value in values]\n",
    "        # 能整数处理的全部整数处理\n",
    "        temp = []\n",
    "        for row, value in enumerate(self.values):\n",
    "            for col, val in enumerate(value):\n",
    "                if not val.isdigit():\n",
    "                    temp.append([row, col])\n",
    "        # 循环处理内容\n",
    "        while temp:\n",
    "            row, col = temp.pop(0)\n",
    "            value = self.values[row][col].strip('=')\n",
    "            # 我们把匹配项全部拿出来\n",
    "            match = re.findall('([A-Z]\\d+|\\d+)([+|-]*)', value)\n",
    "            temp_str = ''\n",
    "            process = True\n",
    "            # 查找匹配项的值\n",
    "            for match_num, cells in enumerate(match):\n",
    "                item, func = cells\n",
    "                if item.isdigit():\n",
    "                    temp_str = temp_str + item + func\n",
    "                else:\n",
    "                    col_init, row_init = re.findall('([A-Z])(\\d+)', item)[0]\n",
    "                    cell = self.values[int(row_init) - 1][self.dict[col_init]]\n",
    "                    temp_str = temp_str + cell + func\n",
    "            if process:\n",
    "                self.values[row][col] = str(eval(temp_str))\n",
    "        start, end = sum_area.split(':')\n",
    "        start_col, start_row = re.findall('([A-Z])(\\d+)', start)[0]\n",
    "        end_col, end_row = re.findall('([A-Z])(\\d+)', end)[0]\n",
    "        start_col, start_row = self.dict[start_col], int(start_row)\n",
    "        end_col, end_row = self.dict[end_col], int(end_row)\n",
    "        for j in range(start_col, end_col + 1):\n",
    "            for i in range(start_row, end_row + 1):\n",
    "                self.sum += int(self.values[i - 1][j])\n",
    "        return self.sum"
   ],
   "metadata": {
    "collapsed": false
   }
  },
  {
   "cell_type": "code",
   "execution_count": 3,
   "outputs": [],
   "source": [
    "values = [\n",
    "    ['10 12 =C5'],\n",
    "    ['15 5 6'],\n",
    "    ['7 8 =3+C2'],\n",
    "    ['6 =B2-A1 =C2'],\n",
    "    ['7 5 3'],\n",
    "]\n",
    "sum_area = 'B2:C4'"
   ],
   "metadata": {
    "collapsed": false
   }
  },
  {
   "cell_type": "code",
   "execution_count": 4,
   "outputs": [],
   "source": [
    "# values = [\n",
    "#     ['1 =A1+C1 3'],\n",
    "# ]\n",
    "# sum_area = 'A1:C1'"
   ],
   "metadata": {
    "collapsed": false
   }
  },
  {
   "cell_type": "code",
   "execution_count": 5,
   "outputs": [
    {
     "data": {
      "text/plain": "29"
     },
     "execution_count": 5,
     "metadata": {},
     "output_type": "execute_result"
    }
   ],
   "source": [
    "sol = Solution()\n",
    "sol.get_sum(values, sum_area)"
   ],
   "metadata": {
    "collapsed": false
   }
  },
  {
   "cell_type": "code",
   "execution_count": 6,
   "outputs": [
    {
     "data": {
      "text/plain": "[['10', '12', '3'],\n ['15', '5', '6'],\n ['7', '8', '9'],\n ['6', '-5', '6'],\n ['7', '5', '3']]"
     },
     "execution_count": 6,
     "metadata": {},
     "output_type": "execute_result"
    }
   ],
   "source": [
    "sol.values"
   ],
   "metadata": {
    "collapsed": false
   }
  },
  {
   "cell_type": "markdown",
   "source": [],
   "metadata": {
    "collapsed": false
   }
  }
 ],
 "metadata": {
  "kernelspec": {
   "display_name": "Python 3",
   "language": "python",
   "name": "python3"
  },
  "language_info": {
   "codemirror_mode": {
    "name": "ipython",
    "version": 2
   },
   "file_extension": ".py",
   "mimetype": "text/x-python",
   "name": "python",
   "nbconvert_exporter": "python",
   "pygments_lexer": "ipython2",
   "version": "2.7.6"
  }
 },
 "nbformat": 4,
 "nbformat_minor": 0
}
