{
 "cells": [
  {
   "cell_type": "markdown",
   "source": [
    "https://oj.rnd.huawei.com/problems/1189/details"
   ],
   "metadata": {
    "collapsed": false
   }
  },
  {
   "cell_type": "markdown",
   "source": [
    "题目描述\n",
    "我们定义一种目录结构字符串(类似Windows的 tree /f 的输出内容)，用它来表达目录树的结构，如图所示：\n",
    "\n",
    "- <img src=\"data:image/png;base64,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\" >\n",
    "\n",
    "目录结构字符串的输入仅含数字、字母和|-，其中：|- 表示子目录的层次符号；字母或数字组成目录名（字母大小写敏感）。\n",
    "某一子目录挂接在其前面、最近的上一层目录下。\n",
    "给定一组目录结构字符串，及待删除的目录名（不含路径）的列表，请按如下要求删除所有符合条件的目录：\n",
    "\n",
    "仅叶子目录，且在待删除的目录名列表中，才可以被删除。\n",
    "注意：某目录的子目录被全部删除后，也视为叶子目录。\n",
    "\n",
    "请输出最终被删除的不同路径目录的个数；如果没有被删除的目录，则输出 0。\n",
    "\n",
    "上图中，如果待删除目录的目录名为B Cpp，则输出 4；如果待删除的目录名为A，则输出 0。\n",
    "\n",
    "解答要求\n",
    "时间限制：1000ms, 内存限制：256MB\n",
    "输入\n",
    "第1行一个字符串，表示待删除的目录名的列表，多个目录名通过单空格分隔，字符串长度范围 [1,100]；\n",
    "第2行一个整数 num，表示给定目录结构字符串的行数，取值范围[1,50]；\n",
    "接下来 num 行字符串，表示给定的目录结构字符串，每行长度范围[1,100]。\n",
    "\n",
    "用例保证，输入的目录结构是合法的；有且仅有一个根目录；除根目录外，所有目录都有对应的父目录。\n",
    "\n",
    "输出\n",
    "一个整数，表示被删除的目录的个数。\n",
    "\n",
    "样例\n",
    "输入样例 1 复制\n",
    "\n",
    "B Cpp\n",
    "6\n",
    "A\n",
    "|-B\n",
    "|-|-Cpp\n",
    "|-|-B\n",
    "|-|-|-B\n",
    "|-lib32\n",
    "输出样例 1\n",
    "\n",
    "4\n",
    "提示样例 1\n",
    "A       // 根目录\n",
    "|-B       // 第二层目录B，它前面最近的上一层目录为A，因此是A的子目录\n",
    "|-|-Cpp     // 第三层目录Cpp，它前面最近的上一层目录为B，因此是第二层B的子目录\n",
    "|-|-B       // 第三层目录B，它前面最近的上一层目录为B，因此是第二层B的子目录。\n",
    "|-|-|-B     // 第四层目录B，是第三层B的子目录\n",
    "|-lib32      // 第二层目录lib32，是A的子目录\n",
    "\n",
    "删除目录名为 B 和 Cpp的目录：\n",
    "目录 /A/B/Cpp 是叶子目录，需要被删除；\n",
    "目录 /A/B/B/B 是叶子目录，需要被删除；然后/A/B/B 变成叶子目录，也需要被删除；\n",
    "然后 /A/B也变成叶子目录，同样需要被删除。\n",
    "共有 4 个目录被删除。\n",
    "\n",
    "\n",
    "\n",
    "输入样例 2 复制\n",
    "\n",
    "A Java\n",
    "5\n",
    "A\n",
    "|-a\n",
    "|-|-A\n",
    "|-A\n",
    "|-|-A\n",
    "输出样例 2\n",
    "\n",
    "3\n",
    "提示样例 2\n",
    "共有 3 个目录（/A/a/A、/A/A/A 和 /A/A ）被删除。 因大小写敏感，a 不是同名的，所以 /A/a 不会被删除；根目录 /A 不会被删除（非叶子目录）。\n",
    "\n",
    "\n"
   ],
   "metadata": {
    "collapsed": false
   }
  },
  {
   "cell_type": "code",
   "execution_count": 1,
   "outputs": [],
   "source": [
    "\"\"\"\n",
    "Copyright (c) Huawei Technologies Co., Ltd. 2020-2020. All rights reserved.\n",
    "Description: 上机编程认证\n",
    "Note: 缺省代码仅供参考，可自行决定使用、修改或删除\n",
    "\"\"\"\n",
    "from typing import List"
   ],
   "metadata": {
    "collapsed": false
   }
  },
  {
   "cell_type": "code",
   "execution_count": 2,
   "metadata": {
    "collapsed": true
   },
   "outputs": [],
   "source": [
    "class Node:\n",
    "    def __init__(self, val=None, child=None):\n",
    "        self.val = val\n",
    "        self.child = child if child else []\n",
    "        self.count = None\n",
    "        self.father = None\n",
    "\n",
    "\n",
    "class Solution:\n",
    "    def __init__(self):\n",
    "        self.dir_tree_list = []\n",
    "        self.dir_dict = {}\n",
    "        self.count = 0\n",
    "        self.is_in = False\n",
    "\n",
    "    def build_tree(self, dir_tree_lines: List[str]):\n",
    "        \"\"\"\n",
    "        第一步得构造出这颗树\n",
    "        1、每个输入都带有| 符号，|的个数代表其所处的目录层级\n",
    "        2、每个层级的层级数减一，最近的层级数就是其父亲目录\n",
    "        \"\"\"\n",
    "        for dir_tree in dir_tree_lines:\n",
    "            dir_tree = dir_tree.split('-')\n",
    "            self.dir_tree_list.append([dir_tree[-1], len(dir_tree) - 1])\n",
    "\n",
    "        # 先循环创建节点\n",
    "        for num, node in enumerate(self.dir_tree_list):\n",
    "            temp = Node(val=node[0])\n",
    "            temp.count = node[1]\n",
    "            self.dir_dict[num] = temp\n",
    "\n",
    "        for i in range(1, len(self.dir_tree_list)):\n",
    "            # 获取对应节点\n",
    "            node = self.dir_dict[i]\n",
    "            # 我们在固定范围内寻找\n",
    "            for j in range(i - 1, -1, -1):\n",
    "                item_node = self.dir_dict[j]\n",
    "                if node.count == item_node.count + 1:\n",
    "                    item_node.child.append(node)\n",
    "                    node.father = item_node\n",
    "                    break\n",
    "\n",
    "    def is_full(self, node, dir_name_bunch: List[str]):\n",
    "        if len(node.child) == 0 and node.val in dir_name_bunch:\n",
    "            if node.father:\n",
    "                child_list = node.father.child\n",
    "                temp = []\n",
    "                for i in range(len(child_list)):\n",
    "                    if child_list[i] != node:\n",
    "                        temp.append(child_list[i])\n",
    "                node.father.child = temp\n",
    "                self.is_in = True\n",
    "            self.count += 1\n",
    "            return True\n",
    "        for child in node.child:\n",
    "            self.is_full(child, dir_name_bunch)\n",
    "\n",
    "    def del_directorys(self, dir_name_bunch: List[str], dir_tree_lines: List[str]) -> int:\n",
    "        self.build_tree(dir_tree_lines)\n",
    "        root = self.dir_dict[0]\n",
    "        self.is_full(root, dir_name_bunch)\n",
    "        while self.is_in:\n",
    "            self.is_in = False\n",
    "            self.is_full(root, dir_name_bunch)\n",
    "        return self.count"
   ]
  },
  {
   "cell_type": "code",
   "execution_count": 3,
   "outputs": [],
   "source": [
    "dir_name_bunch = ['A']\n",
    "dir_tree_lines = ['A','|-A','|-A']"
   ],
   "metadata": {
    "collapsed": false
   }
  },
  {
   "cell_type": "code",
   "execution_count": 4,
   "outputs": [
    {
     "data": {
      "text/plain": "3"
     },
     "execution_count": 4,
     "metadata": {},
     "output_type": "execute_result"
    }
   ],
   "source": [
    "sol = Solution()\n",
    "sol.del_directorys(dir_name_bunch, dir_tree_lines)"
   ],
   "metadata": {
    "collapsed": false
   }
  }
 ],
 "metadata": {
  "kernelspec": {
   "display_name": "Python 3",
   "language": "python",
   "name": "python3"
  },
  "language_info": {
   "codemirror_mode": {
    "name": "ipython",
    "version": 2
   },
   "file_extension": ".py",
   "mimetype": "text/x-python",
   "name": "python",
   "nbconvert_exporter": "python",
   "pygments_lexer": "ipython2",
   "version": "2.7.6"
  }
 },
 "nbformat": 4,
 "nbformat_minor": 0
}
