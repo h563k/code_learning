{
 "cells": [
  {
   "cell_type": "markdown",
   "source": [
    "[1300. 【软件认证】社区蔬菜配送](https://oj.rnd.huawei.com/problems/1300/details)"
   ],
   "metadata": {
    "collapsed": false
   }
  },
  {
   "cell_type": "markdown",
   "source": [
    "疫情期间，有一批社区的家庭需要配送爱心蔬菜，每个社区的家庭个数用communities数组表示（下标表示社区编号，值表示对应社区的家庭个数，例如：communities[0]=5 表示第0个社区有5个家庭）。\n",
    "\n",
    "现有 num 个志愿者为这些社区家庭配送蔬菜，配送规则如下：\n",
    "\n",
    "每个社区只能安排 1 个志愿人员进行配送。\n",
    "每个志愿者只能被分配一次任务，配送编号连续的若干个社区，例如：第k个志愿者可以配送communities[0]、communities[1]、communities[2]、communities[3]，但不能配送communities[0]、communities[3]、communities[4]。\n",
    "为每个家庭配送爱心蔬菜耗时均为1小时。\n",
    "志愿者可并行配送。\n",
    "请合理分配志愿者, 使得能够在最短的时间内完成配送任务，并返回所需的小时数。\n",
    "\n",
    "解答要求\n",
    "时间限制：1000ms, 内存限制：256MB\n",
    "输入\n",
    "第一行表示志愿者数 num，取值范围为 [1,10^5]\n",
    "第二行表示 communities 数组的长度（即社区数），取值范围为 [1,10^5]\n",
    "第三行表示 communities 数组，表示各社区的家庭数，数组元素的取值范围为 [1,10^4]\n",
    "\n",
    "输出\n",
    "一个整数，表示完成配送任务最少需要的小时数\n",
    "```\n",
    "样例\n",
    "输入样例 1 复制\n",
    "\n",
    "2\n",
    "3\n",
    "40 10 20\n",
    "输出样例 1\n",
    "\n",
    "40\n",
    "提示样例 1\n",
    "两个人并行配送：一人负责社区0，需要40小时；另外一人负责社区1和2，需要30个小时。因此最少需要40小时。\n",
    "\n",
    "\n",
    "\n",
    "输入样例 2 复制\n",
    "\n",
    "2\n",
    "4\n",
    "1 1 6 2\n",
    "输出样例 2\n",
    "\n",
    "8\n",
    "提示样例 2\n",
    "两人并行：\n",
    "方案1：一人配送 1 + 1 + 6 , 另一人配送 2，完成需要8小时\n",
    "方案2：一人配送 1 + 1，另一人配送 6 + 2，完成需要8小时\n",
    "两种方案，完成配送最短时间都是 8；其它方案的配送时间都更长；因此返回 8\n",
    "\n",
    "\n",
    "\n",
    "输入样例 3 复制\n",
    "\n",
    "3\n",
    "2\n",
    "1 2\n",
    "输出样例 3\n",
    "\n",
    "2\n",
    "提示样例 3\n",
    "因为每个社区只能分配一名志愿者，所以2个社区只能分配2个志愿者，共需要2个小时\n",
    "```\n",
    "```"
   ],
   "metadata": {
    "collapsed": false
   }
  },
  {
   "cell_type": "code",
   "execution_count": 369,
   "metadata": {
    "collapsed": true
   },
   "outputs": [],
   "source": [
    "from typing import List\n",
    "from collections import deque\n",
    "\n",
    "\n",
    "class Solution:\n",
    "    def divide(self, communities: List[int], mid: int):\n",
    "        temp = deque(communities)\n",
    "        sums, count = 0, 0\n",
    "        while temp:\n",
    "            communitie = temp.popleft()\n",
    "            sums += communitie\n",
    "            if sums > mid:\n",
    "                count += 1\n",
    "                temp.appendleft(communitie)\n",
    "                sums = 0\n",
    "        return count + 1 if sums else count\n",
    "\n",
    "    def deliver(self, num: int, communities: List[int]) -> int:\n",
    "        if num >= len(communities):\n",
    "            return max(communities)\n",
    "        left, right = max(communities), sum(communities)\n",
    "        mid = (left + right) // 2\n",
    "        while left < right:\n",
    "            temp = self.divide(communities, mid)\n",
    "            # 如果temp大于num.说明达成mid时间需要的快递员数量超了，得增大mid\n",
    "            if temp > num:\n",
    "                left = mid + 1\n",
    "            else:\n",
    "                right = mid\n",
    "            mid = (left + right) // 2\n",
    "        return mid\n",
    "\n"
   ]
  },
  {
   "cell_type": "code",
   "execution_count": 370,
   "outputs": [],
   "source": [
    "num = 2\n",
    "communities = [40, 10, 20]"
   ],
   "metadata": {
    "collapsed": false
   }
  },
  {
   "cell_type": "code",
   "execution_count": 371,
   "outputs": [],
   "source": [
    "# num = 2\n",
    "# communities = [21, 21, 21, 21, 21, 21, 21, 21, 21]"
   ],
   "metadata": {
    "collapsed": false
   }
  },
  {
   "cell_type": "code",
   "execution_count": 372,
   "outputs": [],
   "source": [
    "num = 2\n",
    "communities = [1,1,6,2]"
   ],
   "metadata": {
    "collapsed": false
   }
  },
  {
   "cell_type": "code",
   "execution_count": 373,
   "outputs": [
    {
     "data": {
      "text/plain": "8"
     },
     "execution_count": 373,
     "metadata": {},
     "output_type": "execute_result"
    }
   ],
   "source": [
    "sol = Solution()\n",
    "sol.deliver(num, communities)"
   ],
   "metadata": {
    "collapsed": false
   }
  }
 ],
 "metadata": {
  "kernelspec": {
   "display_name": "Python 3",
   "language": "python",
   "name": "python3"
  },
  "language_info": {
   "codemirror_mode": {
    "name": "ipython",
    "version": 2
   },
   "file_extension": ".py",
   "mimetype": "text/x-python",
   "name": "python",
   "nbconvert_exporter": "python",
   "pygments_lexer": "ipython2",
   "version": "2.7.6"
  }
 },
 "nbformat": 4,
 "nbformat_minor": 0
}
