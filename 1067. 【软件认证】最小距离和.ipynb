{
 "cells": [
  {
   "cell_type": "markdown",
   "source": [
    "题目描述\n",
    "终端公司的零售店需要定期去仓库提取货物，假设零售店和仓库在一个矩阵上：相邻点的距离为 1 ；只能通过上下左右走动。\n",
    "矩阵元素的值仅为三种：0，表示仓库； -1，表示障碍； 1，表示零售店。 注：障碍无法通过，其它可以通过。\n",
    "\n",
    "为了将取货效率最大化，需要计算每个零售店走到最近仓库的最小距离，并输出这些最小距离的和：\n",
    "\n",
    "无法到达仓库的零售店，不参与距离和的计算；\n",
    "没有零售店或者没有仓库的话，返回0;\n",
    "解答要求\n",
    "时间限制：3000ms, 内存限制：256MB\n",
    "输入\n",
    "第一行为两个数字 m 和 n，表示数组的行数和列数，m和n的范围均为 [1,300) 。\n",
    "接下来的 m 行表示一个 m*n 的数组，每行的元素间以空格分割。\n",
    "\n",
    "输出\n",
    "一个整数，表示所计算的最小距离和。\n",
    "\n",
    "样例\n",
    "输入样例 1 复制\n",
    "\n",
    "3 3\n",
    "1 -1 0\n",
    "0 1 1\n",
    "1 -1 1\n",
    "输出样例 1\n",
    "\n",
    "6\n",
    "提示样例 1\n",
    "如下图所示，共有5个零售店（绿色），2个仓库（红色），2个障碍（白色），零售店上标注的数字表示到最近仓库的最小距离：\n",
    "<img src=\"data:image/png;base64,iVBORw0KGgoAAAANSUhEUgAAALkAAACgCAYAAABQdM0PAAAAAXNSR0IArs4c6QAAAARnQU1BAACxjwv8YQUAAAAJcEhZcwAADsIAAA7CARUoSoAAAAPQSURBVHhe7d0xTiNJAIbR8iJLpJMRk9oZERLBHIGD+Dg+CEeYwCmZSYnJCLEEaNY9lCUv2sDd3rWrf70nWV2U5JF6/FFyW65m8nur9PD09FRms1n9KYNzGoeh5/RXPUIskRNP5MQTOfFETrxen65MJpM6gvPp+YFgmazX64OfMZ/P6wjOZ9tsHR3GSs7o9F7JB0f+cF8HI3f/UAf9//Natf86/arHsftZj52+r5MLT+KJnHgiJ57IiSdy4omceCInnsiJJ3LiiZx4IieeyIkncuKJnHgiJ17DkV+U2fKy3C2n5arOwBDtRf483Yb9FfePOgXHaHYlf7v9KK91DMdoL/Lr97JabMrjTcZWNM7PhSfxRE48kRNP5MQTOfFETjyRE6/hyD/L02JTVov38lJnYAgrOfFETjyRE0/kxBM58UROPJETT+TEEznxRE48kRNP5MQTOfFETjyRE0/kxBv+t/XhTPr+bf3Jer0++Bnz+byO4Hy2zdbRYazkjE7vlXxo5L/qcex+1uMfD/d1MHL3D3WwFXhOfSN34Uk8kRNP5MQTOfFETjyRE0/kxBM58UROPJETT+TEEznxRE48kRNP5MQT+UldlNnystwtp+WqzvD/E/kpPE+3YX/F/aNOcToiP6G324/yWscxuh07+zuRGiTyU7h+L6vFpjze9Nu21bQRxL0jcobp9o6OZP+oyIkncuKJnHgiJ57IiSdy4on8pD7L02JTVov38lJnRuv75+QNf27uXoj1+Id7IbZr75zcCxG+ETnxRE48kRNP5MQTOfFETjyRE0/kxBM58UROPJETT+TEEznxRE68wd8nh3Pp+33yyXq9PvgZ8/m8juB8ts3W0WGs5IxO75V8cOS2VTXL6/RPLjyJJ3LiiZx4IieeyIkncuKJnHgiJ57IiSdy4omceCInnsiJJ3LiiZx4DUd+UWbLy3K3nJarOgNDtBf583Qb9lfcP+oUHKPZlfzt9qO81jGN6nbrfH80qL3Ir9/LarEpjzcZW9Fi7YLuttftHp0GQ3fhSTyRM8z+6t04kfPf2H/70hiRc7yGA++InOM0HnhH5Aw3gsA7ImeYfwu8m9vNN6ThyD/L02JTVov38lJnaNAu7Abj3nEvxL0Xx70QG3bE6+TtCvFETjyRE0/kxBM58UROPJETT+TEEznxRE48kRNP5MQTOfFETjyRE2/498nhTPp+n3yyXq8PfsZ8Pq8jOJ9ts3V0GCs5o9N3Je/1nrz7x7vfou6Y9HBO43jszqkvF57EEznxRE48kRNP5MQTOfFETjyRE0/khCvlb+LT5BdMIuyUAAAAAElFTkSuQmCC\" >\n",
    "位置[2][2]的零售店，距离[0][2]的仓库为 2，距离[1][0]的仓库为 3，因此到最近仓库的最小距离为 2 ； 其余零售店到最近仓库的最小距离都为 1。所以，所有零售店到仓库的最小距离和为 1 + 1 + 1 + 1 + 2 = 6 。\n",
    "\n",
    "\n",
    "\n",
    "输入样例 2 复制\n",
    "\n",
    "2 3\n",
    "0 -1 1\n",
    "1 -1 1\n",
    "输出样例 2\n",
    "\n",
    "1\n",
    "提示样例 2\n",
    "位置[0][2]和[1][2]的零售店无法到达唯一的仓库[0][0]，只有[1][0]的零售店可以到达，且最近距离为 1 。"
   ],
   "metadata": {
    "collapsed": false
   }
  },
  {
   "cell_type": "code",
   "execution_count": 1,
   "metadata": {
    "collapsed": true
   },
   "outputs": [],
   "source": [
    "from typing import List\n",
    "from collections import deque\n",
    "\n",
    "\n",
    "class Solution:\n",
    "    def bfs(self, i: int, j: int, m: int, n: int, maps: List[List[int]]):\n",
    "        count = 0\n",
    "        temp_deque = deque([[i, j]])\n",
    "        matrix = [[0] * n for _ in range(m)]\n",
    "        while temp_deque:\n",
    "            for _ in range(len(temp_deque)):\n",
    "                # 上下左右试探\n",
    "                up, down = temp_deque.popleft()\n",
    "                for x, y in [[up + 1, down], [up - 1, down], [up, down + 1], [up, down - 1]]:\n",
    "                    if 0 <= x < m and 0 <= y < n and matrix[x][y] == 0:\n",
    "                        if maps[x][y] == 0:\n",
    "                            count += 1\n",
    "                            return count\n",
    "                        if maps[x][y] == 1:\n",
    "                            temp_deque.append([x, y])\n",
    "                            matrix[x][y] = 1\n",
    "            count += 1\n",
    "        return 0\n",
    "\n",
    "    def nearest_ware_house(self, maps: List[List[int]]) -> int:\n",
    "        # 在此添加你的代码\n",
    "        m, n = len(maps), len(maps[0])\n",
    "        count_sum = 0\n",
    "        for i in range(m):\n",
    "            for j in range(n):\n",
    "                if maps[i][j] == 1:\n",
    "                    count_sum += self.bfs(i, j, m, n, maps)\n",
    "        return count_sum\n"
   ]
  },
  {
   "cell_type": "code",
   "execution_count": 2,
   "outputs": [],
   "source": [
    "m = 3\n",
    "n = 3\n",
    "maps = [[1, -1, 0],\n",
    "        [0, 1, 1],\n",
    "        [1, -1, 1],\n",
    "        ]"
   ],
   "metadata": {
    "collapsed": false
   }
  },
  {
   "cell_type": "code",
   "execution_count": 3,
   "outputs": [
    {
     "data": {
      "text/plain": "6"
     },
     "execution_count": 3,
     "metadata": {},
     "output_type": "execute_result"
    }
   ],
   "source": [
    "sol = Solution()\n",
    "sol.nearest_ware_house(maps)"
   ],
   "metadata": {
    "collapsed": false
   }
  }
 ],
 "metadata": {
  "kernelspec": {
   "display_name": "Python 3",
   "language": "python",
   "name": "python3"
  },
  "language_info": {
   "codemirror_mode": {
    "name": "ipython",
    "version": 2
   },
   "file_extension": ".py",
   "mimetype": "text/x-python",
   "name": "python",
   "nbconvert_exporter": "python",
   "pygments_lexer": "ipython2",
   "version": "2.7.6"
  }
 },
 "nbformat": 4,
 "nbformat_minor": 0
}
