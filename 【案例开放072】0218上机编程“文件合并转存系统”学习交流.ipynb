{
 "cells": [
  {
   "cell_type": "markdown",
   "metadata": {
    "collapsed": false
   },
   "source": [
    "http://3ms.huawei.com/km/groups/3803117/blogs/details/11856585?l=zh-cn"
   ]
  },
  {
   "cell_type": "markdown",
   "metadata": {
    "collapsed": false
   },
   "source": [
    "请设计一个文件下载代理系统，该系统能接收下载请求，并在指定时间内收取多个文件分块后可以进行合并保存。\n",
    "\n",
    "l  FileSystem(int timeout) —— 初始化系统，有效收包时长为 timeout。\n",
    "l  Request(int time, int fileId, int number) —— 在时刻 time 收到 fileId 文件的下载请求，分块数量为 number 。\n",
    "o    若请求队列中已存在编号 fileId 的文件，则不作任何处理，返回 false；\n",
    "o    若请求队列中不存在编号 fileId 的文件，则将请求加入队尾，返回 true。\n",
    "·         请求队列用于存放已收到的请求；当文件fileId 完成合并保存或超时出列后，不再重复使用。\n",
    "l  Receive(int time, int fileId, int partId) —— 在时刻 time，收到 fileId 文件的 partId 分块（编号从 0 ~ number-1）。\n",
    "o    若请求队列中不存在编号 fileId 的文件、或超时、或收到的分块在同一文件中重复，则返回 -1\n",
    "o    若请求队列中存在编号 fileId 的文件且收到的分块在该文件中没有重复，则接受该分块，返回该文件尚未收到的分块数量\n",
    "·         注意：文件收包的有效时间不超过 此文件Request时的time + timeout ，若在有效时间内收完所有包，则文件为 Ready状态，否则视为超时（不再接收分块）。Ready状态文件的合并保存遵循「队首优先保存规则」处理。收包后按照此规则做后处理。\n",
    "\n",
    "l  Query(int time) —— 查询时刻 time 已完成合并保存的文件个数。注意先按照「队首优先保存规则」处理后再查询。\n",
    "「队首优先保存规则」如下：\n",
    "\n",
    "l  任意时刻，对于请求队列队首的文件下载请求，若超时则直接移除该请求；若已收完所有分块，则合并保存文件再移除该请求；持续处理队首的请求，直到队首是未超时且未收完所有分块的请求。\n",
    "注意：\n",
    "\n",
    "l  输入保证 Request、Receive、Query 函数的日期 time 参数按输入顺序严格递增\n",
    "\n",
    "示例 1：\n",
    "\n",
    "输入：\n",
    "[\"FileSystem\",\"request\",\"receive\",\"receive\",\"query\"]\n",
    "[[3],[0,5,2],[1,5,1],[2,5,0],[3]]\n",
    "\n",
    "输出：[null,true,1,0,1]\n",
    "\n",
    "解释：\n",
    "FileSystem sys = FileSystem(3); // 初始化，请求超时的时间间隔为 3\n",
    "sys.request(0,5,2); // 时刻 0，收到编号 5 的文件下载请求，该文件有 2 个分块，该请求加入队列，返回 true\n",
    "sys.receive(1,5,1); // 时刻 1，收到编号 5 的文件的分块 1，剩余 1 个未收到的分块，返回 1\n",
    "sys.receive(2,5,0); // 时刻 2，收到编号 5 的文件的分块 0，剩余 0 个未收到的分块，返回 0\n",
    "// 时刻 2，由于队首为编号 5 的文件请求，已收完全部分块，因此将这些分块合并为文件 5 保存，并将该请求移出队列\n",
    "sys.query(3); // 时刻 3，已成功合并保存 1 份完整文件，返回 1\n",
    "注：输出中的 null 表示此对应函数无输出（其中：C 的构造函数有返回值，但是也是无需输出）\n",
    "\n",
    "示例 2：\n",
    "\n",
    "输入：\n",
    "[\"FileSystem\",\"request\",\"request\",\"request\",\"receive\",\"receive\",\"receive\",\"request\",\"receive\",\"query\",\"request\",\"request\",\"receive\",\"query\",\"query\"]\n",
    "[[7],[0,17,2],[1,21,2],[2,35,1],[3,21,1],[4,35,0],[5,52,1],[6,21,2],[8,21,0],[9],[10,81,1],[13,76,1],[14,76,0],[16],[17]]\n",
    "\n",
    "输出：[null,true,true,true,1,0,-1,false,0,2,true,true,0,2,3]\n",
    "\n",
    "解释：\n",
    "FileSystem sys = FileSystem(7); // 初始化，请求超时的时间间隔为 7\n",
    "sys.request(0,17,2); // 返回 true\n",
    "sys.request(1,21,2); // 返回 true\n",
    "sys.request(2,35,1); // 返回 true\n",
    "sys.receive(3,21,1); // 返回 1\n",
    "sys.receive(4,35,0); // 返回 0，此时编号 35 的文件收完所有包，但不是队首，因此暂时无法合并保存\n",
    "sys.receive(5,52,1); // 返回 -1\n",
    "sys.request(6,21,2); // 返回 false\n",
    "sys.receive(8,21,0); // 时刻 8，编号 21 的文件未超时，收到分块 0，剩余 0 个未收到的分块，返回 0\n",
    "// 注意，收完包后按照「队首优先保存规则」做后处理。由于队首编号 17 的文件超时，编号 21 的文件成为队首且已收完所有包，合并保存后出列；之后编号 35 的文件成为队首，完成合并保存后也出列\n",
    "sys.query(9) // 时刻 9，共有编号 21、35 的文件合并保存成功，返回 2\n",
    "sys.request(10,81,1); // 返回 true\n",
    "sys.request(13,76,1); // 返回 true\n",
    "sys.receive(14,76,0); // 返回 0，此时编号 76 的文件收完所有包，但不是队首，因此暂时无法合并保存\n",
    "sys.query(16); // 返回 2\n",
    "sys.query(17); // 编号 81 的文件无法在有效时间内收完所有包，视为超时，编号 76 的文件成为队首，完成合并保存后出列。因此返回 3\n",
    "注：输出中的 null 表示此对应函数无输出（其中：C 的构造函数有返回值，但是也是无需输出）\n",
    "\n",
    "提示：\n",
    "\n",
    "\n",
    "1 <= request, receive, query 累计操作数 <= 10^3\n",
    "2 <= timeout <= 100\n",
    "0 <= time <= 10^5\n",
    "1 <= fileId <= 10^3\n",
    "1 <= number <= 100\n",
    "0 <= partId < number\n",
    "\n",
    " 严格递增：对于数组arr，都有 arr[i] < arr[i+1] 。"
   ]
  },
  {
   "cell_type": "code",
   "execution_count": 1,
   "metadata": {
    "collapsed": true
   },
   "outputs": [],
   "source": [
    "class FileSystem:\n",
    "\n",
    "    def __init__(self, timeout: int):\n",
    "        self.timeout = timeout\n",
    "        self.file_record = {}\n",
    "        self.ready = []\n",
    "\n",
    "    def check(self, time):\n",
    "        while self.file_record:\n",
    "            pop_key, (begin_time, number, part_list) = self.file_record.items().__iter__().__next__()\n",
    "            if number == len(part_list):\n",
    "                self.file_record.pop(pop_key)\n",
    "                self.ready.append(pop_key)\n",
    "            elif begin_time + self.timeout <= time:\n",
    "                self.file_record.pop(pop_key)\n",
    "            else:\n",
    "                break\n",
    "\n",
    "    def request(self, time, fileId, number):\n",
    "        if self.file_record.get(fileId):\n",
    "            return False\n",
    "        self.file_record[fileId] = [time, number, []]\n",
    "        return True\n",
    "\n",
    "    def receive(self, time, fileId, partId):\n",
    "        if not self.file_record.get(fileId) or self.file_record[fileId][0] + self.timeout < time or partId in \\\n",
    "                self.file_record[fileId][2]:\n",
    "            return -1\n",
    "        _, number, part_list = self.file_record[fileId]\n",
    "        part_list.append(partId)\n",
    "        self.check(time)\n",
    "        return number - len(part_list)\n",
    "\n",
    "    def query(self, time):\n",
    "        self.check(time)\n",
    "        return len(self.ready)\n"
   ]
  },
  {
   "cell_type": "markdown",
   "metadata": {
    "collapsed": false
   },
   "source": [
    "FileSystem [7] None"
   ]
  },
  {
   "cell_type": "code",
   "execution_count": 2,
   "metadata": {
    "collapsed": false
   },
   "outputs": [],
   "source": [
    "file = FileSystem(7)"
   ]
  },
  {
   "cell_type": "markdown",
   "metadata": {
    "collapsed": false
   },
   "source": [
    "request [0, 17, 2] True"
   ]
  },
  {
   "cell_type": "code",
   "execution_count": 3,
   "metadata": {
    "collapsed": false
   },
   "outputs": [
    {
     "data": {
      "text/plain": [
       "True"
      ]
     },
     "execution_count": 3,
     "metadata": {},
     "output_type": "execute_result"
    }
   ],
   "source": [
    "file.request(0,17,2)"
   ]
  },
  {
   "cell_type": "markdown",
   "metadata": {
    "collapsed": false
   },
   "source": [
    "request [1, 21, 2] True"
   ]
  },
  {
   "cell_type": "code",
   "execution_count": 4,
   "metadata": {
    "collapsed": false
   },
   "outputs": [
    {
     "data": {
      "text/plain": [
       "True"
      ]
     },
     "execution_count": 4,
     "metadata": {},
     "output_type": "execute_result"
    }
   ],
   "source": [
    "file.request(1,21,2)"
   ]
  },
  {
   "cell_type": "markdown",
   "metadata": {
    "collapsed": false
   },
   "source": [
    "request [2, 35, 1] True"
   ]
  },
  {
   "cell_type": "code",
   "execution_count": 5,
   "metadata": {
    "collapsed": false
   },
   "outputs": [
    {
     "data": {
      "text/plain": [
       "True"
      ]
     },
     "execution_count": 5,
     "metadata": {},
     "output_type": "execute_result"
    }
   ],
   "source": [
    "file.request(2, 35, 1)"
   ]
  },
  {
   "cell_type": "markdown",
   "metadata": {
    "collapsed": false
   },
   "source": [
    "receive [3, 21, 1] 1"
   ]
  },
  {
   "cell_type": "code",
   "execution_count": 6,
   "metadata": {
    "collapsed": false
   },
   "outputs": [
    {
     "data": {
      "text/plain": [
       "1"
      ]
     },
     "execution_count": 6,
     "metadata": {},
     "output_type": "execute_result"
    }
   ],
   "source": [
    "file.receive(3,21,1)"
   ]
  },
  {
   "cell_type": "markdown",
   "metadata": {
    "collapsed": false
   },
   "source": [
    "receive [4, 35, 0] 0"
   ]
  },
  {
   "cell_type": "code",
   "execution_count": 7,
   "metadata": {
    "collapsed": false
   },
   "outputs": [
    {
     "data": {
      "text/plain": [
       "0"
      ]
     },
     "execution_count": 7,
     "metadata": {},
     "output_type": "execute_result"
    }
   ],
   "source": [
    "file.receive(4,35,0)"
   ]
  },
  {
   "cell_type": "markdown",
   "metadata": {
    "collapsed": false
   },
   "source": [
    "receive [5, 52, 1] -1"
   ]
  },
  {
   "cell_type": "code",
   "execution_count": 8,
   "metadata": {
    "collapsed": false
   },
   "outputs": [
    {
     "data": {
      "text/plain": [
       "-1"
      ]
     },
     "execution_count": 8,
     "metadata": {},
     "output_type": "execute_result"
    }
   ],
   "source": [
    "file.receive(5,52,1)"
   ]
  },
  {
   "cell_type": "markdown",
   "metadata": {
    "collapsed": false
   },
   "source": [
    "request [6, 21, 2] False"
   ]
  },
  {
   "cell_type": "code",
   "execution_count": 9,
   "metadata": {
    "collapsed": false
   },
   "outputs": [
    {
     "data": {
      "text/plain": [
       "False"
      ]
     },
     "execution_count": 9,
     "metadata": {},
     "output_type": "execute_result"
    }
   ],
   "source": [
    "file.request(6,21,2)"
   ]
  },
  {
   "cell_type": "markdown",
   "metadata": {
    "collapsed": false
   },
   "source": [
    "receive [8, 21, 0] 0"
   ]
  },
  {
   "cell_type": "code",
   "execution_count": 10,
   "metadata": {
    "collapsed": false
   },
   "outputs": [
    {
     "data": {
      "text/plain": [
       "0"
      ]
     },
     "execution_count": 10,
     "metadata": {},
     "output_type": "execute_result"
    }
   ],
   "source": [
    "file.receive(8,21,0)"
   ]
  },
  {
   "cell_type": "markdown",
   "metadata": {
    "collapsed": false
   },
   "source": [
    "query [9] 2"
   ]
  },
  {
   "cell_type": "code",
   "execution_count": 11,
   "metadata": {
    "collapsed": false
   },
   "outputs": [
    {
     "data": {
      "text/plain": [
       "2"
      ]
     },
     "execution_count": 11,
     "metadata": {},
     "output_type": "execute_result"
    }
   ],
   "source": [
    "file.query(9)"
   ]
  },
  {
   "cell_type": "markdown",
   "metadata": {
    "collapsed": false
   },
   "source": [
    "request [10, 81, 1] True"
   ]
  },
  {
   "cell_type": "code",
   "execution_count": 12,
   "metadata": {
    "collapsed": false
   },
   "outputs": [
    {
     "data": {
      "text/plain": [
       "True"
      ]
     },
     "execution_count": 12,
     "metadata": {},
     "output_type": "execute_result"
    }
   ],
   "source": [
    "file.request(10,81,1)"
   ]
  },
  {
   "cell_type": "markdown",
   "metadata": {
    "collapsed": false
   },
   "source": [
    "request [13, 76, 1] True"
   ]
  },
  {
   "cell_type": "code",
   "execution_count": 13,
   "metadata": {
    "collapsed": false
   },
   "outputs": [
    {
     "data": {
      "text/plain": [
       "True"
      ]
     },
     "execution_count": 13,
     "metadata": {},
     "output_type": "execute_result"
    }
   ],
   "source": [
    "file.request(13,76,1)"
   ]
  },
  {
   "cell_type": "markdown",
   "metadata": {
    "collapsed": false
   },
   "source": [
    "receive [14, 76, 0] 0"
   ]
  },
  {
   "cell_type": "code",
   "execution_count": 14,
   "metadata": {
    "collapsed": false
   },
   "outputs": [
    {
     "data": {
      "text/plain": [
       "0"
      ]
     },
     "execution_count": 14,
     "metadata": {},
     "output_type": "execute_result"
    }
   ],
   "source": [
    "file.receive(14,76,0)"
   ]
  },
  {
   "cell_type": "markdown",
   "metadata": {
    "collapsed": false
   },
   "source": [
    "query [16] 2"
   ]
  },
  {
   "cell_type": "code",
   "execution_count": 15,
   "metadata": {
    "collapsed": false
   },
   "outputs": [
    {
     "data": {
      "text/plain": [
       "2"
      ]
     },
     "execution_count": 15,
     "metadata": {},
     "output_type": "execute_result"
    }
   ],
   "source": [
    "file.query(16)"
   ]
  },
  {
   "cell_type": "markdown",
   "metadata": {
    "collapsed": false
   },
   "source": [
    "query [17] 3"
   ]
  },
  {
   "cell_type": "code",
   "execution_count": 16,
   "metadata": {
    "collapsed": false
   },
   "outputs": [
    {
     "data": {
      "text/plain": [
       "3"
      ]
     },
     "execution_count": 16,
     "metadata": {},
     "output_type": "execute_result"
    }
   ],
   "source": [
    "file.query(17)"
   ]
  }
 ],
 "metadata": {
  "kernelspec": {
   "display_name": "Python 3.9.16 64-bit ('base': conda)",
   "language": "python",
   "name": "python3"
  },
  "language_info": {
   "codemirror_mode": {
    "name": "ipython",
    "version": 2
   },
   "file_extension": ".py",
   "mimetype": "text/x-python",
   "name": "python",
   "nbconvert_exporter": "python",
   "pygments_lexer": "ipython2",
   "version": "3.9.16"
  },
  "vscode": {
   "interpreter": {
    "hash": "67bfac4f4aefe1c16f1836a62d55b6e6baa7aba1ac5ce70e93ee8e90eb4f073a"
   }
  }
 },
 "nbformat": 4,
 "nbformat_minor": 0
}
