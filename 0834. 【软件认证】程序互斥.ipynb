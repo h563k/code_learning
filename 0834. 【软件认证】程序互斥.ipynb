{
 "cells": [
  {
   "cell_type": "markdown",
   "source": [
    "https://oj.rnd.huawei.com/problems/834/detailsr"
   ],
   "metadata": {
    "collapsed": false
   }
  },
  {
   "cell_type": "markdown",
   "source": [
    "有些计算机程序存在互斥，两个不能一起运行；我们把一组可随意组合运行（即任意两个程序都不互斥）的程序集合，称为「和谐程序组」。\n",
    "\n",
    "现给定一组计算机程序信息（程序编号及运行时间），以及互斥清单，请找出符合以下规则的一个和谐程序组，并输出该和谐程序组的所有程序的运行时间之和：\n",
    "\n",
    "规则1：首先和谐程序组的程序数量最多；\n",
    "规则2：如果规则1多解，则找出和谐程序组中所有程序运行时间之和最小的。\n",
    "解答要求\n",
    "时间限制：1000ms, 内存限制：256MB\n",
    "输入\n",
    "首行是一个整数 appNum ，表示计算机程序的数量，程序编号从 1 到 appNum，取值范围 [1,20]\n",
    "第二行 appNum 个整数，依次表示每个计算机程序的运行时间，运行时间取值范围 [1,100]\n",
    "第三行是一个整数 mutexNum ，表示互斥的程序对的数量，取值范围 [0, appNum*(appNum-1)/2]\n",
    "接下来 mutexNum 行，每行一对互斥的程序编号，格式如NO1 NO2，程序编号的范围 [1, appNum]\n",
    "\n",
    "用例保证 mutexNum 行输入中不存在重复的互斥程序对\n",
    "输出\n",
    "一个整数，表示满足条件的和谐程序组的程序运行时间之和\n",
    "\n",
    "样例\n",
    "输入样例 1 复制\n",
    "\n",
    "3\n",
    "1 2 10\n",
    "1\n",
    "1 2\n",
    "输出样例 1\n",
    "\n",
    "11\n",
    "提示样例 1\n",
    "程序 1 与 2 互斥，不能同时存在。可行的组合：\n",
    "1）程序数量最多为2：分别为 “程序1 + 程序3” ，或 “程序2 + 程序3”\n",
    "2）两个组合的运行时间之和分别为 11 和 12\n",
    "因此选择运行之和小的组合为 “程序1 + 程序3”，并且返回其运行时间之和 11\n",
    "\n",
    "\n",
    "\n",
    "输入样例 2 复制\n",
    "\n",
    "1\n",
    "1\n",
    "0\n",
    "输出样例 2\n",
    "\n",
    "1\n",
    "提示样例 2\n",
    "只有一个程序，无互斥对，返回这个程序的运行时间"
   ],
   "metadata": {
    "collapsed": false
   }
  },
  {
   "cell_type": "code",
   "execution_count": 4,
   "outputs": [],
   "source": [
    "from typing import List\n",
    "\n",
    "\n",
    "class Solution:\n",
    "    def __init__(self):\n",
    "        self.used = set()\n",
    "        self.unused = []\n",
    "        self.dicts = {}\n",
    "        self.func_list = []\n",
    "        self.max_len = 0\n",
    "\n",
    "    def is_good(self, mutexs, func_list):\n",
    "        for unused in self.unused:\n",
    "            if not func_list & self.dicts[unused]:\n",
    "                return False\n",
    "        for func1, func2 in mutexs:\n",
    "            if self.dicts[func1] & func_list and self.dicts[func2] & func_list:\n",
    "                return False\n",
    "        return True\n",
    "\n",
    "    def count(self, func_list):\n",
    "        n = 0\n",
    "        while func_list:\n",
    "            func_list = func_list & (func_list - 1)\n",
    "            n += 1\n",
    "        return n\n",
    "\n",
    "    def calc_run_time(self, mutexs: List[List[int]], app_run_times: List[int]) -> int:\n",
    "        lens = len(app_run_times)\n",
    "        self.dicts = {x + 1: 2 ** x for x in range(lens)}\n",
    "        for func1, func2 in mutexs:\n",
    "            self.used.add(func1)\n",
    "            self.used.add(func2)\n",
    "        for i in range(1, lens + 1):\n",
    "            if i not in self.used:\n",
    "                self.unused.append(i)\n",
    "        temp = []\n",
    "        self.func_list = list(range(2 ** lens))\n",
    "        for func_list in self.func_list:\n",
    "            if self.is_good(mutexs, func_list):\n",
    "                func_list_len = self.count(func_list)\n",
    "                if func_list_len > self.max_len:\n",
    "                    temp = [func_list]\n",
    "                    self.max_len = func_list_len\n",
    "                elif func_list_len == self.max_len:\n",
    "                    temp.append(func_list)\n",
    "\n",
    "        min_time = sum(app_run_times)\n",
    "        for func_list in temp:\n",
    "            func = 0\n",
    "            for i in range(lens):\n",
    "                if func_list & self.dicts[i+1]:\n",
    "                    func += app_run_times[i]\n",
    "            min_time = min(func, min_time)\n",
    "        return min_time"
   ],
   "metadata": {
    "collapsed": false
   }
  },
  {
   "cell_type": "code",
   "execution_count": 5,
   "outputs": [],
   "source": [
    "mutexs = [\n",
    "    [1,2],\n",
    "]\n",
    "app_run_times = [1,2,10]"
   ],
   "metadata": {
    "collapsed": false
   }
  },
  {
   "cell_type": "code",
   "execution_count": 6,
   "outputs": [
    {
     "data": {
      "text/plain": "11"
     },
     "execution_count": 6,
     "metadata": {},
     "output_type": "execute_result"
    }
   ],
   "source": [
    "sol = Solution()\n",
    "sol.calc_run_time(mutexs, app_run_times)"
   ],
   "metadata": {
    "collapsed": false
   }
  },
  {
   "cell_type": "code",
   "execution_count": 6,
   "outputs": [],
   "source": [],
   "metadata": {
    "collapsed": false
   }
  }
 ],
 "metadata": {
  "kernelspec": {
   "display_name": "Python 3",
   "language": "python",
   "name": "python3"
  },
  "language_info": {
   "codemirror_mode": {
    "name": "ipython",
    "version": 2
   },
   "file_extension": ".py",
   "mimetype": "text/x-python",
   "name": "python",
   "nbconvert_exporter": "python",
   "pygments_lexer": "ipython2",
   "version": "2.7.6"
  }
 },
 "nbformat": 4,
 "nbformat_minor": 0
}
