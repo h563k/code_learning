{
 "cells": [
  {
   "cell_type": "markdown",
   "source": [
    "[分享巧克力](https://leetcode.cn/problems/divide-chocolate)"
   ],
   "metadata": {
    "collapsed": false
   }
  },
  {
   "cell_type": "markdown",
   "source": [
    "你有一大块巧克力，它由一些甜度不完全相同的小块组成。我们用数组 sweetness 来表示每一小块的甜度。\n",
    "\n",
    "你打算和 K 名朋友一起分享这块巧克力，所以你需要将切割 K 次才能得到 K+1 块，每一块都由一些 连续 的小块组成。\n",
    "\n",
    "为了表现出你的慷慨，你将会吃掉 总甜度最小 的一块，并将其余几块分给你的朋友们。\n",
    "\n",
    "请找出一个最佳的切割策略，使得你所分得的巧克力 总甜度最大，并返回这个 最大总甜度。"
   ],
   "metadata": {
    "collapsed": false
   }
  },
  {
   "cell_type": "markdown",
   "source": [
    "```\n",
    "示例 1：\n",
    "\n",
    "输入：sweetness = [1,2,3,4,5,6,7,8,9], K = 5\n",
    "输出：6\n",
    "解释：你可以把巧克力分成 [1,2,3], [4,5], [6], [7], [8], [9]。\n",
    "示例 2：\n",
    "\n",
    "输入：sweetness = [5,6,7,8,9,1,2,3,4], K = 8\n",
    "输出：1\n",
    "解释：只有一种办法可以把巧克力分成 9 块。\n",
    "示例 3：\n",
    "\n",
    "输入：sweetness = [1,2,2,1,2,2,1,2,2], K = 2\n",
    "输出：5\n",
    "解释：你可以把巧克力分成 [1,2,2], [1,2,2], [1,2,2]。\n",
    " \n",
    "\n",
    "提示：\n",
    "\n",
    "0 <= K < sweetness.length <= 10^4\n",
    "1 <= sweetness[i] <= 10^5\n",
    "```"
   ],
   "metadata": {
    "collapsed": false
   }
  },
  {
   "cell_type": "code",
   "execution_count": 109,
   "outputs": [],
   "source": [
    "from typing import List"
   ],
   "metadata": {
    "collapsed": false
   }
  },
  {
   "cell_type": "code",
   "execution_count": 110,
   "outputs": [],
   "source": [
    "class Solution:\n",
    "    def divide(self, sweetness: List[int], mid: int):\n",
    "        num, temp = 0, 0\n",
    "        for sweetnes in sweetness:\n",
    "            temp +=sweetnes\n",
    "            if temp >= mid:\n",
    "                num +=1\n",
    "                temp = 0\n",
    "        return num\n",
    "\n",
    "    def maximizeSweetness(self, sweetness: List[int], k: int) -> int:\n",
    "        sweet = sum(sweetness)\n",
    "        left, right = min(sweetness), sweet // (k + 1)\n",
    "        mid = (left + right) // 2\n",
    "        while left <= right:\n",
    "            # 切分个数超过k+1，说明甜度小了\n",
    "            divide_res = self.divide(sweetness, mid)\n",
    "            if divide_res >= k + 1:\n",
    "                left = mid + 1\n",
    "                mid = (left + right) // 2\n",
    "            elif divide_res < k + 1:\n",
    "                right = mid - 1\n",
    "                mid = (left + right) // 2\n",
    "        return mid"
   ],
   "metadata": {
    "collapsed": false
   }
  },
  {
   "cell_type": "code",
   "execution_count": 111,
   "outputs": [],
   "source": [
    "# sweetness = [1,2,3,4,5,6,7,8,9]\n",
    "# k = 5"
   ],
   "metadata": {
    "collapsed": false
   }
  },
  {
   "cell_type": "code",
   "execution_count": 112,
   "outputs": [],
   "source": [
    "# sweetness = [5,6,7,8,9,1,2,3,4]\n",
    "# k = 8"
   ],
   "metadata": {
    "collapsed": false
   }
  },
  {
   "cell_type": "code",
   "execution_count": 113,
   "outputs": [],
   "source": [
    "sweetness = [19679,20653,68010,3714,54485,548,41366,11201,47138,70768,1050,87246,17114,56157,13235,65363,30444,56929,21969,22308]\n",
    "k = 0"
   ],
   "metadata": {
    "collapsed": false
   }
  },
  {
   "cell_type": "code",
   "execution_count": 114,
   "metadata": {
    "collapsed": true
   },
   "outputs": [
    {
     "data": {
      "text/plain": "709377"
     },
     "execution_count": 114,
     "metadata": {},
     "output_type": "execute_result"
    }
   ],
   "source": [
    "sol = Solution()\n",
    "sol.maximizeSweetness(sweetness,k)"
   ]
  }
 ],
 "metadata": {
  "kernelspec": {
   "display_name": "Python 3",
   "language": "python",
   "name": "python3"
  },
  "language_info": {
   "codemirror_mode": {
    "name": "ipython",
    "version": 2
   },
   "file_extension": ".py",
   "mimetype": "text/x-python",
   "name": "python",
   "nbconvert_exporter": "python",
   "pygments_lexer": "ipython2",
   "version": "2.7.6"
  }
 },
 "nbformat": 4,
 "nbformat_minor": 0
}
