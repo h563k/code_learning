{
 "cells": [
  {
   "cell_type": "markdown",
   "source": [
    "### 题目描述\n",
    "请设计一个简易数据库系统，支持三个命令：\n",
    "\n",
    "- CREATE(int tableId, int colNum, string keys) ：创建一个表，其id为tableId；如果该表已经存在，则不做任何处理。\n",
    "- colNum 为该表列的数量，列名由单字母表示，并从字母 a 开始、按 a-z 顺序编号，例如colNum=3，表示有三列，列名分别为字母 a b c；\n",
    "- keys 表示该表的主键（指的是一列或多列的组合，其值能唯一地标识表中的每一行），keys中每个字符代表一列，如 keys=ba表示主键为b列和a列的组合。\n",
    "- INSERT(int tableId, int[] values) ：添加一条记录：\n",
    "\n",
    "- values 每个元素按顺序一一对应每列的值。\n",
    "若主键冲突，则不做任何处理。\n",
    "- SELECT(int tableId, string[] conditions) ：根据条件查询记录，并按主键升序输出结果集：\n",
    "\n",
    "- conditions 每个元素代表一个条件，格式如a=25，条件仅为等于（不存在大于、小于等情况）；conditions 各元素间仅为 and 关系。\n",
    "主键升序：按keys中列出现的顺序依次进行排序，每列按值大小升序输出。如keys=ba，先按b列升序排序，若b列值相同则进一步按a列升序排序。\n",
    "现给出一批命令语句，请按输入顺序解析与执行，并输出每个SELECT 命令的结果集（CREATE 和 INSERT 命令无输出）\n",
    "\n",
    "### 解答要求\n",
    "\n",
    "时间限制：1000ms, 内存限制：256MB\n",
    "输入\n",
    "首行为整数 num, 表示其后输入的命令行数，取值范围[1,30000]。\n",
    "之后每行为一条命令，3种命令的输入格式分别为：\n",
    "\n",
    "- CREATE 命令，格式为：CREATE:tableId,colNum,keys\n",
    "- tableId 取值范围[1,10000]。\n",
    "- colNum 取值范围[1,26]。\n",
    "- keys 为仅由小写字母组成的字符串，每个字符都不重复且在列名范围内，长度范围[1,26]。\n",
    "- INSERT 命令，格式为：INSERT:tableId,value1 value2 ...\n",
    "- value 的取值范围 [0,10000]\n",
    "- SELECT 命令，格式为：SELECT:tableId,condition1 and condition2 ...\n",
    "每个condition 的格式如a=25\n",
    "查询条件有若干个，小于等于 colNum，且不重复。\n",
    "用例保证 INSERT 和 SELECT命令中tableId所代表的表是已经创建的\n",
    "每种命令最多10000条命令\n",
    "\n",
    "输出\n",
    "- 逐个输出每个 SELECT 命令的结果集，每行输出表中所有列的值、且按列的顺序输出。\n",
    "如果某个SELECT命令的查询结果为空，此SELECT输出empty。\n",
    "\n",
    "注：CREATE 和 INSERT 的执行结果不需要输出\n",
    "```\n",
    "样例\n",
    "输入样例 1\n",
    "\n",
    "5\n",
    "CREATE:1,3,a\n",
    "INSERT:1,2 3 7\n",
    "INSERT:1,4 5 6\n",
    "INSERT:1,3 4 6\n",
    "SELECT:1,b=5 and c=6\n",
    "输出样例 1\n",
    "\n",
    "4 5 6\n",
    "提示样例 1\n",
    "CREATE:1,3,a 创建一个id为1的数据库表，有3列（列名分别为a,b,c），a列为主键\n",
    "INSERT:1,2 3 7 向数据库表1插入一条记录，其值分别为 2 3 7 （即a=2,b=3,c=7）\n",
    "INSERT:1,4 5 6 向数据库表1插入一条记录，其值分别为 4 5 6\n",
    "INSERT:1,3 4 6 向数据库表1插入一条记录，其值分别为 3 4 6\n",
    "SELECT:1,b=5 and c=6 查询数据库表1的内容，条件是b=5并且c=6，符合要求的记录只有4 5 6 这一条\n",
    "\n",
    "\n",
    "\n",
    "输入样例 2\n",
    "\n",
    "10\n",
    "CREATE:2,4,ba\n",
    "INSERT:2,9 23 47 41\n",
    "CREATE:3,3,ca\n",
    "INSERT:2,10 20 47 99\n",
    "INSERT:2,10 23 47 58\n",
    "INSERT:3,9 555 47\n",
    "INSERT:3,9 23 47\n",
    "SELECT:2,c=47\n",
    "SELECT:2,a=9 and b=555\n",
    "SELECT:3,a=9\n",
    "输出样例 2\n",
    "\n",
    "10 20 47 99\n",
    "9 23 47 41\n",
    "10 23 47 58\n",
    "empty\n",
    "9 555 47\n",
    "提示样例 2\n",
    "CREATE:2,4,ba 创建一个id为2的数据库表，有4列，主键为b列和a列的组合\n",
    "CREATE:3,3,ca 创建一个id为3的数据库表，有3列，主键为c列和a列的组合\n",
    "INSERT:3,9 555 47 在表3中插入一条记录，其主键值为c=47 and a=9\n",
    "INSERT:3,9 23 47 因为与表3中已有数据冲突(主键值也为c=47 and a=9)，所以插入失败\n",
    "SELECT:2,c=47查询输出3条记录：按照主键升序输出（先按b列升序排序，若b列值相同则进一步按a列升序排序）\n",
    "SELECT:2,a=9 and b=555 查询结果为空，所以输出empty\n",
    "```\n"
   ],
   "metadata": {
    "collapsed": false
   }
  },
  {
   "cell_type": "code",
   "execution_count": 637,
   "metadata": {
    "collapsed": true
   },
   "outputs": [],
   "source": [
    "\"\"\"\n",
    "Copyright (c) Huawei Technologies Co., Ltd. 2019-2021. All rights reserved.\n",
    "Description: 上机编程认证\n",
    "Note: 缺省代码仅供参考，可自行决定使用、修改或删除\n",
    "\"\"\"\n",
    "\n",
    "from typing import List\n",
    "from string import ascii_lowercase\n",
    "\n",
    "\n",
    "class Solution:\n",
    "    def __init__(self):\n",
    "        \"\"\"\n",
    "        注意到本题没有删除选项,用个列表出错主键，使劲往里面怼，不用担心删除问题\n",
    "        \"\"\"\n",
    "        # 大小写编号\n",
    "        self.ascii_num = {y: x for x, y in enumerate(ascii_lowercase)}\n",
    "        # 表格记录\n",
    "        self.table = {}\n",
    "\n",
    "    def create(self, table_id: int, col_num: int, keys: str) -> None:\n",
    "        \"\"\"在此添加你的代码\"\"\"\n",
    "        self.table[table_id] = {\n",
    "            'sort_table': [],  # 此表专门用于排序\n",
    "            'key': [self.ascii_num[key] for key in keys],\n",
    "            'ket_value': []\n",
    "        }\n",
    "\n",
    "    def insert(self, table_id: int, values: List[int]) -> None:\n",
    "        \"\"\"在此添加你的代码\"\"\"\n",
    "        keys = self.table[table_id]['key']\n",
    "        ket_value = self.table[table_id]['ket_value']\n",
    "        main_key = []\n",
    "        for key in keys:\n",
    "            main_key.append(values[key])\n",
    "        # 无主键冲突插入，并排序\n",
    "        if main_key not in ket_value:\n",
    "            # 先插入排序表\n",
    "            main_key_list = [values[key] for key in keys]\n",
    "            self.table[table_id]['sort_table'].append([main_key_list, values])\n",
    "            ket_value.append(main_key)\n",
    "            self.table[table_id]['sort_table'].sort()\n",
    "\n",
    "    def select(self, table_id: int, conditions: List[str]) -> List[int]:\n",
    "        \"\"\"在此添加你的代码\"\"\"\n",
    "        table = self.table[table_id]['sort_table']\n",
    "        table = [x[1] for x in table]\n",
    "        conditions = [condition.split('=') for condition in conditions]\n",
    "        conditions = [[self.ascii_num[key], int(value)] for key, value in conditions]\n",
    "        res = []\n",
    "        for lis in table:\n",
    "            adds = True\n",
    "            for condition in conditions:\n",
    "                if lis[condition[0]] != condition[1]:\n",
    "                    adds = False\n",
    "                    break\n",
    "            if adds:\n",
    "                res.append(lis)\n",
    "        return res if res else [['empty']]\n"
   ]
  },
  {
   "cell_type": "code",
   "execution_count": 638,
   "outputs": [],
   "source": [
    "sol = Solution()"
   ],
   "metadata": {
    "collapsed": false
   }
  },
  {
   "cell_type": "markdown",
   "source": [
    "```sql\n",
    "CREATE:1,3,a\n",
    "INSERT:1,2 3 7\n",
    "INSERT:1,4 5 6\n",
    "INSERT:1,3 4 6\n",
    "SELECT:1,b=5 and c=6\n",
    "```"
   ],
   "metadata": {
    "collapsed": false
   }
  },
  {
   "cell_type": "code",
   "execution_count": 639,
   "outputs": [],
   "source": [
    "sol.create(1,3,'a')"
   ],
   "metadata": {
    "collapsed": false
   }
  },
  {
   "cell_type": "code",
   "execution_count": 640,
   "outputs": [],
   "source": [
    "sol.insert(1,[2,3,7])"
   ],
   "metadata": {
    "collapsed": false
   }
  },
  {
   "cell_type": "code",
   "execution_count": 641,
   "outputs": [],
   "source": [
    "sol.insert(1,[4,5,6])"
   ],
   "metadata": {
    "collapsed": false
   }
  },
  {
   "cell_type": "code",
   "execution_count": 642,
   "outputs": [],
   "source": [
    "sol.insert(1,[3,4,6])"
   ],
   "metadata": {
    "collapsed": false
   }
  },
  {
   "cell_type": "code",
   "execution_count": 643,
   "outputs": [
    {
     "data": {
      "text/plain": "[[4, 5, 6]]"
     },
     "execution_count": 643,
     "metadata": {},
     "output_type": "execute_result"
    }
   ],
   "source": [
    "sol.select(1,['b=5','c=6'])"
   ],
   "metadata": {
    "collapsed": false
   }
  },
  {
   "cell_type": "code",
   "execution_count": 644,
   "outputs": [
    {
     "data": {
      "text/plain": "{'sort_table': [[[2], [2, 3, 7]], [[3], [3, 4, 6]], [[4], [4, 5, 6]]],\n 'key': [0],\n 'ket_value': [[2], [4], [3]]}"
     },
     "execution_count": 644,
     "metadata": {},
     "output_type": "execute_result"
    }
   ],
   "source": [
    "sol.table[1]"
   ],
   "metadata": {
    "collapsed": false
   }
  },
  {
   "cell_type": "code",
   "execution_count": 644,
   "outputs": [],
   "source": [],
   "metadata": {
    "collapsed": false
   }
  }
 ],
 "metadata": {
  "kernelspec": {
   "display_name": "Python 3",
   "language": "python",
   "name": "python3"
  },
  "language_info": {
   "codemirror_mode": {
    "name": "ipython",
    "version": 2
   },
   "file_extension": ".py",
   "mimetype": "text/x-python",
   "name": "python",
   "nbconvert_exporter": "python",
   "pygments_lexer": "ipython2",
   "version": "2.7.6"
  }
 },
 "nbformat": 4,
 "nbformat_minor": 0
}
