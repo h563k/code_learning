{
 "cells": [
  {
   "cell_type": "markdown",
   "source": [
    "题目描述\n",
    "为了净化网络环境，需要开发一个简易的敏感词屏蔽功能：给定敏感词，按如下规则，对待检查字符串进行匹配和替换：\n",
    "\n",
    "敏感词中的各字符顺序地出现在待检查字符串中，且第一个字符和最后一个字符之间的其它字符个数小于敏感词长度，连同其它字符一起替换为星号 *。如：敏感词 135 可匹配字符串1?3?5、1??35，不匹配1?3??5。\n",
    "支持贪婪匹配，即每次从左到右扫描，一旦遇到可匹配的情况就开始进行匹配，且匹配尽可能长的字符，例如：\n",
    "敏感词为 ab 时，字符串 abbc 应该替换成 *c ，而不是 *bc\n",
    "敏感词为 abc 时，字符串 aabcbc 应该替换成 *bc，而不是 a* （遇到首个 a 时就开始进行匹配）\n",
    "支持全量匹配，即：有多处符合匹配规则时，则需要全部进行匹配和替换。\n",
    "请输出屏蔽后的字符串。\n",
    "\n",
    "解答要求\n",
    "时间限制：1000ms, 内存限制：128MB\n",
    "输入\n",
    "第一行字符串，表示待检查字符串，仅含英文字母和数字，长度范围：[2,20]。\n",
    "第二行字符串，表示敏感词，长度范围：[2,20]。\n",
    "\n",
    "输出\n",
    "屏蔽后的字符串\n",
    "\n",
    "样例\n",
    "输入样例 1 复制\n",
    "\n",
    "ABCdfgABC\n",
    "ABC\n",
    "输出样例 1\n",
    "\n",
    "*dfg*\n",
    "提示样例 1\n",
    "注意全量匹配，待检查字符串中有两处符合匹配规则，首个ABC以及最后一个ABC，都替换为*后，屏蔽后输出为 *dfg* 。\n",
    "\n",
    "\n",
    "\n",
    "输入样例 2 复制\n",
    "\n",
    "abbdefghjjk\n",
    "bdfhj\n",
    "输出样例 2\n",
    "\n",
    "a*k\n",
    "提示样例 2\n",
    "注意贪婪匹配：从第二个字符b开始匹配到第十个字符j，中间干扰字符个数为4（含 begj），小于敏感词的长度5，因此屏蔽后输出为：a*k\n",
    "\n",
    "\n",
    "\n",
    "输入样例 3 复制\n",
    "\n",
    "abbbbbcde\n",
    "abc\n",
    "输出样例 3\n",
    "\n",
    "abbbbbcde\n",
    "提示样例 3\n",
    "a 和 c之间的字符串 bbbbb 长度超过了敏感词的长度，因此无屏蔽。"
   ],
   "metadata": {
    "collapsed": false
   }
  },
  {
   "cell_type": "code",
   "execution_count": 1,
   "metadata": {
    "collapsed": true
   },
   "outputs": [],
   "source": [
    "\"\"\"\n",
    "Copyright (c) Huawei Technologies Co., Ltd. 2020-2020. All rights reserved.\n",
    "Description: 上机编程认证\n",
    "Note: 缺省代码仅供参考，可自行决定使用、修改或删除\n",
    "\"\"\"\n",
    "import re\n",
    "\n",
    "\n",
    "class Solution:\n",
    "    def get_masked_str(self, checked_str, sensitive_str):\n",
    "        # 在此添加你的代码\n",
    "        model = '.*'.join(sensitive_str)\n",
    "        result = []\n",
    "        for i in range(len(checked_str)):\n",
    "            item = checked_str[i:i + 2 * len(sensitive_str) - 1]\n",
    "            temp = re.match(model, item)\n",
    "            if temp:\n",
    "                result.append(temp.group())\n",
    "        for i in result:\n",
    "            checked_str = re.sub(i, '*', checked_str)\n",
    "        return checked_str"
   ]
  },
  {
   "cell_type": "code",
   "execution_count": 2,
   "outputs": [],
   "source": [
    "checked_str = \"3141224211213232230\"\n",
    "sensitive_str = \"332\""
   ],
   "metadata": {
    "collapsed": false
   }
  },
  {
   "cell_type": "code",
   "execution_count": 3,
   "outputs": [
    {
     "data": {
      "text/plain": "'314122421121*30'"
     },
     "execution_count": 3,
     "metadata": {},
     "output_type": "execute_result"
    }
   ],
   "source": [
    "sol = Solution()\n",
    "sol.get_masked_str(checked_str,sensitive_str)"
   ],
   "metadata": {
    "collapsed": false
   }
  },
  {
   "cell_type": "code",
   "execution_count": 3,
   "outputs": [],
   "source": [],
   "metadata": {
    "collapsed": false
   }
  }
 ],
 "metadata": {
  "kernelspec": {
   "display_name": "Python 3",
   "language": "python",
   "name": "python3"
  },
  "language_info": {
   "codemirror_mode": {
    "name": "ipython",
    "version": 2
   },
   "file_extension": ".py",
   "mimetype": "text/x-python",
   "name": "python",
   "nbconvert_exporter": "python",
   "pygments_lexer": "ipython2",
   "version": "2.7.6"
  }
 },
 "nbformat": 4,
 "nbformat_minor": 0
}
