{
 "cells": [
  {
   "cell_type": "markdown",
   "metadata": {
    "collapsed": false
   },
   "source": [
    "http://3ms.huawei.com/km/groups/3803117/blogs/details/11724707?l=zh-cn"
   ]
  },
  {
   "cell_type": "markdown",
   "metadata": {
    "collapsed": false
   },
   "source": [
    "请设计一个仓库管理系统，实现如下功能：\n",
    "\n",
    "·         StorageSystem(int coldStorageNum, int coldStoragePrice, int normalStorageNum, int normalStoragePrice, int delay) — 初始化仓库信息。\n",
    "\n",
    ".    仓库有冷藏和常温两种类型的储藏室，初始化其对应的数量和每天租赁价格；\n",
    ".    若客户租赁过期且超出 delay 天后，依旧未提取货物，该储物区将被清空；\n",
    "\n",
    "·         store(int date, int storageId, int storageType, int storageDays) — 在日期 date 为存单 storageId 租赁 storageType 类型的一个储藏室，并存放物品 storageDays 天。\n",
    "\n",
    ".    若有空间则存储成功，则需预付 storageDays 天的费用（按照实际使用储藏室类型进行计算：天数 * 每日租赁价格），返回该费用；\n",
    "§  当常温储藏室空间不足时，可使用空闲的冷藏储藏室存储；反之不可以；\n",
    "§  date 为「租赁起始日期」，日期超过 date + storageDays 时开始过期\n",
    "\n",
    ".    若无空间则不做任何处理，并返回 -1。\n",
    "系统保证 storageId 参数全局唯一。storageType 为 0 表示冷藏， 1 表示常温。\n",
    "\n",
    "·         retrieve(int date, int storageId) — 在日期 date ，客户取出存单 storageId （存单一定存在且未被提取）对应的物品：\n",
    ".    若存单未过期时，则取出物品，并返回 0；\n",
    ".    若存单过期但未超出 delay 天，则取出物品，并返回需要补交的费用（实际延迟天数 * 每日价格），实际延迟天数 = date - (「租赁起始日期」+ storageDays)；\n",
    ".    若存单过期且已超出 delay 天（日期超过 「租赁起始日期」+ storageDays + delay ）时，则物品已被清空、取出失败，并返回 -1。\n",
    "·         query(int date) — 请返回截止日期 date 时 3 种状态的存单数量序列，依次为：物品已成功取出、物品未取仍在仓库中、物品被清空的存单数量。\n",
    "\n",
    "注意：保证函数 store、retrieve、query 的日期 date 参数按输入顺序非严格递增；\n",
    "\n",
    "示例 1：\n",
    "\n",
    "输入：\n",
    "[\"StorageSystem\",\"store\",\"retrieve\",\"query\"]\n",
    "[[2,2,1,1,2],[0,1,0,2],[3,1],[3]]\n",
    "\n",
    "输出：[null,4,2,[1,0,0]]\n",
    "\n",
    "解释：\n",
    "StorageSystem obj = StorageSystem(2,2,1,1,2); // 初始化仓库，2 个冷藏室（每天价格 2）和 1 个常温室（每天价格 1），货物最多可以延期 2 天；\n",
    "obj.store(0,1,0,2); // 在日期 0，存单 1 预定冷藏室 2 天；由于存在空闲冷藏室，返回支付款项 2*2 = 4\n",
    "obj.retrieve(3,1); // 在日期 3 提取存单 1 对应物品。实际延迟天数为 1 = 3 - (0 + 2)，返回补交费用 2*1 = 2 ；因过期但未超出 2 天，不会被清空，\n",
    "obj.query(3); // 当前物品已成功取出、物品未取仍在仓库中、物品被清空的存单各有 1 份、0 份、0 份，返回 [1,0,0]\n",
    "注：输出中的 null 表示此对应函数无输出（其中：C 的构造函数有返回值，但是也是无需输出）\n",
    "\n",
    "示例 2：\n",
    "\n",
    "输入：\n",
    "[\"StorageSystem\",\"query\",\"store\",\"store\",\"store\",\"query\",\"store\",\"retrieve\",\"store\",\"query\",\"query\",\"retrieve\"]\n",
    "[[2,2,1,3,2],[0],[0,21,1,3],[1,22,1,4],[1,23,0,2],[1],[4,26,1,2],[5,21],[6,24,0,7],[7],[8],[9,22]]\n",
    "\n",
    "输出：[null,[0,0,0],9,8,4,[0,3,0],-1,6,14,[1,2,1],[1,1,2],-1]\n",
    "\n",
    "解释：\n",
    "StorageSystem obj = StorageSystem(2,2,1,3,2); // 初始化仓库，2 个冷藏室（每天价格 2）和 1 个常温室（每天价格 3），货物最多可以延期 2 天；\n",
    "obj.query(0); // 返回 [0,0,0]\n",
    "obj.store(0,21,1,3); // 返回支付款项 3*3=9\n",
    "obj.store(1,22,1,4); // 日期 1，存单编号 22，预定常温室 4 天；由于无未租赁的常温室，租赁冷藏室，返回 4*2=8\n",
    "obj.store(1,23,0,2); // 返回支付款项 2*2=4\n",
    "obj.query(1); // 返回 [0,3,0]\n",
    "obj.store(4,26,1,2); // 由于无未租赁的常温室和冷藏室，返回 -1\n",
    "obj.retrieve(5,21); // 此时存单 21 延迟天数为 2 = 5 - (0 + 3)，需补交费用为 2*3=6\n",
    "obj.store(6,24,0,7); // 由于存单 23 过期且超出 2 天未提取（6 > 1 + 2 + 2），物品被清空。因此存在未租赁的冷藏室，返回 7*2=14\n",
    "obj.query(7); // 返回 [1,2,1]\n",
    "obj.query(8); // 由于存单 22 过期且超出 2 天未提取使物品清空，返回 [1,1,2]\n",
    "obj.retrieve(9,22); // 此时存单 22 已被清空，返回 -1;\n",
    "注：输出中的 null 表示此对应函数无输出（其中：C 的构造函数有返回值，但是也是无需输出）\n",
    "\n",
    "提示：\n",
    "\n",
    "1 <= store, retrieve, query 累计操作数 <= 1000\n",
    "1 <= coldStorageNum, normalStorageNum <= 100\n",
    "1 <= coldStoragePrice, normalStoragePrice <= 100\n",
    "0 <= storageId <= 1000\n",
    "0 <= date <= 10^4\n",
    "1 <= delay, storageDays <= 100\n",
    "0 <= storageType <= 1"
   ]
  },
  {
   "cell_type": "code",
   "execution_count": 1,
   "metadata": {
    "collapsed": false
   },
   "outputs": [],
   "source": [
    "class StorageSystem:\n",
    "    def __init__(self, coldStorageNum: int, coldStoragePrice: int, normalStorageNum: int, normalStoragePrice: int,\n",
    "                 delay: int):\n",
    "        \"\"\"\n",
    "        系统保证 storageId 参数全局唯一。\n",
    "        storageType 为 0 表示冷藏， 1 表示常温。\n",
    "        \"\"\"\n",
    "        self.coldStorageNum = coldStorageNum\n",
    "        self.coldStoragePrice = coldStoragePrice\n",
    "        self.normalStorageNum = normalStorageNum\n",
    "        self.normalStoragePrice = normalStoragePrice\n",
    "        self.delay = delay\n",
    "\n",
    "        \"\"\"\n",
    "        定义要用到的数据:\n",
    "        1. 冷库、冷库商品数量\n",
    "        2. 常温库，常温库商品数量\n",
    "        3. 记录每个商品在哪个库\n",
    "        \"\"\"\n",
    "        self.coldStorage = {}\n",
    "        self.normalStorage = {}\n",
    "        self.coldStorageCount = 0\n",
    "        self.normalStorageCount = 0\n",
    "\n",
    "        self.storageId = {}\n",
    "\n",
    "        self.good_status = {\n",
    "            'type1': set(),  # 物品已成功取出\n",
    "            'type2': set(),  # 物品未取仍在仓库中\n",
    "            'type3': set(),  # 物品被清空\n",
    "        }\n",
    "\n",
    "    def check_self(self, Storage, date: int):\n",
    "        temp = []\n",
    "        for storageId in Storage.keys():\n",
    "            store_date, storageDays = Storage[storageId]\n",
    "            if store_date + storageDays + self.delay < date:\n",
    "                temp.append(storageId)\n",
    "        for storageId in temp:\n",
    "            Storage.pop(storageId)\n",
    "            if Storage == self.coldStorage:\n",
    "                self.coldStorageCount -= 1\n",
    "            else:\n",
    "                self.normalStorage -= 1\n",
    "            self.good_status['type2'].remove(storageId)\n",
    "            self.good_status['type3'].add(storageId)\n",
    "\n",
    "    def store(self, date: int, storageId: int, storageType: int, storageDays: int):\n",
    "        \"\"\"\n",
    "        在日期 date 为存单 storageId 租赁 storageType 类型的一个储藏室，\n",
    "        并存放物品 storageDays 天。\n",
    "        \"\"\"\n",
    "        self.check_self(self.coldStorage, date)\n",
    "        self.check_self(self.normalStorage, date)\n",
    "        if storageType == 0:  # 冷藏\n",
    "            if self.coldStorageCount < self.coldStorageNum:\n",
    "                self.coldStorage[storageId] = [date, storageDays]\n",
    "                self.coldStorageCount += 1\n",
    "                self.storageId[storageId] = 0\n",
    "                self.good_status['type2'].add(storageId)  # 物品入库\n",
    "                return storageDays * self.coldStoragePrice\n",
    "            else:\n",
    "                return -1\n",
    "        elif storageType == 1:  # 常温\n",
    "            if self.normalStorageCount < self.normalStorageNum:\n",
    "                self.normalStorage[storageId] = [date, storageDays]\n",
    "                self.normalStorageCount += 1\n",
    "                self.storageId[storageId] = 1\n",
    "                self.good_status['type2'].add(storageId)  # 物品入库\n",
    "                return storageDays * self.normalStoragePrice\n",
    "            # 常温空间不够，看看冷藏是否有空间\n",
    "            elif self.normalStorageCount + self.coldStorageCount < self.normalStorageNum + self.coldStorageNum:\n",
    "                self.coldStorage[storageId] = [date, storageDays]\n",
    "                self.coldStorageCount += 1\n",
    "                self.storageId[storageId] = 1\n",
    "                self.good_status['type2'].add(storageId)  # 物品入库\n",
    "                return storageDays * self.coldStoragePrice\n",
    "            else:\n",
    "                return -1\n",
    "\n",
    "    def retrieve(self, date: int, storageId: int):\n",
    "        self.check_self(self.coldStorage, date)\n",
    "        self.check_self(self.normalStorage, date)\n",
    "        if storageId in self.good_status['type3']:\n",
    "            return -1\n",
    "        if self.storageId[storageId] == 0:\n",
    "            storage = self.coldStorage\n",
    "            price = self.coldStoragePrice\n",
    "            self.coldStorageCount -= 1\n",
    "        else:\n",
    "            storage = self.normalStorage\n",
    "            price = self.normalStoragePrice\n",
    "            self.normalStorageCount -= 1\n",
    "\n",
    "        store_date, storageDays = storage[storageId]\n",
    "        storage.pop(storageId)\n",
    "\n",
    "        # 若存单未过期时，则取出物品，并返回 0；\n",
    "        if date <= store_date + storageDays:\n",
    "            self.good_status['type1'].add(storageId)  # 物品取走\n",
    "            self.good_status['type2'].remove(storageId)  # 物品出库\n",
    "            return 0\n",
    "        # 若存单过期但未超出 delay 天，则取出物品，并返回需要补交的费用\n",
    "        elif date <= store_date + storageDays + self.delay:\n",
    "            self.good_status['type1'].add(storageId)  # 物品取走\n",
    "            self.good_status['type2'].remove(storageId)  # 物品出库\n",
    "            return price * (date - store_date - storageDays)\n",
    "        else:\n",
    "            self.good_status['type3'].add(storageId)  # 物品取走\n",
    "            self.good_status['type2'].remove(storageId)  # 物品出库\n",
    "            return -1\n",
    "\n",
    "    def query(self, date: int):\n",
    "        self.check_self(self.coldStorage, date)\n",
    "        self.check_self(self.normalStorage, date)\n",
    "        return [len(x) for x in self.good_status.values()]\n",
    "\n"
   ]
  },
  {
   "cell_type": "code",
   "execution_count": 2,
   "metadata": {
    "collapsed": false
   },
   "outputs": [],
   "source": [
    "stor = StorageSystem(2, 2, 1, 3, 2)"
   ]
  },
  {
   "cell_type": "code",
   "execution_count": 3,
   "metadata": {
    "collapsed": false
   },
   "outputs": [
    {
     "data": {
      "text/plain": [
       "[0, 0, 0]"
      ]
     },
     "execution_count": 3,
     "metadata": {},
     "output_type": "execute_result"
    }
   ],
   "source": [
    "stor.query(0)"
   ]
  },
  {
   "cell_type": "code",
   "execution_count": 4,
   "metadata": {
    "collapsed": false
   },
   "outputs": [
    {
     "data": {
      "text/plain": [
       "9"
      ]
     },
     "execution_count": 4,
     "metadata": {},
     "output_type": "execute_result"
    }
   ],
   "source": [
    "stor.store(0, 21, 1, 3)"
   ]
  },
  {
   "cell_type": "code",
   "execution_count": 5,
   "metadata": {
    "collapsed": false
   },
   "outputs": [
    {
     "data": {
      "text/plain": [
       "8"
      ]
     },
     "execution_count": 5,
     "metadata": {},
     "output_type": "execute_result"
    }
   ],
   "source": [
    "stor.store(1, 22, 1, 4)"
   ]
  },
  {
   "cell_type": "code",
   "execution_count": 6,
   "metadata": {
    "collapsed": false
   },
   "outputs": [
    {
     "data": {
      "text/plain": [
       "4"
      ]
     },
     "execution_count": 6,
     "metadata": {},
     "output_type": "execute_result"
    }
   ],
   "source": [
    "stor.store(1, 23, 0, 2)"
   ]
  },
  {
   "cell_type": "code",
   "execution_count": 7,
   "metadata": {
    "collapsed": false
   },
   "outputs": [
    {
     "data": {
      "text/plain": [
       "[0, 3, 0]"
      ]
     },
     "execution_count": 7,
     "metadata": {},
     "output_type": "execute_result"
    }
   ],
   "source": [
    "stor.query(1)"
   ]
  },
  {
   "cell_type": "code",
   "execution_count": 8,
   "metadata": {
    "collapsed": false
   },
   "outputs": [
    {
     "data": {
      "text/plain": [
       "-1"
      ]
     },
     "execution_count": 8,
     "metadata": {},
     "output_type": "execute_result"
    }
   ],
   "source": [
    "stor.store(4, 26, 1, 2)"
   ]
  },
  {
   "cell_type": "code",
   "execution_count": 9,
   "metadata": {
    "collapsed": false
   },
   "outputs": [
    {
     "data": {
      "text/plain": [
       "6"
      ]
     },
     "execution_count": 9,
     "metadata": {},
     "output_type": "execute_result"
    }
   ],
   "source": [
    "stor.retrieve(5, 21)"
   ]
  },
  {
   "cell_type": "code",
   "execution_count": 10,
   "metadata": {
    "collapsed": false
   },
   "outputs": [
    {
     "data": {
      "text/plain": [
       "14"
      ]
     },
     "execution_count": 10,
     "metadata": {},
     "output_type": "execute_result"
    }
   ],
   "source": [
    "stor.store(6, 24, 0, 7)"
   ]
  },
  {
   "cell_type": "code",
   "execution_count": 11,
   "metadata": {
    "collapsed": false
   },
   "outputs": [
    {
     "data": {
      "text/plain": [
       "[1, 2, 1]"
      ]
     },
     "execution_count": 11,
     "metadata": {},
     "output_type": "execute_result"
    }
   ],
   "source": [
    "stor.query(7)"
   ]
  },
  {
   "cell_type": "code",
   "execution_count": 12,
   "metadata": {
    "collapsed": false
   },
   "outputs": [
    {
     "data": {
      "text/plain": [
       "[1, 1, 2]"
      ]
     },
     "execution_count": 12,
     "metadata": {},
     "output_type": "execute_result"
    }
   ],
   "source": [
    "stor.query(8)"
   ]
  },
  {
   "cell_type": "code",
   "execution_count": 13,
   "metadata": {
    "collapsed": false
   },
   "outputs": [
    {
     "data": {
      "text/plain": [
       "-1"
      ]
     },
     "execution_count": 13,
     "metadata": {},
     "output_type": "execute_result"
    }
   ],
   "source": [
    "stor.retrieve(9, 22)"
   ]
  }
 ],
 "metadata": {
  "kernelspec": {
   "display_name": "Python 3.8.16 64-bit ('ml': conda)",
   "language": "python",
   "name": "python3"
  },
  "language_info": {
   "codemirror_mode": {
    "name": "ipython",
    "version": 2
   },
   "file_extension": ".py",
   "mimetype": "text/x-python",
   "name": "python",
   "nbconvert_exporter": "python",
   "pygments_lexer": "ipython2",
   "version": "3.8.16"
  },
  "vscode": {
   "interpreter": {
    "hash": "331a39974702ce3f720074a2f64e10b740deb1bf2af49a468ba271cb507153cf"
   }
  }
 },
 "nbformat": 4,
 "nbformat_minor": 0
}
