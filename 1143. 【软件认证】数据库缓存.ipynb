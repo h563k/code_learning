{
 "cells": [
  {
   "attachments": {},
   "cell_type": "markdown",
   "metadata": {
    "collapsed": false
   },
   "source": [
    "https://oj.rnd.huawei.com/problems/1143/details"
   ]
  },
  {
   "attachments": {},
   "cell_type": "markdown",
   "metadata": {
    "collapsed": false
   },
   "source": [
    "### 最佳（Optimal）置换算法\n",
    "- 其选择的淘汰页面将是以后永不使用，或者是在最长（未来）时间内不再被访问的页面。采用最佳置换算法通常可以保证获得最低的缺页率。\n",
    "- 由于无法预知一个或多个页面中，哪一个页面是最长未被访问的，所以该算法无法实现。(但是可以用作参考来对比其他算法。)"
   ]
  },
  {
   "attachments": {},
   "cell_type": "markdown",
   "metadata": {
    "collapsed": false
   },
   "source": [
    "缓存是一种提高数据库查询效率的手段，现使用训练数据进行模拟访问，以对缓存机制进行优化。\n",
    "\n",
    "模拟访问规则如下：\n",
    "\n",
    "- 当查询的数据在缓存中时，直接访问缓存，无需访问数据库。\n",
    "- 当查询的数据不在缓存中时，则需要访问数据库，并把数据放入缓存：\n",
    "- 若放入前缓存已满，则必须先删除缓存中的一个数据。\n",
    "\n",
    "给定缓存大小和训练数据（一组数据编号），依次模拟访问这组数据，请分析在此访问规则下最少的数据库访问次数。\n",
    "\n",
    "解答要求\n",
    "时间限制：3000ms, 内存限制：256MB\n",
    "输入\n",
    "- 第一行：整数 cacheSize，表示缓存大小，范围为 [1,100]\n",
    "- 第二行：整数 num，表示训练数据的个数，范围为 [0,1000]\n",
    "- 第三行：num 个整数，表示训练数据的每个数据编号，编号取值范围为 [0,1000]\n",
    "\n",
    "假设每个数据在缓存中占用的空间都是 1 。\n",
    "\n",
    "输出\n",
    "一个整数，代表数据库的最少访问次数。\n",
    "\n",
    "样例\n",
    "输入样例 1 \n",
    "\n",
    "2\n",
    "6\n",
    "1 2 3 1 2 3\n",
    "输出样例 1\n",
    "\n",
    "4\n",
    "提示样例 1\n",
    "- 缓存容量大小为2，依次处理待查询的训练数据：\n",
    "- 第一次查询数据1，此时缓存中无此数据，需从数据库中读取，结束后缓存内容为1。\n",
    "- 第二次查询数据2，此时缓存中无此数据，需从数据库中读取，结束后缓存内容为1 2。\n",
    "- 第三次查询数据3，此时缓存中无此数据，需从数据库中读取；此时缓存已满，必须先删除一个数据（选择删除2），然后把新的数据放入，结束后缓存内容为1 3。\n",
    "- 第四次查询数据1，此时缓存中有此数据。\n",
    "- 第五次查询数据2，此时缓存中无此数据，需从数据库中读取，并且删除缓存中一个数据，然后放入新的数据，结束后缓存内容为2 3。\n",
    "- 第六次查询数据3，此时缓存中有此数据。\n",
    "\n",
    "一共访问了4次数据库，是最优解。其它缓存方式并非最优解。\n",
    "\n",
    "\n",
    "\n",
    "输入样例 2\n",
    "\n",
    "1\n",
    "4\n",
    "100 200 100 200\n",
    "输出样例 2\n",
    "\n",
    "4\n",
    "提示样例 2"
   ]
  },
  {
   "cell_type": "code",
   "execution_count": 1,
   "metadata": {
    "collapsed": true
   },
   "outputs": [],
   "source": [
    "\"\"\"\n",
    "Copyright (c) Huawei Technologies Co., Ltd. 2020-2020. All rights reserved.\n",
    "Description: 上机编程认证\n",
    "Note: 缺省代码仅供参考，可自行决定使用、修改或删除\n",
    "\"\"\"\n",
    "from typing import List\n",
    "from collections import deque\n",
    "\n",
    "\n",
    "class Solution:\n",
    "    def __init__(self):\n",
    "        self.cache = deque()\n",
    "        self.count = 0\n",
    "\n",
    "    def query_database(self, cache_size: int, ids: List[int]) -> int:\n",
    "        # 在此添加你的代码\n",
    "        ids = deque(ids)\n",
    "        while ids:\n",
    "            # 第一步判断缓存中是否有数据\n",
    "            item = ids.popleft()\n",
    "            # print(self.cache, item, ids)\n",
    "            if item in self.cache:\n",
    "                continue\n",
    "            # 缓存如果够用就放缓存里面\n",
    "            elif len(self.cache) < cache_size:\n",
    "                self.cache.append(item)\n",
    "                self.count += 1\n",
    "            else:\n",
    "                max_len = 0\n",
    "                item_num = None\n",
    "                for num, cache in enumerate(self.cache):\n",
    "                    if cache in ids:\n",
    "                        max_len = max(max_len, ids.index(cache))\n",
    "                    else:\n",
    "                        max_len = 1001\n",
    "                        item_num = cache\n",
    "                        break\n",
    "                if max_len == 1001:\n",
    "                    self.cache.remove(item_num)\n",
    "                else:\n",
    "                    self.cache.remove(ids[max_len])\n",
    "                self.cache.append(item)\n",
    "                self.count += 1\n",
    "        return self.count\n",
    "\n"
   ]
  },
  {
   "cell_type": "code",
   "execution_count": 2,
   "metadata": {
    "collapsed": false
   },
   "outputs": [],
   "source": [
    "cache_size = 2\n",
    "num = 4\n",
    "ids = [1, 2, 3, 1, 2, 3]"
   ]
  },
  {
   "cell_type": "code",
   "execution_count": 3,
   "metadata": {
    "collapsed": false
   },
   "outputs": [
    {
     "data": {
      "text/plain": [
       "4"
      ]
     },
     "execution_count": 3,
     "metadata": {},
     "output_type": "execute_result"
    }
   ],
   "source": [
    "sol = Solution()\n",
    "sol.query_database(cache_size, ids)"
   ]
  },
  {
   "cell_type": "code",
   "execution_count": null,
   "metadata": {
    "collapsed": false
   },
   "outputs": [],
   "source": []
  }
 ],
 "metadata": {
  "kernelspec": {
   "display_name": "Python 3",
   "language": "python",
   "name": "python3"
  },
  "language_info": {
   "codemirror_mode": {
    "name": "ipython",
    "version": 3
   },
   "file_extension": ".py",
   "mimetype": "text/x-python",
   "name": "python",
   "nbconvert_exporter": "python",
   "pygments_lexer": "ipython3",
   "version": "3.8.15"
  }
 },
 "nbformat": 4,
 "nbformat_minor": 0
}
