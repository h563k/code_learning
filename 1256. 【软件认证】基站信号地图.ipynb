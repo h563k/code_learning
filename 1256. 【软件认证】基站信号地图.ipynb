{
 "cells": [
  {
   "cell_type": "markdown",
   "source": [],
   "metadata": {
    "collapsed": false
   }
  },
  {
   "cell_type": "markdown",
   "source": [
    "[1256. 【软件认证】基站信号地图](https://oj.rnd.huawei.com/problems/1256/details)"
   ],
   "metadata": {
    "collapsed": false
   }
  },
  {
   "cell_type": "markdown",
   "source": [
    "视一片区域为一个 rows * cols 的矩阵（行列编号皆从 1 开始），初始有一批基站分布在某些单元格内（位置无重复）。现对这片区域进行改造，涉及两种操作：\n",
    "• add：在单元格[row,col]中添加一个基站，若该单元格已经存在基站，则不做任何动作。\n",
    "• delete：清除单元格[row,col]及周边范围（上、下、左、右、对角的相邻单元格）中的基站。\n",
    "\n",
    "假设每个基站的信号覆盖范围为上、下、左、右、对角的相邻单元格；每存在一个基站，覆盖范围内的每个单元格的信号强度增加 1 。\n",
    "\n",
    "改造完成后，请统计最终矩阵各单元格（不含基站位置）的信号强度之和。\n",
    "\n",
    "解答要求\n",
    "时间限制：1000ms, 内存限制：256MB\n",
    "输入\n",
    "首行两个整数rows cols，表示矩阵的行数和列数，取值范围均为[1,100]。\n",
    "第二行是一个整数 baseStationCnt，表示初始基站的个数，取值范围[0,100];\n",
    "接下来 baseStationCnt 行，每行输入一个基站的位置，格式为row col，row的取值范围 [1,rows]，col的取值范围 [1,cols]；输入保证初始基站位置无重复。\n",
    "然后一行是一个整数 cmdCnt，表示改造操作的个数，取值范围：[0,100]。\n",
    "接下来 cmdCnt 行，每行一个操作，格式为操作 row col，操作仅为add或delete, row的取值范围 [1,rows]，col的取值范围 [1,cols]。\n",
    "输出\n",
    "一个整数，表示最终矩阵各单元格（不含基站位置）的信号强度之和。\n",
    "```\n",
    "样例\n",
    "输入样例 1 复制\n",
    "\n",
    "4 6\n",
    "3\n",
    "2 2\n",
    "3 3\n",
    "4 4\n",
    "3\n",
    "delete 4 3\n",
    "add 1 2\n",
    "delete 2 5\n",
    "输出样例 1\n",
    "\n",
    "11\n",
    "提示样例 1\n",
    "如下图所示：\n",
    "```\n",
    "- <img src=\"data:image/png;base64,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\" >\n",
    "\n",
    "```\n",
    "左边矩阵表示初始基站的分布（*表示基站）\n",
    "\n",
    "delete 4 3 操作：清除单元格[4,3]周边范围内的两个基站\n",
    "add 1 2 操作：在单元格[1,2]中添加基站\n",
    "delete 2 5 操作：单元格[2,5]周边范围内没有基站，因此该操作不改变矩阵内的基站。\n",
    "最后存在2个基站，如右边矩阵所示：绿框表示基站[1,2]的信号覆盖范围，蓝框表示基站[2,2]的信号覆盖范围。 最终矩阵每个单元格（不含基站位置）的信号强度为图中数字，和为11。\n",
    "\n",
    "\n",
    "输入样例 2 复制\n",
    "\n",
    "1 1\n",
    "0\n",
    "0\n",
    "输出样例 2\n",
    "\n",
    "0\n",
    "提示样例 2\n",
    "```"
   ],
   "metadata": {
    "collapsed": false
   }
  },
  {
   "cell_type": "code",
   "execution_count": 133,
   "outputs": [],
   "source": [
    "from typing import List\n",
    "import copy\n",
    "\n",
    "\n",
    "class Solution:\n",
    "    def __init__(self):\n",
    "        self.signals = []\n",
    "        self.matrix = []\n",
    "\n",
    "    def get_matrix_sum(self, rows: int, cols: int, base_stations: List[List[int]], commands: List[tuple]) -> int:\n",
    "        # 构造出两个矩阵，stations记录矩阵\n",
    "        self.signals = [[0] * (cols + 3) for _ in range(rows + 3)]\n",
    "        self.matrix = copy.deepcopy(self.signals)\n",
    "        # 第一步 依据命令对基站进行更新，基站数量不多，循环更新即可\n",
    "        for command in commands:\n",
    "            func, location = command\n",
    "            if func == 'add' and location not in base_stations:\n",
    "                base_stations.append(location)\n",
    "            elif func == 'delete':\n",
    "                for i in [-1, 0, 1]:\n",
    "                    for j in [-1, 0, 1]:\n",
    "                        temp = [location[0] + i, location[1] + j]\n",
    "                        if temp in base_stations:\n",
    "                            base_stations.pop(base_stations.index(temp))\n",
    "        # 更新差分矩阵\n",
    "        for row, col in base_stations:\n",
    "            self.matrix[row - 1][col - 1] += 1\n",
    "            self.matrix[row - 1][col + 2] -= 1\n",
    "            self.matrix[row + 2][col - 1] -= 1\n",
    "            self.matrix[row + 2][col + 2] += 1\n",
    "        for i in range(0, rows + 2):\n",
    "            for j in range(0, cols + 2):\n",
    "                self.signals[i][j] = self.signals[i - 1][j] + self.signals[i][j - 1] - self.signals[i - 1][j - 1] + \\\n",
    "                                     self.matrix[i][j]\n",
    "        for row, col in base_stations:\n",
    "            self.signals[row][col] = 0\n",
    "        return sum([sum(x[1:cols + 1]) for x in self.signals][1:rows + 1])\n"
   ],
   "metadata": {
    "collapsed": false
   }
  },
  {
   "cell_type": "code",
   "execution_count": 134,
   "outputs": [],
   "source": [
    "rows = 20\n",
    "cols = 40\n",
    "base_stations = [[2, 2],[3,3],[4,4]]\n",
    "commands = [('delete', [4, 3]), ('add', [1, 2]),('delete', [2, 5])]\n",
    "# commands = []"
   ],
   "metadata": {
    "collapsed": false
   }
  },
  {
   "cell_type": "code",
   "execution_count": 135,
   "metadata": {
    "collapsed": true
   },
   "outputs": [
    {
     "name": "stdout",
     "output_type": "stream",
     "text": [
      "[[2, 2], [1, 2]]\n",
      "---------------------\n",
      "[0, 1, 0, 0, -1, 0, 0, 0, 0]\n",
      "[0, 1, 0, 0, -1, 0, 0, 0, 0]\n",
      "[0, 0, 0, 0, 0, 0, 0, 0, 0]\n",
      "[0, -1, 0, 0, 1, 0, 0, 0, 0]\n",
      "[0, -1, 0, 0, 1, 0, 0, 0, 0]\n",
      "[0, 0, 0, 0, 0, 0, 0, 0, 0]\n",
      "[0, 0, 0, 0, 0, 0, 0, 0, 0]\n",
      "--------------------\n",
      "[0, 1, 1, 1, 0, 0, 0, 0, 0]\n",
      "[0, 2, 0, 2, 0, 0, 0, 0, 0]\n",
      "[0, 2, 0, 2, 0, 0, 0, 0, 0]\n",
      "[0, 1, 1, 1, 0, 0, 0, 0, 0]\n",
      "[0, 0, 0, 0, 0, 0, 0, 0, 0]\n",
      "[0, 0, 0, 0, 0, 0, 0, 0, 0]\n",
      "[0, 0, 0, 0, 0, 0, 0, 0, 0]\n"
     ]
    },
    {
     "data": {
      "text/plain": "11"
     },
     "execution_count": 135,
     "metadata": {},
     "output_type": "execute_result"
    }
   ],
   "source": [
    "sol = Solution()\n",
    "sol.get_matrix_sum(rows,cols,base_stations,commands)"
   ]
  }
 ],
 "metadata": {
  "kernelspec": {
   "display_name": "Python 3",
   "language": "python",
   "name": "python3"
  },
  "language_info": {
   "codemirror_mode": {
    "name": "ipython",
    "version": 2
   },
   "file_extension": ".py",
   "mimetype": "text/x-python",
   "name": "python",
   "nbconvert_exporter": "python",
   "pygments_lexer": "ipython2",
   "version": "2.7.6"
  }
 },
 "nbformat": 4,
 "nbformat_minor": 0
}
