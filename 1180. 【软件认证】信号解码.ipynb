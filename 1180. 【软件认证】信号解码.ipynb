{
 "cells": [
  {
   "cell_type": "markdown",
   "source": [
    "https://oj.rnd.huawei.com/problems/1180/details"
   ],
   "metadata": {
    "collapsed": false
   }
  },
  {
   "cell_type": "markdown",
   "source": [
    "题目描述\n",
    "无线基站接收到手机上报的某种信息（例如11@2$3@14）后，需要先进行解码操作，再计算结果。假定每条信息中都至少包含特殊运算符 @ 和 $ 的一种，解码规则如下：\n",
    "\n",
    "```\n",
    "x@y = 2*x+y+3\n",
    "x$y = 3*x+2*y+1\n",
    "```\n",
    "\n",
    "- x、y 都是非负整数 ；\n",
    "- @ 的优先级高于 $ ；\n",
    "- 相同的特殊运算符，按从左到右的顺序计算。\n",
    "现给定一个字符串，代表一个手机上报的待解码信息，请按照解码规则进行解码和计算，并返回计算结果。\n",
    "\n",
    "解答要求\n",
    "时间限制：1000ms, 内存限制：256MB\n",
    "输入\n",
    "一个字符串，表示一条手机上报的待解码信息，输入仅限数字字符和字符@$，长度范围 [3, 100]\n",
    "\n",
    "- 用例保证输入的数字、计算过程以及结果的取值范围均为 [0, 2^31 - 1]\n",
    "- 用例保证输入合法，@ $左右一定存在数字，且数字不存在前导0\n",
    "不存在类似输入：@2$4，4$5@，4@$5\n",
    "输出\n",
    "一个整数，表示最终计算结果\n",
    "\n",
    "样例\n",
    "输入样例 1 复制\n",
    "```\n",
    "11@2$3@14\n",
    "```\n",
    "输出样例 1\n",
    "\n",
    "128\n",
    "提示样例 1\n",
    "计算过程\n",
    "\n",
    "```\n",
    "11@2$3@14\n",
    "  = (2*11+2+3)$3@14\n",
    "  = 27$3@14\n",
    "  = 27$(2*3+14+3)\n",
    "  = 27$23\n",
    "  = 3*27+2*23+1\n",
    "  = 128\n",
    "```\n",
    "\n",
    "- 因 @ 优先级高于 $，首先从左到右分别计算 11@2 和 3@14；再进行 $ 计算\n",
    "11@2 套用公式 x@y = 2*x+y+3，结果为 27\n",
    "\n",
    "\n",
    "输入样例 2 复制\n",
    "```\n",
    "103$104@105@2$106@107\n",
    "```\n",
    "输出样例 2\n",
    "\n",
    "5397\n",
    "提示样例 2\n",
    "其中 104@105@2 是连续的两个 @ 解码计算，按从左到右的顺序：首先计算 104@105，结果为 316； 再计算 316@2"
   ],
   "metadata": {
    "collapsed": false
   }
  },
  {
   "cell_type": "code",
   "execution_count": 720,
   "outputs": [],
   "source": [
    "def dollars(x, y):\n",
    "    return 3 * int(x) + 2 * int(y) + 1\n",
    "\n",
    "\n",
    "def alt(x, y):\n",
    "    return 2 * int(x) + int(y) + 3\n",
    "\n",
    "\n",
    "def cal_circle(string_list, func):\n",
    "    while len(string_list) >= 2:\n",
    "        temp = [func(string_list[0], string_list[1])]\n",
    "        temp.extend(string_list[2:])\n",
    "        string_list = temp\n",
    "    return string_list"
   ],
   "metadata": {
    "collapsed": false
   }
  },
  {
   "cell_type": "code",
   "execution_count": 721,
   "outputs": [
    {
     "data": {
      "text/plain": "['2']"
     },
     "execution_count": 721,
     "metadata": {},
     "output_type": "execute_result"
    }
   ],
   "source": [
    "s = ['2']\n",
    "cal_circle(s,alt)"
   ],
   "metadata": {
    "collapsed": false
   }
  },
  {
   "cell_type": "code",
   "execution_count": 722,
   "outputs": [],
   "source": [
    "class Solution:\n",
    "    def get_calc_result(self, information: str) -> int:\n",
    "        # 在此添加你的代码\n",
    "        information = [x.split('@') for x in information.split('$')]\n",
    "        temp = []\n",
    "        for x in information:\n",
    "            if len(x) >= 2:\n",
    "                x = cal_circle(x, alt)\n",
    "            temp.append(x[0])\n",
    "        return cal_circle(temp, dollars)[0]"
   ],
   "metadata": {
    "collapsed": false
   }
  },
  {
   "cell_type": "code",
   "execution_count": 723,
   "outputs": [],
   "source": [
    "information = '11@2$3@14'"
   ],
   "metadata": {
    "collapsed": false
   }
  },
  {
   "cell_type": "code",
   "execution_count": 724,
   "outputs": [],
   "source": [
    "information = '103$104@105@2$106@107'"
   ],
   "metadata": {
    "collapsed": false
   }
  },
  {
   "cell_type": "code",
   "execution_count": 725,
   "outputs": [],
   "source": [
    "information = '4@5'"
   ],
   "metadata": {
    "collapsed": false
   }
  },
  {
   "cell_type": "code",
   "execution_count": 726,
   "outputs": [
    {
     "data": {
      "text/plain": "16"
     },
     "execution_count": 726,
     "metadata": {},
     "output_type": "execute_result"
    }
   ],
   "source": [
    "sol = Solution()\n",
    "sol.get_calc_result(information)"
   ],
   "metadata": {
    "collapsed": false
   }
  }
 ],
 "metadata": {
  "kernelspec": {
   "display_name": "Python 3",
   "language": "python",
   "name": "python3"
  },
  "language_info": {
   "codemirror_mode": {
    "name": "ipython",
    "version": 2
   },
   "file_extension": ".py",
   "mimetype": "text/x-python",
   "name": "python",
   "nbconvert_exporter": "python",
   "pygments_lexer": "ipython2",
   "version": "2.7.6"
  }
 },
 "nbformat": 4,
 "nbformat_minor": 0
}
