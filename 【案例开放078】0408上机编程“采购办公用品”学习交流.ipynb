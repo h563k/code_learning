{
 "cells": [
  {
   "cell_type": "markdown",
   "source": [
    "http://3ms.huawei.com/km/groups/3803117/blogs/details/12105923"
   ],
   "metadata": {
    "collapsed": false
   }
  },
  {
   "cell_type": "markdown",
   "source": [
    "某商店正在销售一种原价 price 的办公用品。随着促销季的到来，将优惠售卖一定量的该办公用品，促销信息记录于数组 discount 中，discount[j] = [day, promotionPrice, limit] 表示：在第 day 天，办公用品的促销价为 promotionPrice，但该天最多优惠购买 limit 件。\n",
    "公司正准备以预算 budget 采购该办公用品 num 件，请问最早在第几天可采购齐办公用品（第几天从 1 开始计数）；若预算无法采购齐办公用品，则返回 -1。\n",
    "\n",
    "注意：\n",
    "\n",
    "l  用例保证 discount 按 day 升序（严格递增，即discount[i][0] < discount[i+1][0]），促销价均小于原价；\n",
    "l  办公用品可在任意一天以原价购买，即从第 1 天就可购买，并且每天都不限数量售卖。\n",
    "\n",
    "示例 1：\n",
    "\n",
    "输入：\n",
    "num = 3\n",
    "price = 5\n",
    "discount = [[2,4,2],[3,1,4]]\n",
    "budget = 14\n",
    "\n",
    "输出：2\n",
    "\n",
    "解释：办公用品原价 5，需要买 3 件，预算为 14。\n",
    "第 1 天无优惠，如果采用原价购买，需要花费 3*5=15，超出预算，无法购齐所有办公用品。\n",
    "第 2 天购买办公用品 2 件，由于促销，花费 2*4=8；以原价购买办公用品 1 件，花费 1*5=5；总花费为 13，小于预算 14，因此最早第 2 天可购齐所有办公用品。\n",
    "虽然第 3 天的用品价格更优惠，但是不需要等到第 3 天即可购齐所有办公用品。\n",
    "\n",
    "示例 2：\n",
    "\n",
    "输入：\n",
    "num = 4\n",
    "price = 10\n",
    "discount = [[2,5,3],[3,6,2],[4,2,1],[6,1,4],[100,3,1]]\n",
    "budget = 18\n",
    "\n",
    "输出：4\n",
    "\n",
    "解释：\n",
    "尝试第 1 天完成采购：无优惠，采用原价购买，需要花费 4*10=40，超出预算，无法购齐；\n",
    "尝试第 2 天完成采购：第 2 天以促销价 5 购买办公用品 3 件，花费 5*3=15，再以原价购买剩余 1 件，花费 1*10=10，共花费 25，超出预算，无法购齐；\n",
    "尝试第 3 天完成采购：先以最优惠的促销价 5 购买办公用品 3 件，再以次优惠的价格 6 （第 3 天）购买办公用品 1 件，共花费 21，超出预算，无法购齐；\n",
    "尝试第 4 天完成采购：先以最优惠的促销价 2 购买办公用品 1 件，再以次优惠的价格 5 （第 2 天）购买办公用品 3 件，共花费 17，小于预算，因此最早第 4 天可采购齐所有办公用品。\n",
    "同理第 5 天也可购齐，但是不是最早的；\n",
    "...\n",
    "同理第 100 天也可购齐，但也不是最早的。\n",
    "因此返回 4 。\n",
    "\n",
    "示例 3：\n",
    "\n",
    "输入：\n",
    "num = 2\n",
    "price = 4\n",
    "discount = [[2,3,3]]\n",
    "budget = 10\n",
    "\n",
    "输出：1\n",
    "\n",
    "解释：第 1 天以原价 4 购买办公用品 2 件，花费 2*4=8，小于预算，无需等到第 2 天的优惠，即可购齐所有办公用品，因此返回 1 。\n",
    "提示：\n",
    "\n",
    "\n",
    "1 <= price <= 10^5\n",
    "1 <= num <= 10^4\n",
    "0 <= discount.length <= 2*10^4\n",
    "1 <= discount[i][0] <= 10^5\n",
    "1 <= discount[i][1] <= 10^5\n",
    "1 <= discount[i][2] <= 10\n",
    "1 <= budget <= 10^9\n",
    "\n"
   ],
   "metadata": {
    "collapsed": false
   }
  },
  {
   "cell_type": "code",
   "execution_count": 1,
   "outputs": [],
   "source": [
    "import heapq\n",
    "from typing import List"
   ],
   "metadata": {
    "collapsed": false
   }
  },
  {
   "cell_type": "code",
   "execution_count": 2,
   "outputs": [],
   "source": [
    "class Solution:\n",
    "    def purchase_items(self, num: int, price: int, discount: List[List[int]], budget: int) -> int:\n",
    "        if num * price <= budget:\n",
    "            return 1\n",
    "        price_list = [-price] * num\n",
    "        use_money = price * num\n",
    "        for day, prices, nums in discount:\n",
    "            for good in range(nums):\n",
    "                # 查询当前最大值\n",
    "                temp = heapq.nsmallest(1, price_list)[0]\n",
    "                if prices < -temp:\n",
    "                    use_money += price_list.pop(0)\n",
    "                    heapq.heappush(price_list, -prices)\n",
    "                    use_money += prices\n",
    "                    print(price_list)\n",
    "                    if use_money <= budget:\n",
    "                        return day\n",
    "        return -1"
   ],
   "metadata": {
    "collapsed": false
   }
  },
  {
   "cell_type": "code",
   "execution_count": 3,
   "outputs": [],
   "source": [
    "num = 4\n",
    "price = 10\n",
    "discount = [[2,5,3],[3,6,2],[4,2,1],[6,1,4],[100,3,1]]\n",
    "budget = 18"
   ],
   "metadata": {
    "collapsed": false
   }
  },
  {
   "cell_type": "code",
   "execution_count": 4,
   "outputs": [
    {
     "name": "stdout",
     "output_type": "stream",
     "text": [
      "[-10, -10, -10, -5]\n",
      "[-10, -10, -5, -5]\n",
      "[-10, -5, -5, -5]\n",
      "[-6, -5, -5, -5]\n",
      "[-5, -5, -5, -2]\n"
     ]
    },
    {
     "data": {
      "text/plain": "4"
     },
     "execution_count": 4,
     "metadata": {},
     "output_type": "execute_result"
    }
   ],
   "source": [
    "sol = Solution()\n",
    "sol.purchase_items(num, price, discount, budget)"
   ],
   "metadata": {
    "collapsed": false
   }
  }
 ],
 "metadata": {
  "kernelspec": {
   "display_name": "Python 3",
   "language": "python",
   "name": "python3"
  },
  "language_info": {
   "codemirror_mode": {
    "name": "ipython",
    "version": 2
   },
   "file_extension": ".py",
   "mimetype": "text/x-python",
   "name": "python",
   "nbconvert_exporter": "python",
   "pygments_lexer": "ipython2",
   "version": "2.7.6"
  }
 },
 "nbformat": 4,
 "nbformat_minor": 0
}
