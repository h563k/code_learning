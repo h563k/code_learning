{
 "cells": [
  {
   "cell_type": "markdown",
   "source": [
    "https://oj.rnd.huawei.com/problems/3547/details"
   ],
   "metadata": {
    "collapsed": false
   }
  },
  {
   "cell_type": "markdown",
   "source": [
    "小E需要对表格的选定矩形区域进行排序：\n",
    "\n",
    "给定选定区域内的某些列作为排序条件 sortCols；排序时选定区域内的行数据联动，选定区域外不联动\n",
    "排序规则：\n",
    "排序条件可能是多列，按输入顺序，优先级依次降低。\n",
    "对于每个排序条件，按值的大小进行升序排序；若值相同，则保持原有行的相对顺序不变。\n",
    "请编写一个程序帮助他完成该任务，并输出排序后的完整表格。\n",
    "\n",
    "解答要求\n",
    "时间限制：1000ms, 内存限制：256MB\n",
    "输入\n",
    "第一个参数是二维数组 grid，1 <= grid.length, grid[0].length <= 100, 0 <= grid[i][j] <= 100\n",
    "第二个参数是一维数组 area，1 <= area[i] <= 100, area[2] >= area[0], area[3] >= area[1]\n",
    "第三个参数是一维数组 sortCols，1 <= sortCols[i] <= area[3] - rea[1] + 1\n",
    "\n",
    "输出\n",
    "排序后的完整表格\n",
    "\n",
    "样例\n",
    "输入样例 1 复制\n",
    "```\n",
    "[[1, 2, 2, 3, 4], [1, 2, 3, 7, 5], [1, 1, 3, 5, 6], [1, 4, 1, 6, 7]]\n",
    "[2, 3, 4, 5]\n",
    "[1, 2]\n",
    "```\n",
    "输出样例 1\n",
    "```\n",
    "[[1, 2, 2, 3, 4],\n",
    "[1, 2, 1, 6, 7],\n",
    "[1, 1, 3, 5, 6],\n",
    "[1, 4, 3, 7, 5]]\n",
    "```\n",
    "提示样例 1\n",
    "对选定矩形区域（蓝色）内的数据进行排序，类似于excel选定区域的多列排序，且为稳定排序，示意如下：\n",
    "\n",
    "- <img src=\"data:image/png;base64,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\" >\n",
    "-\n",
    "排序条件有两列，依次为选定区域的第1列、第2列\n",
    "优先按第1列的值进行升序排序，行数据 [1, 6, 7] 排在最上\n",
    "再按第2列的值进行升序排序，[3, 7, 5] 排在 [3, 5, 6] 下面\n",
    "\n",
    "\n",
    "\n",
    "输入样例 2 复制\n",
    "```\n",
    "[[80, 59, 7, 25],\n",
    "[81, 59, 7, 25],\n",
    "[80, 56, 7, 12],\n",
    "[13, 21, 97, 53]]\n",
    "[1, 1, 3, 3]\n",
    "[3, 1]\n",
    "```\n",
    "输出样例 2\n",
    "```\n",
    "[[80, 59, 7, 25],\n",
    "[80, 56, 7, 25],\n",
    "[81, 59, 7, 12],\n",
    "[13, 21, 97, 53]]\n",
    "```\n",
    "提示样例 2\n",
    "选中区域的排序条件按优先级依次为第3列、第1列。\n",
    "第1行、第3行在两个排序条件上的值都相等，保持原有相对顺序。"
   ],
   "metadata": {
    "collapsed": false
   }
  },
  {
   "cell_type": "markdown",
   "source": [],
   "metadata": {
    "collapsed": false
   }
  },
  {
   "cell_type": "code",
   "execution_count": 285,
   "outputs": [],
   "source": [
    "from typing import List\n",
    "\n",
    "\n",
    "class Solution:\n",
    "    def sort_table(self, grid: List[List[int]], area: List[int], sort_cols: List[int]) -> List[List[int]]:\n",
    "        row1, col1, row2, col2 = area\n",
    "        temp_area = [x[col1 - 1:col2] for x in grid[row1 - 1:row2]]\n",
    "        temp_cols = []\n",
    "        for x in temp_area:\n",
    "            temp = [[x[y - 1] for y in sort_cols]]\n",
    "            temp.append(x)\n",
    "            temp_cols.append(temp)\n",
    "        temp_cols.sort(key=lambda x: x[0])\n",
    "        temp_cols = [x[1:][0] for x in temp_cols]\n",
    "        final = []\n",
    "        for num, x in enumerate(grid):\n",
    "            if row1 - 1 <= num < row2:\n",
    "                x[col1 - 1:col2] = temp_cols[num - row1 + 1]\n",
    "            final.append(x)\n",
    "        return final"
   ],
   "metadata": {
    "collapsed": false
   }
  },
  {
   "cell_type": "code",
   "execution_count": 286,
   "outputs": [],
   "source": [
    "grid = [[1, 2, 2, 3, 4], [1, 2, 3, 7, 5], [1, 1, 3, 5, 6], [1, 4, 1, 6, 7]]\n",
    "area = [2, 3, 4, 5]\n",
    "sort_cols = [1, 2]"
   ],
   "metadata": {
    "collapsed": false
   }
  },
  {
   "cell_type": "code",
   "execution_count": 287,
   "outputs": [],
   "source": [
    "grid = [[80, 59, 7, 25],\n",
    "        [81, 59, 7, 25],\n",
    "        [80, 56, 7, 12],\n",
    "        [13, 21, 97, 53]]\n",
    "area = [1, 1, 3, 3]\n",
    "sort_cols = [3, 1]"
   ],
   "metadata": {
    "collapsed": false
   }
  },
  {
   "cell_type": "code",
   "execution_count": 288,
   "metadata": {
    "collapsed": true
   },
   "outputs": [
    {
     "data": {
      "text/plain": "[[80, 59, 7, 25], [80, 56, 7, 25], [81, 59, 7, 12], [13, 21, 97, 53]]"
     },
     "execution_count": 288,
     "metadata": {},
     "output_type": "execute_result"
    }
   ],
   "source": [
    "sol = Solution()\n",
    "sol.sort_table(grid,area,sort_cols)"
   ]
  },
  {
   "cell_type": "code",
   "execution_count": 288,
   "outputs": [],
   "source": [],
   "metadata": {
    "collapsed": false
   }
  }
 ],
 "metadata": {
  "kernelspec": {
   "display_name": "Python 3",
   "language": "python",
   "name": "python3"
  },
  "language_info": {
   "codemirror_mode": {
    "name": "ipython",
    "version": 2
   },
   "file_extension": ".py",
   "mimetype": "text/x-python",
   "name": "python",
   "nbconvert_exporter": "python",
   "pygments_lexer": "ipython2",
   "version": "2.7.6"
  }
 },
 "nbformat": 4,
 "nbformat_minor": 0
}
