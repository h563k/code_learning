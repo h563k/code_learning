{
 "cells": [
  {
   "cell_type": "markdown",
   "source": [
    "http://3ms.huawei.com/km/groups/3803117/blogs/details/9241119?l=zh-cn"
   ],
   "metadata": {
    "collapsed": false
   }
  },
  {
   "cell_type": "markdown",
   "source": [
    "### 请设计一个备忘录系统，要求有以下功能：\n",
    "\n",
    "\n",
    "- addEvent(int startDate, String content, int num, int period) – 自日期 startDate 开始（startDate 包含在内），添加 num 个以 period 为间隔周期待办事项 content。例如若命令为 addEvent(0,\"a\",4,2)，表示于日期 0，2，4，6 分别添加待办事项 \"a\"。\n",
    "    - 返回本次操作共计新增待办事项的数量。若部分日期上已存在该事项，无论该事项是否设置为已完成，这些日期不需添加该事项。\n",
    "\n",
    "- finishEvent(int date, String content) – 将日期 date 上的 content 事项设置为已完成。\n",
    "    - 若该日期上不存在此事项，或该日期上此事项已完成，返回 false；\n",
    "    - 若设置操作完成，则返回 true。\n",
    "\n",
    "- removeEvent(int date, String content) – 移除日期 date 上的 content 事项。\n",
    "    - 若该日期上不存在此事项，返回 false；\n",
    "    - 若移除操作完成，则返回 true。\n",
    "\n",
    "- queryTodo(int startDate, int endDate) – 查询从 startDate 到 endDate（起止日期均包含在内）这段日期内所有的未完成的 content 事项，并将查询到的事项以字符串形式按日期升序记于数组后返回，若查询到相同日期的多条待办事项，则将其按字典序排列。\n",
    "\n",
    "```\n",
    "示例 1：\n",
    "\n",
    "输入：[\"MemoSystem\",\"addEvent\",\"queryTodo\",\"finishEvent\",\"removeEvent\"]\n",
    "[[],[2,\"eat a burger\",2,3],[0,5],[2,\"eat a burger\"],[2,\"eat a burger\"]]\n",
    "输出：[null,2,[\"eat a burger\",\"eat a burger\"],true,true]\n",
    "\n",
    "解释：\n",
    "MemoSystem ms = MemoSystem();\n",
    "ms.addEvent(2,\"eat a burger\",2,3); // 自日期 2 开始，添加 2 个间隔周期为 3 的待办事项 \"eat a burger\"，即在日期 2、5 添加该待办事项。本次操作共新添加了 2 个待办事项，返回 2\n",
    "ms.queryTodo(0,5); //查询自日期 0 至日期 5 的所有未完成的事项，返回数组 [\"eat a burger\",\"eat a burger\"]\n",
    "ms.finishEvent(2,\"eat a burger\"); // 将系统中日期为 2 的待办事项 \"eat a burger\" 设置为已完成，返回 true\n",
    "ms.removeEvent(2,\"eat a burger\"); // 移除系统中日期为 2 的事项 \"eat a burger\"，返回 true\n",
    "注：输出中的 null 表示此对应函数无输出（其中：C 的构造函数有返回值，但是也是无需输出）\n",
    "\n",
    "示例 2：\n",
    "\n",
    "输入：\n",
    "[\"MemoSystem\",\"addEvent\",\"addEvent\",\"removeEvent\",\"finishEvent\",\"addEvent\",\"addEvent\",\"queryTodo\",\"queryTodo\",\"finishEvent\",\"addEvent\"]\n",
    "[[],[2,\"save files\",1,1],[2,\"eat a burger\",1,1],[2,\"drink water\"],[1,\"drink water\"],[0,\"eat a burger\",5,2],[2,\"save files\",1,1],[0,4],[10,11],[2,\"eat a burger\"],[2,\"eat a burger\",1,1]]\n",
    "输出：[null,1,1,false,false,4,0,[\"eat a burger\",\"eat a burger\",\"save files\",\"eat a burger\"],[],true,0]\n",
    "\n",
    "解释：\n",
    "MemoSystem ms = MemoSystem();\n",
    "第 3 个命令 ms.addEvent(2,\"eat a burger\",1,1); // 同一个日期可以增加不同的待办事项，本次操作共新添加了 1 个待办事项，返回 1\n",
    "第 6 个命令 ms.addEvent(0,\"eat a burger\",5,2); // 自日期 0 开始，添加 5 个间隔周期为 2 的待办事项 \"eat a burger\"，即在日期 0，2，4，6，8 添加该待办事项。由于日期 2 的记录中已存在该事项，因此本次操作共新添加了 4 个待办事项，返回 4\n",
    "第 8 个命令 ms.queryTodo(0,4); // 查询自日期 0 至日期 4 的所有未完成的事项，按日期返回，其中日期 2 的待办事项需按字典序排列，返回数组 [\"eat a burger\",\"eat a burger\",\"save files\",\"eat a burger\"]\n",
    "第 9 个命令 ms.queryTodo(10,11); // 查询自日期 10 至日期 11 的所有未完成的事项，返回空数组 []\n",
    "\n",
    "注：输出中的 null 表示此对应函数无输出（其中：C 的构造函数有返回值，但是也是无需输出）\n",
    "\n",
    "提示：\n",
    "\n",
    "1 <= addEvent,finishEvent,removeEvent,queryTodo 总操作数 <= 1000\n",
    "\n",
    "0 <= startDate <= endDate <= 1000\n",
    "\n",
    "0 < num, period, 0 <= startDate + (num - 1) * period <= 1000\n",
    "\n",
    "1 <= content.length <= 20 ，仅包含小写字母、大写字母与空格\n",
    "\n",
    "0 <= date <= 1000\n",
    "\n",
    "·         queryTodo 函数对于 Java/Js/Python/Go 语言，如果返回的记录为空，则返回空数组"
   ],
   "metadata": {
    "collapsed": false
   }
  },
  {
   "cell_type": "code",
   "execution_count": 175,
   "metadata": {
    "collapsed": true
   },
   "outputs": [],
   "source": [
    "class MemoSystem:\n",
    "    def __init__(self):\n",
    "        self.event = {}\n",
    "\n",
    "    def addEvent(self, startDate: int, content: str, num: int, period: int):\n",
    "        nums = 0\n",
    "        for x in range(startDate, startDate + num * period, period):\n",
    "            if self.event.get(x):\n",
    "                if not self.event[x].get(content):\n",
    "                    self.event[x][content] = 'unfinished'\n",
    "                    nums += 1\n",
    "            else:\n",
    "                # 0表示状态未完成，1表示完成\n",
    "                self.event[x] = {content: 'unfinished'}\n",
    "                nums += 1\n",
    "        return nums\n",
    "\n",
    "    def finishEvent(self, date: int, content: int):\n",
    "        if not self.event.get(date):\n",
    "            return False\n",
    "        if not self.event[date].get(content):\n",
    "            return False\n",
    "        elif self.event[date][content] == 'finished':\n",
    "            return False\n",
    "        else:\n",
    "            self.event[date][content] = 'finished'\n",
    "            return True\n",
    "\n",
    "    def removeEvent(self, date: int, content: str):\n",
    "        if not self.event[date].get(content):\n",
    "            return False\n",
    "        else:\n",
    "            self.event[date].pop(content)\n",
    "            return True\n",
    "\n",
    "    def queryTodo(self, startDate: int, endDate: int):\n",
    "        query = []\n",
    "        event = [x for x in self.event.items()]\n",
    "        event.sort(key=lambda x: x[0])\n",
    "        for date, content_dict in event:\n",
    "            if startDate <= date <= endDate:\n",
    "                temp = []\n",
    "                for key, content in content_dict.items():\n",
    "                    if content == 'unfinished':\n",
    "                        temp.append(key)\n",
    "                temp.sort()\n",
    "                query.extend(temp)\n",
    "        return query"
   ]
  },
  {
   "cell_type": "code",
   "execution_count": 176,
   "outputs": [],
   "source": [
    "sol = MemoSystem()"
   ],
   "metadata": {
    "collapsed": false
   }
  },
  {
   "cell_type": "code",
   "execution_count": 177,
   "outputs": [
    {
     "data": {
      "text/plain": "2"
     },
     "execution_count": 177,
     "metadata": {},
     "output_type": "execute_result"
    }
   ],
   "source": [
    "sol.addEvent(2, 'eat a burger', 2, 3)"
   ],
   "metadata": {
    "collapsed": false
   }
  },
  {
   "cell_type": "code",
   "execution_count": 178,
   "outputs": [
    {
     "data": {
      "text/plain": "['eat a burger', 'eat a burger']"
     },
     "execution_count": 178,
     "metadata": {},
     "output_type": "execute_result"
    }
   ],
   "source": [
    "sol.queryTodo(0,5)"
   ],
   "metadata": {
    "collapsed": false
   }
  },
  {
   "cell_type": "code",
   "execution_count": 179,
   "outputs": [
    {
     "data": {
      "text/plain": "{2: {'eat a burger': 'unfinished'}, 5: {'eat a burger': 'unfinished'}}"
     },
     "execution_count": 179,
     "metadata": {},
     "output_type": "execute_result"
    }
   ],
   "source": [
    "sol.event"
   ],
   "metadata": {
    "collapsed": false
   }
  },
  {
   "cell_type": "code",
   "execution_count": 180,
   "outputs": [
    {
     "data": {
      "text/plain": "True"
     },
     "execution_count": 180,
     "metadata": {},
     "output_type": "execute_result"
    }
   ],
   "source": [
    "sol.finishEvent(2,'eat a burger')"
   ],
   "metadata": {
    "collapsed": false
   }
  },
  {
   "cell_type": "code",
   "execution_count": 181,
   "outputs": [
    {
     "data": {
      "text/plain": "True"
     },
     "execution_count": 181,
     "metadata": {},
     "output_type": "execute_result"
    }
   ],
   "source": [
    "sol.removeEvent(2,'eat a burger')"
   ],
   "metadata": {
    "collapsed": false
   }
  },
  {
   "cell_type": "code",
   "execution_count": 182,
   "outputs": [],
   "source": [
    "sol1 = MemoSystem()"
   ],
   "metadata": {
    "collapsed": false
   }
  },
  {
   "cell_type": "code",
   "execution_count": 183,
   "outputs": [
    {
     "data": {
      "text/plain": "1"
     },
     "execution_count": 183,
     "metadata": {},
     "output_type": "execute_result"
    }
   ],
   "source": [
    "sol1.addEvent(2,\"save files\",1,1)"
   ],
   "metadata": {
    "collapsed": false
   }
  },
  {
   "cell_type": "code",
   "execution_count": 184,
   "outputs": [
    {
     "data": {
      "text/plain": "1"
     },
     "execution_count": 184,
     "metadata": {},
     "output_type": "execute_result"
    }
   ],
   "source": [
    "sol1.addEvent(2,\"eat a burger\",1,1)"
   ],
   "metadata": {
    "collapsed": false
   }
  },
  {
   "cell_type": "code",
   "execution_count": 185,
   "outputs": [
    {
     "data": {
      "text/plain": "False"
     },
     "execution_count": 185,
     "metadata": {},
     "output_type": "execute_result"
    }
   ],
   "source": [
    "sol1.removeEvent(2,\"drink water\")"
   ],
   "metadata": {
    "collapsed": false
   }
  },
  {
   "cell_type": "code",
   "execution_count": 186,
   "outputs": [
    {
     "data": {
      "text/plain": "False"
     },
     "execution_count": 186,
     "metadata": {},
     "output_type": "execute_result"
    }
   ],
   "source": [
    "sol1.finishEvent(1,\"drink water\")"
   ],
   "metadata": {
    "collapsed": false
   }
  },
  {
   "cell_type": "code",
   "execution_count": 187,
   "outputs": [
    {
     "data": {
      "text/plain": "4"
     },
     "execution_count": 187,
     "metadata": {},
     "output_type": "execute_result"
    }
   ],
   "source": [
    "sol1.addEvent(0,\"eat a burger\",5,2)"
   ],
   "metadata": {
    "collapsed": false
   }
  },
  {
   "cell_type": "code",
   "execution_count": 188,
   "outputs": [
    {
     "data": {
      "text/plain": "0"
     },
     "execution_count": 188,
     "metadata": {},
     "output_type": "execute_result"
    }
   ],
   "source": [
    "sol1.addEvent(2,'save files',1,1)"
   ],
   "metadata": {
    "collapsed": false
   }
  },
  {
   "cell_type": "code",
   "execution_count": 189,
   "outputs": [
    {
     "data": {
      "text/plain": "['eat a burger', 'eat a burger', 'save files', 'eat a burger']"
     },
     "execution_count": 189,
     "metadata": {},
     "output_type": "execute_result"
    }
   ],
   "source": [
    "sol1.queryTodo(0,4)"
   ],
   "metadata": {
    "collapsed": false
   }
  },
  {
   "cell_type": "code",
   "execution_count": 190,
   "outputs": [
    {
     "data": {
      "text/plain": "[]"
     },
     "execution_count": 190,
     "metadata": {},
     "output_type": "execute_result"
    }
   ],
   "source": [
    "sol1.queryTodo(10,11)"
   ],
   "metadata": {
    "collapsed": false
   }
  },
  {
   "cell_type": "code",
   "execution_count": 191,
   "outputs": [
    {
     "data": {
      "text/plain": "True"
     },
     "execution_count": 191,
     "metadata": {},
     "output_type": "execute_result"
    }
   ],
   "source": [
    "sol1.finishEvent(2,\"eat a burger\")"
   ],
   "metadata": {
    "collapsed": false
   }
  },
  {
   "cell_type": "code",
   "execution_count": 192,
   "outputs": [
    {
     "data": {
      "text/plain": "0"
     },
     "execution_count": 192,
     "metadata": {},
     "output_type": "execute_result"
    }
   ],
   "source": [
    "sol1.addEvent(2,'eat a burger',1,1)"
   ],
   "metadata": {
    "collapsed": false
   }
  }
 ],
 "metadata": {
  "kernelspec": {
   "display_name": "Python 3",
   "language": "python",
   "name": "python3"
  },
  "language_info": {
   "codemirror_mode": {
    "name": "ipython",
    "version": 2
   },
   "file_extension": ".py",
   "mimetype": "text/x-python",
   "name": "python",
   "nbconvert_exporter": "python",
   "pygments_lexer": "ipython2",
   "version": "2.7.6"
  }
 },
 "nbformat": 4,
 "nbformat_minor": 0
}
