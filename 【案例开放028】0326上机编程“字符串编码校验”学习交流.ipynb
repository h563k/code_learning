{
 "cells": [
  {
   "cell_type": "markdown",
   "source": [
    "http://3ms.huawei.com/km/groups/3803117/blogs/details/10124293?l=zh-cn"
   ],
   "metadata": {
    "collapsed": false
   }
  },
  {
   "cell_type": "markdown",
   "source": [
    "有一种校验码机制，用于数据传输中的数据完整性检查，规则如下：\n",
    "l  在字符串中插入一些数字作为校验码，每个数字之后跟随对应个数的字符；\n",
    "l  要求有校验码（校验码大于零并且无前导零），并且正确匹配、无歧义：\n",
    "如，\"helloworld\" 在插入校验码之后可以为 \"5hello5world\"，即 5 + \"hello\" + 5 + \"world\"；\n",
    "但是，有些字符串在进行校验时会产生歧义，比如 \"109something\" 可以校验为 10 + \"9something\" 或者 1 + \"0\" + 9 + \"something\"，故这类编码方式是有歧义的。\n",
    "\n",
    "现给出一个字符串 encodedString，请判断这个字符串是否符合上述规则：\n",
    "\n",
    "l  如果是，则返回去掉校验码后的字符串长度；\n",
    "l  如果不是，则返回 -1。\n",
    "\n",
    "示例 1：\n",
    "输入：encodedString = \"9computer012\"\n",
    "输出：10\n",
    "解释：只可以解析为 9 + \"computer0\" + 1 + \"2\"，可以正确匹配（校验码与随后字符个数相同）且无歧义。返回去掉校验码后的字符串 \"computer02\" 的长度 10。\n",
    "\n",
    "\n",
    "示例 2：\n",
    "输入：encodedString = \"118computer1a\"\n",
    "输出：-1\n",
    "解释：可以解析为 11 + \"8computer1a\" 或 1 + \"1\" + 8 + \"computer\" + 1 + \"a\"，有两种解析方式，所以有歧义。\n",
    "\n",
    "\n",
    "示例 3：\n",
    "输入：encodedString = \"1a02hw\"\n",
    "输出：-1\n",
    "解释：0 不能作为校验码，02 也不能作为校验码，因此返回 -1。\n",
    "\n",
    "提示：\n",
    "1 <= encodedString.length <= 10^3\n",
    "\n",
    "encodedString 仅由小写字母[a~z]和数字[0~9]构成"
   ],
   "metadata": {
    "collapsed": false
   }
  },
  {
   "cell_type": "code",
   "execution_count": 1,
   "outputs": [],
   "source": [
    "from leetcode import *"
   ],
   "metadata": {
    "collapsed": false
   }
  },
  {
   "cell_type": "code",
   "execution_count": 2,
   "metadata": {
    "collapsed": true
   },
   "outputs": [],
   "source": [
    "class Solution:\n",
    "    def __init__(self):\n",
    "        self.temp = []\n",
    "        self.result = []\n",
    "\n",
    "    def is_right(self, encoded_string):\n",
    "        res = ''\n",
    "        for temp in self.temp:\n",
    "            res += ''.join(temp)\n",
    "        return res == encoded_string\n",
    "\n",
    "    def dfs(self, start_ind, encoded_string: str):\n",
    "        # 符合条件的前提，是内容能够完整拼接成原字符串\n",
    "        if self.is_right(encoded_string):\n",
    "            self.result.append(self.temp.copy())\n",
    "        lens = len(encoded_string)\n",
    "        for i in range(start_ind, lens):\n",
    "            temp = encoded_string[start_ind:i]\n",
    "            # 判断为不为0的验证码\n",
    "            if not temp.isdigit() or temp.startswith('0'):\n",
    "                continue\n",
    "            next = encoded_string[i:i + int(temp)]\n",
    "            # 如果能够正确的获取验证码长度的字符串\n",
    "            if len(next) == int(temp):\n",
    "                self.temp.append([temp, next])\n",
    "                self.dfs(i + int(temp), encoded_string)\n",
    "                self.temp.pop()\n",
    "\n",
    "    def get_length(self, encoded_string: str) -> int:\n",
    "        self.dfs(0, encoded_string)\n",
    "        if len(self.result) == 1:\n",
    "            lens = 0\n",
    "            for result in self.result[0]:\n",
    "                lens += int(result[0])\n",
    "            return lens\n",
    "        else:\n",
    "            return -1"
   ]
  },
  {
   "cell_type": "code",
   "execution_count": 3,
   "outputs": [],
   "source": [
    "encoded_string = \"9computer012\""
   ],
   "metadata": {
    "collapsed": false
   }
  },
  {
   "cell_type": "code",
   "execution_count": 4,
   "outputs": [
    {
     "data": {
      "text/plain": "10"
     },
     "execution_count": 4,
     "metadata": {},
     "output_type": "execute_result"
    }
   ],
   "source": [
    "sol = Solution()\n",
    "sol.get_length(encoded_string)"
   ],
   "metadata": {
    "collapsed": false
   }
  },
  {
   "cell_type": "code",
   "execution_count": 4,
   "outputs": [],
   "source": [],
   "metadata": {
    "collapsed": false
   }
  }
 ],
 "metadata": {
  "kernelspec": {
   "display_name": "Python 3",
   "language": "python",
   "name": "python3"
  },
  "language_info": {
   "codemirror_mode": {
    "name": "ipython",
    "version": 2
   },
   "file_extension": ".py",
   "mimetype": "text/x-python",
   "name": "python",
   "nbconvert_exporter": "python",
   "pygments_lexer": "ipython2",
   "version": "2.7.6"
  }
 },
 "nbformat": 4,
 "nbformat_minor": 0
}
