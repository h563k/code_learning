{
 "cells": [
  {
   "cell_type": "markdown",
   "source": [
    "题目描述\n",
    "假设一个简易的变长编码规则XUTF：每个字符有一个唯一编号值 unicodeVal（如汉字“华”的编号十进制值是21326），使用1~6个字节进行编码，编码规则如下：\n",
    "\n",
    "编码格式：\n",
    "\n",
    "| 编号值范围\t            | 编码后字节长度n\t | 二进制格式（x 表示有效位，其它为固定位）                                 |\n",
    "|-------------------|-----------|-------------------------------------------------------|\n",
    "| [0, 2\\**7)\t       | 1字节\t      | 1xxxxxxx                                              |\n",
    "| [2\\**7, 2\\**11)\t  | 2字节\t      | 001xxxxx 01xxxxxx                                     |\n",
    "| [2\\**11, 2\\**16)\t | 3字节\t      | 0001xxxx 01xxxxxx 01xxxxxx                            |\n",
    "| [2\\**16, 2\\**21)\t | 4字节\t      | 00001xxx 01xxxxxx 01xxxxxx 01xxxxxx                   |\n",
    "| [2\\**21, 2\\**26)\t | 5字节\t      | 000001xx 01xxxxxx 01xxxxxx 01xxxxxx 01xxxxxx          |\n",
    "| [2\\**26, 2\\**31)\t | 6字节\t      | 0000001x 01xxxxxx 01xxxxxx 01xxxxxx 01xxxxxx 01xxxxxx |\n",
    "\n",
    "单字节字符 (即 n = 1)：字节的第一位（bit）为 1 ，其余位为有效位。\n",
    "多字节字符 (即 n > 1)：第一个字节的前 n 位都为 0，第 n+1 位为 1，后面字节的前两位都为 01，其余位为有效位。\n",
    "\n",
    "编码过程：参考编号值范围，根据 unicodeVal 值判断需要几个字节进行编码，然后依次把 unicodeVal 的二进制比特填充到二进制格式中的有效位上：右侧对齐、左侧补 0 ；注意：固定位不变。\n",
    "现给定某个字符的十进制编号值 unicodeVal，请按XUTF编码规则对该字符进行编码，输出编码后的十六进制字符串（大写）。\n",
    "\n",
    "解答要求\n",
    "时间限制：1000ms, 内存限制：256MB\n",
    "输入\n",
    "一个十进制整数 unicodeVal，表示某字符的编号值，0 <= unicodeVal < 2^31\n",
    "\n",
    "输出\n",
    "一个十六进制字符串，表示该字符的XUTF编码\n",
    "\n",
    "仅由字符0~9 和 A~F组成，每个长度范围为[2,12]且为偶数（长度奇数时前面补充一个前导字符0）\n",
    "\n",
    "```\n",
    "样例\n",
    "输入样例 1\n",
    "\n",
    "21326\n",
    "输出样例 1\n",
    "\n",
    "154D4E\n",
    "提示样例 1\n",
    "字符编号值 21326 按XUTF编码表示范围，需要3个字节； 把21326的二进制101001101001110比特依次填充到有效位：填充时右侧对齐，左侧有1个有效位未填充，补为 0，示意如下图：\n",
    "\n",
    "转换为十六进制为154D4E\n",
    "\n",
    "\n",
    "\n",
    "输入样例 2\n",
    "\n",
    "34\n",
    "输出样例 2\n",
    "\n",
    "A2\n",
    "提示样例 2\n",
    "编号值34的二进制为 100010，需要一个字节，编码后二进制为 10100010，十六进制为 A2\n",
    "\n",
    "\n",
    "\n",
    "输入样例 3\n",
    "\n",
    "1225859\n",
    "输出样例 3\n",
    "\n",
    "0C6B5243\n",
    "提示样例 3\n",
    "编码后的十六进制字符串，长度为奇数，因此前面补充一个前导字符 0"
   ],
   "metadata": {
    "collapsed": false
   }
  },
  {
   "cell_type": "code",
   "execution_count": 1,
   "metadata": {
    "collapsed": true
   },
   "outputs": [],
   "source": [
    "class Solution:\n",
    "    def __init__(self):\n",
    "        self.x_utf = {\n",
    "            (0, 2 ** 7): [['1', 7], 0],\n",
    "            (2 ** 7, 2 ** 11): [['001', 5], 1],\n",
    "            (2 ** 11, 2 ** 16): [['0001', 4], 2],\n",
    "            (2 ** 16, 2 ** 21): [['00001', 3], 3],\n",
    "            (2 ** 21, 2 ** 26): [['000001', 2], 4],\n",
    "            (2 ** 26, 2 ** 31): [['0000001', 1], 5],\n",
    "        }\n",
    "\n",
    "    def xutf_encoding(self, unicode_val: int) -> str:\n",
    "        # 在此添加你的代码\n",
    "        x_utf, temp_unicode = None, ''\n",
    "        for key in self.x_utf.keys():\n",
    "            if key[0] <= unicode_val < key[1]:\n",
    "                x_utf = self.x_utf[key]\n",
    "                break\n",
    "        unicode_value = bin(unicode_val)[2:]\n",
    "        for i in range(x_utf[1]):\n",
    "            temp = '01' + str(unicode_value[-6:])\n",
    "            unicode_value = unicode_value[:-6]\n",
    "            temp_unicode = temp + temp_unicode\n",
    "        unicode_value = x_utf[0][0] + f'{unicode_value:0>{x_utf[0][1]}s}'\n",
    "        unicode_value = unicode_value + temp_unicode\n",
    "        unicode_value = hex(int(unicode_value, 2))[2:]\n",
    "        unicode_value = '0' + unicode_value if len(unicode_value) % 2 else unicode_value\n",
    "        return unicode_value.upper()"
   ]
  },
  {
   "cell_type": "code",
   "execution_count": 2,
   "outputs": [
    {
     "data": {
      "text/plain": "'034D5D795D61'"
     },
     "execution_count": 2,
     "metadata": {},
     "output_type": "execute_result"
    }
   ],
   "source": [
    "unicode_val = 21326\n",
    "unicode_val = 1299683169\n",
    "sol = Solution()\n",
    "sol.xutf_encoding(unicode_val)"
   ],
   "metadata": {
    "collapsed": false
   }
  }
 ],
 "metadata": {
  "kernelspec": {
   "display_name": "Python 3",
   "language": "python",
   "name": "python3"
  },
  "language_info": {
   "codemirror_mode": {
    "name": "ipython",
    "version": 2
   },
   "file_extension": ".py",
   "mimetype": "text/x-python",
   "name": "python",
   "nbconvert_exporter": "python",
   "pygments_lexer": "ipython2",
   "version": "2.7.6"
  }
 },
 "nbformat": 4,
 "nbformat_minor": 0
}
