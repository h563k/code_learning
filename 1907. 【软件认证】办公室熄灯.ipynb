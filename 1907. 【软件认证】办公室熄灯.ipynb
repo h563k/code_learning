{
 "cells": [
  {
   "cell_type": "markdown",
   "source": [
    "https://oj.rnd.huawei.com/problems/1907/details"
   ],
   "metadata": {
    "collapsed": false
   }
  },
  {
   "cell_type": "markdown",
   "source": [
    "1. 第一步 统计攻城狮和各个灯、门的位置\n",
    "2. 利用BFS，进行距离探测，探测每个点之间的距离，构建距离图\n",
    "3. 最多11个灯加人门，最多169次bfs\n",
    "4. 利用图进行dfs，找出最佳路径"
   ],
   "metadata": {
    "collapsed": false
   }
  },
  {
   "cell_type": "code",
   "execution_count": 57,
   "outputs": [],
   "source": [
    "from leetcode import *"
   ],
   "metadata": {
    "collapsed": false
   }
  },
  {
   "cell_type": "code",
   "execution_count": 58,
   "outputs": [],
   "source": [
    "class Solution:\n",
    "    def __init__(self):\n",
    "        self.distance = {}\n",
    "        self.temp = []\n",
    "        self.result = []\n",
    "\n",
    "    def bfs(self, x, y, lights_array):\n",
    "        row = len(lights_array)\n",
    "        col = len(lights_array[0])\n",
    "        visited = [[0] * col for _ in range(row)]\n",
    "        visited[x][y] = 1\n",
    "        temp = [(x, y)]\n",
    "        distance = 1\n",
    "        while temp:\n",
    "            # 1、不越界 2、未访问过 3、不是桌子\n",
    "            for _ in range(len(temp)):\n",
    "                a, b = temp.pop(0)\n",
    "                for temp_x, temp_y in [[0, 1], [0, -1], [1, 0], [-1, 0]]:\n",
    "                    temp_x += a\n",
    "                    temp_y += b\n",
    "                    if 0 <= temp_x < row and 0 <= temp_y < col and visited[temp_x][temp_y] == 0 and \\\n",
    "                            lights_array[temp_x][temp_y] != 1:\n",
    "                        if lights_array[temp_x][temp_y] in [2, 3, 4]:\n",
    "                            if self.distance.get((x, y)):\n",
    "                                self.distance[(x, y)][(temp_x, temp_y)] = distance\n",
    "                            else:\n",
    "                                self.distance[(x, y)] = {(temp_x, temp_y): distance}\n",
    "                        temp.append((temp_x, temp_y))\n",
    "                        visited[temp_x][temp_y] = 1\n",
    "            distance += 1\n",
    "\n",
    "    def dfs(self, time_limit, , engineer, door, distance):\n",
    "\n",
    "    def get_lights_off_num(self, time_limit, lights_array):\n",
    "        # 在此添加你的代码\n",
    "        light_list = []\n",
    "        desk_list = []\n",
    "        for row in range(len(lights_array)):\n",
    "            for col in range(len(lights_array[0])):\n",
    "                types = lights_array[row][col]\n",
    "                # 1表示桌子\n",
    "                if types == 1:\n",
    "                    desk_list.append((row, col))\n",
    "                # 2 表示灯\n",
    "                elif types == 2:\n",
    "                    light_list.append((row, col))\n",
    "                # 3 表示工位\n",
    "                elif types == 3:\n",
    "                    engineer = [(row, col)]\n",
    "                # 4表示 门口\n",
    "                elif types == 4:\n",
    "                    door = [(row, col)]\n",
    "        full_list = engineer.copy()\n",
    "        full_list.extend(light_list)\n",
    "        full_list.extend(door)\n",
    "        print(full_list)\n",
    "        for i in range(len(full_list)):\n",
    "            x, y = full_list[i]\n",
    "            self.bfs(x, y, lights_array)\n",
    "        min_dis = self.distance[engineer[0]][door[0]]\n",
    "        if min_dis > time_limit:\n",
    "            return -1\n",
    "        distance = 0\n",
    "        self.dfs(time_limit, light_list, engineer, door, distance)\n",
    "        return"
   ],
   "metadata": {
    "collapsed": false
   }
  },
  {
   "cell_type": "code",
   "execution_count": 59,
   "outputs": [],
   "source": [
    "# time_limit = 16\n",
    "# lights_array = [[2, 2, 2, 0, 2],\n",
    "#                 [3, 1, 2, 2, 0],\n",
    "#                 [1, 2, 2, 2, 1],\n",
    "#                 [0, 0, 2, 1, 0],\n",
    "#                 [0, 0, 2, 4, 0],\n",
    "#                 ]"
   ],
   "metadata": {
    "collapsed": false
   }
  },
  {
   "cell_type": "code",
   "execution_count": 60,
   "outputs": [],
   "source": [
    "time_limit = 8\n",
    "lights_array = [[0, 0, 0, 0, 0],\n",
    "                [0, 3, 0, 2, 0],\n",
    "                [0, 0, 2, 0, 0],\n",
    "                [0, 0, 0, 0, 0],\n",
    "                [0, 0, 0, 0, 4]]"
   ],
   "metadata": {
    "collapsed": false
   }
  },
  {
   "cell_type": "code",
   "execution_count": 61,
   "outputs": [
    {
     "name": "stdout",
     "output_type": "stream",
     "text": [
      "[(1, 1), (1, 3), (2, 2), (4, 4)]\n"
     ]
    }
   ],
   "source": [
    "sol = Solution()\n",
    "sol.get_lights_off_num(time_limit, lights_array)"
   ],
   "metadata": {
    "collapsed": false
   }
  },
  {
   "cell_type": "code",
   "execution_count": 62,
   "outputs": [
    {
     "data": {
      "text/plain": "{(1, 1): {(1, 3): 2, (2, 2): 2, (4, 4): 6},\n (1, 3): {(1, 1): 2, (2, 2): 2, (4, 4): 4},\n (2, 2): {(1, 3): 2, (1, 1): 2, (4, 4): 4},\n (4, 4): {(2, 2): 4, (1, 3): 4, (1, 1): 6}}"
     },
     "execution_count": 62,
     "metadata": {},
     "output_type": "execute_result"
    }
   ],
   "source": [
    "sol.distance"
   ],
   "metadata": {
    "collapsed": false
   }
  }
 ],
 "metadata": {
  "kernelspec": {
   "display_name": "Python 3",
   "language": "python",
   "name": "python3"
  },
  "language_info": {
   "codemirror_mode": {
    "name": "ipython",
    "version": 2
   },
   "file_extension": ".py",
   "mimetype": "text/x-python",
   "name": "python",
   "nbconvert_exporter": "python",
   "pygments_lexer": "ipython2",
   "version": "2.7.6"
  }
 },
 "nbformat": 4,
 "nbformat_minor": 0
}
