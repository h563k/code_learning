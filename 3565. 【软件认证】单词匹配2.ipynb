{
 "cells": [
  {
   "cell_type": "markdown",
   "metadata": {
    "collapsed": false
   },
   "source": [
    "https://oj.rnd.huawei.com/problems/3565/details"
   ]
  },
  {
   "cell_type": "markdown",
   "metadata": {
    "collapsed": false
   },
   "source": [
    "### 题目描述\n",
    "在一个字符矩阵中，可把横向或竖向连续相邻的字符、按顺序组成一个单词，例如下图所示的 XE、ACX、STJIIE\n",
    "- <img src=\"data:image/png;base64,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\" >\n",
    "\n",
    "给定一个字符矩阵 charMatrix 和目标单词列表 words，请计算这个字符矩阵可以组成多少个 words 中的单词，并返回这个数量：\n",
    "\n",
    "- 矩阵中每个格子的字符，对于同一个单词不能重复使用；在不同的单词之间可以重复使用。\n",
    "- 格子字符为 ? 表示通配符，可以匹配任一字母。\n",
    "### 解答要求\n",
    "时间限制：1000ms, 内存限制：256MB\n",
    "\n",
    "### 输入\n",
    "首行两个整数 rows 和 cols，1 <= rows, cols <= 5\n",
    "随后 rows 行，每行有 cols 个字符，表示给定的字符矩阵，字符矩阵仅由大写字母或字符?组成\n",
    "最后两行输入单词数量及单词列表 words，单词仅由大写字母组成，且单词不重复，1 <= words.length <= 100，1 <= words[i].length <= 8\n",
    "\n",
    "### 输出\n",
    "一个整数，表示字符矩阵可以组成 words 中的单词数量\n",
    "```\n",
    "样例\n",
    "输入样例 1 复制\n",
    "\n",
    "3 4\n",
    "ACEI\n",
    "EX?I\n",
    "SSTJ\n",
    "8\n",
    "ACX II STJIIE XE NXE ACA ACECTJ ACETJ\n",
    "输出样例 1\n",
    "\n",
    "6\n",
    "提示样例 1\n",
    "```\n",
    "ACX, II, STJIIE, XE 这四个单词可由矩阵中连续相邻格子的字符组成。\n",
    "利用通配符后，单词 NXE 可由矩阵中 ?XE 组成； 同理 ACECTJ 也可组成。\n",
    "但 ACA 和 ACETJ 无法组成。\n",
    "\n",
    "\n",
    "```\n",
    "输入样例 2 复制\n",
    "\n",
    "5 5\n",
    "A?JFL\n",
    "J?ASD\n",
    "DG?OI\n",
    "G??GB\n",
    "A?OFC\n",
    "7\n",
    "A AA AAA AAAAAAAA ADJAS ADJAJDA LDSFL\n",
    "输出样例 2\n",
    "\n",
    "6\n",
    "提示样例 2\n",
    "```\n",
    "只有 LDSFL 无法组成\n"
   ]
  },
  {
   "cell_type": "code",
   "execution_count": 7,
   "metadata": {
    "collapsed": true
   },
   "outputs": [],
   "source": [
    "\"\"\"\n",
    "Copyright (c) Huawei Technologies Co., Ltd. 2019-2021. All rights reserved.\n",
    "Description: 上机编程认证\n",
    "Note: 缺省代码仅供参考，可自行决定使用、修改或删除\n",
    "\"\"\"\n",
    "\n",
    "from typing import List\n",
    "\n",
    "\n",
    "class Solution:\n",
    "    def __init__(self):\n",
    "        self.temp = []\n",
    "        self.result = []\n",
    "        self.find = False\n",
    "        self.count = 0\n",
    "\n",
    "    def dfs(self, char_matrix: List[List[str]], word: str, start, x, y):\n",
    "        if len(word) == start:\n",
    "            # if self.temp not in self.result:\n",
    "            self.result.append(self.temp.copy())\n",
    "            self.find = True\n",
    "            return\n",
    "        temp_word = word[start]\n",
    "        if x < 0 or x >= self.row or y < 0 or y >= self.col or self.visited[x][y] == 1 or char_matrix[x][y] not in [temp_word, '?']:\n",
    "            return\n",
    "        self.visited[x][y] = 1\n",
    "        self.temp.append([x, y])\n",
    "        self.dfs(char_matrix, word, start+1, x+1, y)\n",
    "        self.dfs(char_matrix, word, start+1, x-1, y)\n",
    "        self.dfs(char_matrix, word, start+1, x, y+1)\n",
    "        self.dfs(char_matrix, word, start+1, x, y-1)\n",
    "        self.temp.pop()\n",
    "        self.visited[x][y] = 0\n",
    "\n",
    "    def get_num_words(self, char_matrix: List[List[str]], words: List[str]) -> int:\n",
    "        self.row = len(char_matrix)\n",
    "        self.col = len(char_matrix[0])\n",
    "        for word in words:\n",
    "            for row in range(self.row):\n",
    "                for col in range(self.col):\n",
    "                    start = 0\n",
    "                    self.visited = [[0]*self.col for _ in range(self.row)]\n",
    "                    self.dfs(char_matrix, word, start, row, col)\n",
    "                    self.result = []\n",
    "                    if self.find:\n",
    "                        break\n",
    "            if self.find:\n",
    "                self.count +=1\n",
    "                self.find =False\n",
    "        return self.count"
   ]
  },
  {
   "cell_type": "code",
   "execution_count": 8,
   "metadata": {
    "collapsed": false
   },
   "outputs": [],
   "source": [
    "# char_matrix = [['A', 'C', 'E', 'I'], ['E', 'X', '?', 'I'], ['S', 'S', 'T', 'J']]\n",
    "# words = ['ACX', 'II', 'STJIIE', 'XE', 'NXE', 'ACA', 'ACECTJ', 'ACETJ']"
   ]
  },
  {
   "cell_type": "code",
   "execution_count": 9,
   "metadata": {
    "collapsed": false
   },
   "outputs": [],
   "source": [
    "char_matrix = [['E', 'O', 'Q', 'I']]\n",
    "words = ['EQI', 'IQO', 'OQI']"
   ]
  },
  {
   "cell_type": "code",
   "execution_count": 10,
   "metadata": {
    "collapsed": false
   },
   "outputs": [
    {
     "data": {
      "text/plain": "2"
     },
     "execution_count": 10,
     "metadata": {},
     "output_type": "execute_result"
    }
   ],
   "source": [
    "sol = Solution()\n",
    "sol.get_num_words(char_matrix, words)"
   ]
  },
  {
   "cell_type": "code",
   "execution_count": 11,
   "metadata": {},
   "outputs": [],
   "source": [
    "\"\"\"\n",
    "Copyright (c) Huawei Technologies Co., Ltd. 2019-2021. All rights reserved.\n",
    "Description: 上机编程认证\n",
    "Note: 缺省代码仅供参考，可自行决定使用、修改或删除\n",
    "\"\"\"\n",
    "\n",
    "from typing import List\n",
    "\n",
    "\n",
    "class Solution:\n",
    "    def __init__(self):\n",
    "        self.result = None\n",
    "        self.visited = None\n",
    "        self.col = None\n",
    "        self.row = None\n",
    "        self.find = False\n",
    "        self.count = 0\n",
    "\n",
    "    def dfs(self, char_matrix: List[List[str]], word: str, start, x, y):\n",
    "        if len(word) == start:\n",
    "            self.find = True\n",
    "            return\n",
    "        temp_word = word[start]\n",
    "        if x < 0 or x >= self.row or y < 0 or y >= self.col or self.visited[x][y] == 1 or char_matrix[x][y] not in [temp_word, '?']:\n",
    "            return\n",
    "        self.visited[x][y] = 1\n",
    "        self.dfs(char_matrix, word, start+1, x+1, y)\n",
    "        self.dfs(char_matrix, word, start+1, x-1, y)\n",
    "        self.dfs(char_matrix, word, start+1, x, y+1)\n",
    "        self.dfs(char_matrix, word, start+1, x, y-1)\n",
    "        self.visited[x][y] = 0\n",
    "\n",
    "    def get_num_words(self, char_matrix: List[List[str]], words: List[str]) -> int:\n",
    "        self.row = len(char_matrix)\n",
    "        self.col = len(char_matrix[0])\n",
    "        for word in words:\n",
    "            for row in range(self.row):\n",
    "                for col in range(self.col):\n",
    "                    start = 0\n",
    "                    self.visited = [[0]*self.col for _ in range(self.row)]\n",
    "                    self.dfs(char_matrix, word, start, row, col)\n",
    "                    self.result = []\n",
    "                    if self.find:\n",
    "                        break\n",
    "            if self.find:\n",
    "                self.count +=1\n",
    "                self.find =False\n",
    "        return self.count"
   ]
  },
  {
   "cell_type": "code",
   "execution_count": 12,
   "metadata": {},
   "outputs": [
    {
     "data": {
      "text/plain": "2"
     },
     "execution_count": 12,
     "metadata": {},
     "output_type": "execute_result"
    }
   ],
   "source": [
    "sol = Solution()\n",
    "sol.get_num_words(char_matrix, words)"
   ]
  }
 ],
 "metadata": {
  "kernelspec": {
   "display_name": "Python 3",
   "language": "python",
   "name": "python3"
  },
  "language_info": {
   "codemirror_mode": {
    "name": "ipython",
    "version": 3
   },
   "file_extension": ".py",
   "mimetype": "text/x-python",
   "name": "python",
   "nbconvert_exporter": "python",
   "pygments_lexer": "ipython3",
   "version": "3.9.13"
  }
 },
 "nbformat": 4,
 "nbformat_minor": 0
}
