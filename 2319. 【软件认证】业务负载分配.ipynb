{
 "cells": [
  {
   "cell_type": "markdown",
   "source": [
    "http://oj.rnd.huawei.com/problems/2319/details"
   ],
   "metadata": {
    "collapsed": false
   }
  },
  {
   "cell_type": "markdown",
   "source": [
    "题目描述\n",
    "现有一个服务器集群（服务器数量为 serverNum），和一批不同类型的任务（用数组 task表示，下标表示任务类型，值为任务数量）。\n",
    "\n",
    "现需要把这批任务都分配到集群的服务器上，分配规则如下：\n",
    "\n",
    "应业务安全要求，不同类型的任务不能分配到同一台服务器上\n",
    "一种类型的多个任务可以分配在多台服务器上\n",
    "「负载」定义为某台服务器所分配的任务个数，无任务的服务器负载为0。\n",
    "「最高负载」定义为所有服务器中负载的最大值。\n",
    "\n",
    "请你制定分配方案，使得分配后「最高负载」的值最小，并返回该最小值。\n",
    "\n",
    "解答要求\n",
    "时间限制：1000ms, 内存限制：256MB\n",
    "输入\n",
    "第一行一个整数，表示集群中服务器的数量 serverNum，1 ≤ serverNum ≤ 10^9\n",
    "第二行一个整数，表示这批任务有 taskTypeNum 种类型，1 ≤ taskTypeNum ≤ 100000，且 taskTypeNum <= serverNum\n",
    "第三行输入 taskTypeNum 个整数，为 task 数组，表示这批任务，1 ≤ task[i] ≤ 10^9\n",
    "\n",
    "输出\n",
    "一个整数，表示「最高负载」的最小值\n",
    "\n",
    "样例\n",
    "输入样例 1 复制\n",
    "\n",
    "5\n",
    "2\n",
    "7 4\n",
    "输出样例 1\n",
    "\n",
    "3\n",
    "提示样例 1\n",
    "类型 0 的任务有 7 个，可表示为 0000000；类型 1 的任务有 4 个，可表示为 1111 ：\n",
    "\n",
    "按 11、11、00、00、000 或 1、111、00、00、000 分配给 5 台服务器，该分配方案的「最高负载」值为 3，是最小的\n",
    "其它方案的「最高负载」值都更大，例如 11、11、0000、000 的「最高负载」为 4\n",
    "说明：\n",
    "任务0和任务1不能分配到同一台服务器上。\n",
    "一次性制定分配方案，不存在二次分配。\n",
    "\n",
    "\n",
    "\n",
    "输入样例 2 复制\n",
    "\n",
    "8\n",
    "5\n",
    "101 1 1 20 40\n",
    "输出样例 2\n",
    "\n",
    "34\n",
    "提示样例 2\n",
    "如果「最高负载」为 1，需要的服务器台数为 101 + 1 + 1 + 20 + 40 = 163，超过了给定的服务器数量。因此需要尝试更大的「最高负载」值\n",
    "…\n",
    "如果「最高负载」为 33， 需要的服务器台数为 9\n",
    "如果「最高负载」为 34， 需要的服务器台数为 8\n",
    "如果「最高负载」为 35， 需要的服务器台数也为 8\n",
    "…\n",
    "如果「最高负载」为 40， 需要的服务器台数为 7，服务器有浪费\n",
    "…\n",
    "如果「最高负载」为 101， 需要的服务器台数为 5，服务器有更多浪费\n",
    "所以「最高负载」值最小为 34\n",
    "\n",
    "温馨提醒：注意计算中的过程值溢出\n",
    "\n",
    "\n",
    "\n",
    "提示\n",
    "温馨提醒：纯暴力解法无法通过所有用例"
   ],
   "metadata": {
    "collapsed": false
   }
  },
  {
   "cell_type": "code",
   "execution_count": 126,
   "metadata": {
    "collapsed": true
   },
   "outputs": [],
   "source": [
    "from typing import List\n",
    "\n",
    "\n",
    "class Solution:\n",
    "    def get_min_count(self, num: int, task: List[int]):\n",
    "        count = 0\n",
    "        for taskid in task:\n",
    "            count += taskid // num\n",
    "            if taskid%num:\n",
    "                count +=1\n",
    "        return count\n",
    "\n",
    "    def get_min_load(self, server_num: int, task: List[int]) -> int:\n",
    "        # 在此添加你的代码\n",
    "        left = 1\n",
    "        right = sum(task)\n",
    "        mid = (left+right)//2\n",
    "        while left<right:\n",
    "            # 如果mid不满足要求，那么扩大mid\n",
    "            if self.get_min_count(mid,task) >server_num:\n",
    "                left = mid+1\n",
    "                mid = (left+right)//2\n",
    "            # 如果mid 满足条件，但是mid-1也满足要求，继续缩小\n",
    "            elif self.get_min_count(mid,task)<= server_num and self.get_min_count(mid-1,task) <= server_num:\n",
    "                right = mid-1\n",
    "                mid = (left+mid)//2\n",
    "            else:\n",
    "                return mid\n",
    "        return mid\n"
   ]
  },
  {
   "cell_type": "code",
   "execution_count": 127,
   "outputs": [],
   "source": [
    "server_num = 5\n",
    "task = [7, 4]"
   ],
   "metadata": {
    "collapsed": false
   }
  },
  {
   "cell_type": "code",
   "execution_count": 128,
   "outputs": [],
   "source": [
    "server_num = 8\n",
    "task = [101, 1, 1, 20, 40]"
   ],
   "metadata": {
    "collapsed": false
   }
  },
  {
   "cell_type": "code",
   "execution_count": 129,
   "outputs": [],
   "source": [
    "server_num = 1\n",
    "task = [955134207]"
   ],
   "metadata": {
    "collapsed": false
   }
  },
  {
   "cell_type": "code",
   "execution_count": 130,
   "outputs": [],
   "source": [
    "server_num = 1000000000\n",
    "task = [438997156]"
   ],
   "metadata": {
    "collapsed": false
   }
  },
  {
   "cell_type": "code",
   "execution_count": 131,
   "outputs": [
    {
     "data": {
      "text/plain": "1"
     },
     "execution_count": 131,
     "metadata": {},
     "output_type": "execute_result"
    }
   ],
   "source": [
    "sol = Solution()\n",
    "sol.get_min_load(server_num, task)"
   ],
   "metadata": {
    "collapsed": false
   }
  }
 ],
 "metadata": {
  "kernelspec": {
   "display_name": "Python 3",
   "language": "python",
   "name": "python3"
  },
  "language_info": {
   "codemirror_mode": {
    "name": "ipython",
    "version": 2
   },
   "file_extension": ".py",
   "mimetype": "text/x-python",
   "name": "python",
   "nbconvert_exporter": "python",
   "pygments_lexer": "ipython2",
   "version": "2.7.6"
  }
 },
 "nbformat": 4,
 "nbformat_minor": 0
}
