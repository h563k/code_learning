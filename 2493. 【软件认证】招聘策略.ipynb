{
 "cells": [
  {
   "cell_type": "markdown",
   "source": [],
   "metadata": {
    "collapsed": false
   }
  },
  {
   "cell_type": "markdown",
   "source": [
    "https://oj.rnd.huawei.com/problems/2493/details"
   ],
   "metadata": {
    "collapsed": false
   }
  },
  {
   "cell_type": "markdown",
   "source": [
    "题目描述\n",
    "某次招聘活动中，共有 deptNum 个部门在招人，每个部门都设定了自己的：招聘目标人数、机考和技面的最低分要求。共有 candidateNum 个应聘者，每个应聘者都有两项能力值：机考分数和技面分数。\n",
    "\n",
    "招聘规则如下：\n",
    "\n",
    "- 选人规则：首先达到部门的门槛要求，即机考和技面分数均**大于等于**对应最低分要求；然后选人：优先录取技面分数**较高**的；若技面分数相同，则录取机考分数**较高**的；若机考分数也相同，则录取应聘者编号**较小**的。\n",
    "- 先进行常规录取，此阶段采用轮询录取方式，以完成招聘目标：\n",
    "    - 每一轮按部门编号从小到大轮询，部门遵照选人规则录取一人，若无符合要求者则放弃；若已招满（或已无人可录），不再选人；\n",
    "    - 不断轮询，直至所有部门都完成招聘目标（但不能超过）、或未招满但已无人可录。\n",
    "- 在常规录取阶段结束后，各部门均尝试进行**一次补录**，但最多补录一人（即可能比招聘目标多一人）：\n",
    "    - 按部门编号从小到大的顺序进行补录；\n",
    "    - 如果还有应聘者与该部门常规录取的**最后**一名应聘者能力相同（即机考和技面分数均相同），则部门参照选人规则**补录一人**即结束招聘（即使未成功补录，也结束招聘）。\n",
    "现给出部门的招聘需求deptDemands，以及应聘者的信息 candidateAbilities。请按部门编号从小到大依次输出所录取人员，部门内所录取人员按录取顺序输出（若无录取人员，输出空序列 []）。\n",
    "\n",
    "解答要求\n",
    "时间限制：1000ms, 内存限制：256MB\n",
    "输入\n",
    "第一行的整数表示招聘部门个数 deptNum，1 <= deptNum <= 10\n",
    "随后 deptNum 行依次表示每个部门的要求，记录于 deptDemands 数组中，deptDemands[i] 表示编号为 i 的部门的目标人数 机考最低分 技面最低分，目标人数范围 [1, 200]，最低分范围 [100, 150]\n",
    "\n",
    "接下来一行的整数表示应聘者数量 candidateNum，1 <= candidateNum <= 10000\n",
    "随后 candidateNum 行依次表示每个应聘者的信息，记录于数组 candidateAbilities 中，candidateAbilities[j] 表示编号为 j 的应聘者的机考分数 技面分数，机考和技面分数取值范围 [100, 200]\n",
    "\n",
    "输出\n",
    "按部门编号从小到大，每行输出一个部门所录取人员的编号；若没有录取人员，输出空序列 [] 。\n",
    "\n",
    "样例\n",
    "输入样例 1 复制\n",
    "```\n",
    "2\n",
    "2 130 120\n",
    "1 150 150\n",
    "6\n",
    "150 100\n",
    "160 190\n",
    "150 200\n",
    "200 190\n",
    "160 190\n",
    "160 190\n",
    "输出样例 1\n",
    "\n",
    "[2 1 4]\n",
    "[3]\n",
    "```\n",
    "提示样例 1\n",
    "招聘录取过程解释如下：\n",
    "- <img src=\"data:image/png;base64,iVBORw0KGgoAAAANSUhEUgAAAVMAAADrCAYAAADUpXXYAAAAAXNSR0IArs4c6QAAAARnQU1BAACxjwv8YQUAAAAJcEhZcwAADsQAAA7EAZUrDhsAABSUSURBVHhe7dxRduM4koXhytlMP6T3vxLXQ62mJ++M41QYjgADJCAR0v+dgyMJBIMgRN6m7er89d8//nL+/vvvv37//v316b2xFq+B77GGdarJ1ul/vl4BABcQpgAwAWEKABP8+vz8/PY704+Pj693AIDIn9z8evevH3+A+vXr11///PPP16f39p///Ie1eAF8jzWsU43WqYnN/8OP+QAwAWEKABMQpgAwAWEKABMQpgAwAWEKABPwn0Z18J+KvIbse6x+v36c3meOavX2lRnXWnROZ87TO7O/3meOavX2lcpcjkTnNHKe0X8aRZh2VBcX99Z+j/rc0va2v92ndy1cvVYqc5Qzc6jOrTIHbW/72316x6rOJVOZo5yZQ3VuGkeYDqouLu5t5CaxcaPffbuvaWv4ba1obDufdv/omCbb1h7H+OP1+HHVfUw7Pttf/Zl2fDSfdn+/vZVta49jNC4KU35nirfT3jTRDeYdbfc0VjehtXZfv823Khsb7RPVa+czop370TocbW/1xvs5+1ZlY6N9onpX1skQpng7ulnsRrabyIv6rlLNXvNjvKivSvtdOY/V6xTtq5q95sd4UV+V9rtyHoYwxVvxN51/tfer6GZtW6/fRH1Vtt+Zc/Nr4l/P1Bph5+tbr99EfVW239VzI0wvqCx+NubKvkeq+52pf3ZOd2E3XdSM3q84z6Oa0Xb1VediY9vxZ87Hr0vbjN6P1q04qhltV191Lja2HX/1fAjTAUcLHW2PviB99hdlpvflqj9r7fYqP3Zkv934tbH2CP77jF6ja0J9lWtFbGx1/BHNqW2PoPnbsaLX6PxGztvGVsdXEaYDtPjZBdV+yfpsrfJZfJ/fFvXZsXqv9t5EdfxnP17v/ZiW7bMrW592jVazdbXjtp97bL1H9jEjYz3tZ+2RdLyd1kkI00HZYrf9+lxtXrS9bT12IenV3puoTvvqRX0yeoHuxNbt7PlpP6sR1Yn6bB/PPlsdOTunFWxeV+bkz7EV1b77OhGmA+wL819c1GfabdH2nqPt0o6xC0mv/qKy4/tm/fbq+yO27VkX60zZ+bbrdobV8HXsWFlt9fv5+BrtPlbHxhrbv+2/IqsZzWuU1fB17FhZbfX7+fga7T5Wx8Ya27/tv4owHdB+cW2LRNurX6L28WOj/drj2hi9+vF+HrZP22dN2mPps217Be35ntWuc6Y9VrRPZT7+e9Crr2P7RzVsntG2nl7NEXb8I+2xon0q8/Hnqldfx/aPatg8o21H+H9AdYwuajvef4FG221cNL7tz96LPhvf3+P3iRzV783nrnaZ57OxTjVaJ/4fUBNoIbMW0cVprUpjs3otX7edjzW/TfycfGtl/QB+4sm0Q+EzshbteAsvT9ttXDTePve2GV9H7H07zrOxmWhfXzM65t1V1uToPOx8I+2+Wb3ecUbqr3K0DkfbZeQ8snq944zUX0Vz4Mn0CfQFW5vJLip79fXV51vLz8m3VrSvyfZ5ZX6tqufffg/tZ+9M/Ts6cx7turSfvTP1H4EwHeC/4KhVVb58P0a1233sIur1t9tMO29rnj5H+7d97X6vzK+VtZb62jWy78K3V9aukVpLfe06tGvUbr87fszviL7wnna8/2wXVO+z3lt/jz+G+OOYtr6JxpqjbZlsn7vonZccbR9htfxrxh+zOm6lo3U42j7Cr4+9Zvwxq+NW0hyiH/MJ0w77orG3o++xsv2I7W9j/eddriHWqUZzJUwH7fQFI9f7Hm1bZUym3e4/633GjlvVm8MMvfO0bZUxmXa7/6z3GTtuVW8OM2guUZjyO1NgUO/G9gFh7HP7Knpvrf3ctt282zoRpnhb/obWa+/mH2F1RupF4XIXrFMNYQpMpBvdB4+0oZGFh/qz9mpecZ0IU7wl3Xh2Ext9jm5IP8728zdvW0d8Hdvevnrqy9oz2fl6+uzPz/hxtp9ebWx0Lr6ObW9fPfVl7dkIU7wdu9Ej6vc3uLFQsP3sBrZ+047bWe887Nxb7fnr1cb68e24V8Bf8zte7ct+V/57rH6nNk6vcrRPVjfqH6kpR+Nm8XPNzqdl40bOKRoT9Y/UlKNxs+h40V/zCdOO7IvHXvgea1inmixM+TEfACYgTAFgAsIUACb49fn5+e2H/4+Pj693AIDIn9z8evev8A9Q0S9X3xFr8Rr4HmtYp5psnfgxHwAmIEwBYALCFAAmIEwX0+9Xdrb7/IFHIUwHKFisVWhc9gv9toavbc1EfUeisVmdrF80/6gfwHeEaZECRcFi7UrAZPv6+mpy5rjRmKzOmfoAfiJMF7GQimT9s8yuT8gCxwjTG1FgWQOwF8L0RvQEaI1ABfZCmN7E7B/NATwWYbrI6NPlnZ9ENTfCHugjTIssHK1dCRcLTnuVrP6Z42qcf5WZ9QH8xD900jFjLXZfz1e4Hrima1inmmydeDJdbPeLk5sLqCFMAWACwhQAJiBMAWACwnQx/bJ6Z7vPH3gUwnTQSLj0/jqa1VF/u836sn0i0disTtYvmn/UD+A7wnTArFDJ6qhf4eUDzPdVgy0ak9U5Ux/AT4TpAIVNlYVUJOpvx48cq3Vl34jqEbJAH2F6Mwqt1cFFMALzEaY3Yk+nK54EraYdA8BchOmNrA45C2oA8xGmi9iT4F34uYw+nfI0CxwjTAdYIF0NyaiOha81C6+sv0fj/Kv4Or7GmfoAfuJfjeqYsRa7r+crXA9c0zWsU022TjyZLrb7xcnNBdQQpgAwAWEKABMQpgAwAWG6mH5ZvbPd5w88CmE6QMFirULjsj/gtDV8bWsm6uvJxo/2i+Yf9QP4jjAtUqAoWKxdCZhsX19fTUaPm40f7QcwhjBdxEIqkvXfFSELHCNMi3wA9oLyCtW1dtYj5gngp8MwjW7sKzd75BHHmGVlQKmutavnv3KeAH4qPZnqxrRmfJ/vf2U6z5VBOsvKeQKIdcPUbkq7MfUa9dn7UaqlZu+NHcP3PZvNqWp0/rPOdXSeFStqvjOtpzXkdlunp/9DJ+3xjj4/kj+23reO5pXN3ddqz9VU+iO9eZ6tr+1Hx72zO82/ncud5/ZMO67TYZjq85ErJ2n1VSOdZNK/2ozjPmvus+w+f7nTObRzufPc7mSHdTr8nal28q3tu6KdlN6rr3X1OM+089xl9/nfjV/PO4fXXWiNdlmnqU+mlbFG+7Tjra89vv/8SM88Nua54/fInMbcaW7ZXEph2vs8g69p7/Uqs481YsW54vHu9j3e9bq68/V+p7llczn1n0b5z77/Cl9D7zXZu36xwFl2baNvRqY8Wvl3pvbeXn07Swtmi+brtDV3XFiz89xl9/nfkV331vCTMsCv0ZWceZTyk+mKk1HNHRbJ+C+3Ilu3rM5of080NquT9YvmH/XjHLvmfUNstzU6/I/21bKTOdp+hmpZXWt3YOdp7ey8sjqj/T3RmJn1AfzUDVO7wTz/Odp+RnSMtj3b6BwspJ5h9nFVj5AF+ko/5uNfCpUrQen3e1bgEozAfITpIIXfjCe1RwepzflZAQ68OsL0CZ4VaDomQQqsQZgWjT6J2pNg61lB6ucyOodnzRnYydP/1ag7a9fCB1JljaK19DWMjcnqnzmuier05hTV1/bKce9q9/k/CutUk60TYdoxYy12X89XuB64pmtYp5psnfgxf7HdL05uLqCGMAWACQhTAJiAMAWACQjTxfTL6p3tPn/gUQjTE6oB0/vraFZD/e0268v2iURjszpZv2j+UT+A7wjTQTOCJauhfoWXDzDfVw22aExW50x9AD8RpotYSEWi/nZ8tm/FlX0jqkfIAn2E6YBeQM6iY6wOLoIRmI8wLXpUkOoYK54EreYjzgN4R4TpAAsjez/b6pCzoAYwH2FaZEFkYXQUStq+InDP8nPR+6P5e6PjgXdEmA6yULoSlFENC19rFl5Zf4/G+VfxdXyNM/UB/MS/GtUxYy12X89XuB64pmtYp5psnXgyXWz3i5ObC6ghTAFgAsIUACYgTAFgAsJ0Mf2yeme7zx94FMK0SKHStiMak/0BJ9s/qm192T6RaGxWJ+sXzT/qB/AdYTpAweLbWVk4qd9q2xjf5/t7ojFZnTP1AfxEmC5iIRWJ+tvx2b4VV/aNqB4hC/QRpgMUKNZWWV1fVtcH3hFhOkBPaNZWBJJqrqpvNe0YAOYiTIseEUCrj6H6BCmwBmFaNPqkqNCa/XR5hZ/L6NMpT7PAMcK0yMLR2pVw0f7+VbL6Z46rcf5VfB1f40x9AD/xr0Z1zFiL3dfzFa4Hruka1qkmWyeeTBfb/eLk5gJqfn1+fn67Wz4+Pr7eAQAif3Lz692/+DG/g7V4DXyPNaxTDT/mA8BChCkATECYAsAEhOli+v3KznafP/AohOkABYu1Co3LfqHf1vC1rZmo70g0NquT9YvmH/UD+I4wLVKgKFisXQmYbF9fX03OHDcak9U5Ux/AT4TpIhZSkax/ltn1CVngGGF6IwosawD2QpjeiJ4ArRGowF4I05uY/aM5gMciTBcZfbq885Oo5kbYA32EaZGFo7Ur4WLBaa+S1T9zXI3zrzKzPoCf+IdOOmasxe7r+QrXA9d0DetUk60TT6aL7X5xcnMBNYQpAExAmALABIQpAExAmC6mX1bvbPf5A49CmA4aCZfeX0ezOupvt1lftk8kGpvVyfpF84/6AXxHmA6YFSpZHfUrvHyA+b5qsEVjsjpn6gP4iTAdoLCpspCKRP3t+JFjta7sG1E9QhboI0xvRqG1OrgIRmC+wzCNbrzZN+MjjrEDnbOeAlc8CVpNOwaAuUpPpnYT+hvc9/l+nLc65CyoAczXDVOFpL8B9Rr12XvxAZs14z+3/XasXd1t/tH6Vo2Ox7Gdr23Env4PnbTHO/r8SNFcTGVO2dyzOqP9maM6bY2j+tpeOe5d3W3+2ffwbLt/z4+SrdNhmNoX33PlC/AXVjrJpH+1Gcd91txn2X3+csdzYE77ytbp8Hem2sm3tu+KdlJ6r77W1eM8085zl93nDzxK6a/5vrV9V/makRnHAIDVSn/N19OJtfaz9Z3h92/rWFhfqQ8Aj3LqP43yn33/Fb6G3vugBYC7K//O1N7bq29n+SD2ddqaM8L6WXaeu+w+/zuyNWVtX0v5ybQSmhpXbXI1jJ/F5n9E47Lzy2r49THWl+0TicZmdbJ+0fyjfpxn1/2O1z5y3TC1G6wXCH67v0iOWkbbrK61O5kxn6yG+m19bIzv8/090Ziszpn6AH7qhqndYJ7/HG0/IzpG23ZjIRWJ+tvxV8559nqpHiEL9JV+zMf/6wXkLDrG6uAiGIH5CNOiRwWpjrHiSdBqPuI8gHdEmA6wMLL3s60OOQtqAPMRpkUWRBZGR6Gk7SsC9yw/F70/mr83Oh54R4TpIAulK0EZ1bDwtWbhlfX3aJx/FV/H1zhTH8BPT/8n+O5sxlrsvp6vcD1wTdewTjXZOvFkutjuFyc3F1BDmALABIQpAExAmALABITpYvpl9c52nz/wKIRpkUKlbUc0JvsDTrZ/VNv6sn0i0disTtYvmn/UD+A7wnSAgsW3s7JwUr/VtjG+z/f3RGOyOmfqA/iJMF3EQioS9bfjs30rruwbUT1CFugjTAcoUKytsrq+rK4PvCPCdICe0KytCCTVXFXfatoxAMxFmBY9IoBWH0P1CVJgDcK0aPRJUaE1++nyCj+X0adTnmaBY4RpkYWjtSvhov39q2T1zxxX4/yr+Dq+xpn6AH7iX43qmLEWu6/nK1wPXNM1rFNNtk48mS62+8XJzQXU/Pr8/Px2t3x8fHy9AwBE/uTm17t/8WN+B2vxGvgea1inGn7MB4CFCFMAmIAwXUw/Euxs9/kDj0KYDlCwWKvQuOx3UG0NX9uaifqORGOzOlm/aP5RP4DvCNMiBYqCxdqVgMn29fXV5MxxozFZnTP1AfxEmC5iIRXJ+meZXZ+QBY4RpjeiwLIGYC+E6Y3oCdAagQrshTC9idk/mgN4LMJ0kdGnyzs/iWpuhD3QR5gWWThauxIuFpz2Kln9M8fVOP8qM+sD+In/b37HjLXYfT1f4Xrgmq5hnWqydeLJdLHdL05uLqCGMAWACQhTAJjgMEz1+4FIr7/XAOAVHYapfmc2EoIan7V3tPv/gPA/gEBNN0z90+TITWX7te1VVM9F47L/EclqRGtlfdk+kWhsVifrF80/6sd1rOtr6Ybp2adKv59vr2DGDZDVUL+tlY3xfb6/JxqT1TlTH9exzq+n9Acou+Fa7QWhz73mx7w6nWO0ZpKtpe/P9q24sm9E9d7hOwOuKIWpaW+o9ibT57b1+nfTC8hZdIzVwbW6PvoecR3h8Q7D1G687AJQn785j27Uo+13lZ3/THaMdk1nsJqPOA/kWP/XdfgHKPviqze4Hxe97nwhaf7tOc20em1Uf+f1fxWrryM8x+EfoLzsRozG6SKx/vbzjjR3a/a5R9vvdKP4uYx+F7t/d3eidbRmn/Eahn5nWhXdfPp8p3A5y87hyrlENWx9rPmbLerv0Tj/Kr6Or3GmPq7TWvtX7K/0r0aN9Invb8dFY+4qOsdRM2o80+7zl1c4h0dgnWqydZr6ZKoD+IPooK12zKvb/Vzf6bsCriiFaXRDVW4yjeFmBPAOlvzOFADeDWEKABMQpotFvzfeye7zBx6FMC1SqLTtiMZkvzPO9o9qW1+2TyQam9XJ+kXzj/oBfEeYDrA/qFk7Kwsn9VttG+P7fH9PNCarc6Y+gJ8I00UspCJRfzs+27fiyr4R1SNkgT7CdIACxdoqq+vL6vrAOyJMB+gJzdqKQFLNVfWtph0DwFyEadEjAmj1MVSfIAXWIEyLRp8UFVqzny6v8HMZfTrlaRY4RpgWWThauxIu2t+/Slb/zHE1zr+Kr+NrnKkP4KfSvxr1rmasxe7r+QrXA9d0DetUk60TT6aL7X5xcnMBNb8+Pz+/3S0fHx9f7wAAkT+5+fXuXz9+zP/777//+v3799en98ZavAa+xxrWqSZbJ37MB4AJCFMAmIAwBYAJCFMAuOyvv/4Xp7jVDPtUBoYAAAAASUVORK5CYII=\" >\n",
    "\n",
    "第一轮：按部门编号从小到大，部门0 先选人，按选人规则优先录取了应聘者2 。然后部门1选人，优先录取了应聘者 3 ，部门1招满、退出轮询。\n",
    "第二轮：部门0 选人，应聘者1、4、5 的能力值都相同，录取编号小的应聘者1 。\n",
    "两轮后部门0 和 部门1 都达到人数目标，完成常规录取。\n",
    "\n",
    "补录：部门0 先选人，应聘者 4 和 5 与此前最后录取的应聘者1 的能力值相同，按规则补录一人（应聘者4）后结束招聘。 然后部门1 补录，没有人与此前最后录取的应聘者3 具备相同的能力值。\n",
    "招聘结束后：部门0依次录取人员为 2 1 4，部门1依次录取人员为 3 （应聘者0 和 应聘者5 未被任何部门录取）\n",
    "\n",
    "\n",
    "\n",
    "输入样例 2 复制\n",
    "```\n",
    "2\n",
    "2 100 150\n",
    "1 150 100\n",
    "2\n",
    "100 120\n",
    "150 100\n",
    "输出样例 2\n",
    "\n",
    "[]\n",
    "[1]\n",
    "```\n",
    "提示样例 2\n",
    "两个应聘者都不满足部门0的门槛要求，因此部门0未录取人员。\n",
    "应聘者1满足部门1的门槛要求，因此部门1录取了应聘者1 。\n",
    "\n",
    "\n",
    "```\n",
    "输入样例 3 复制\n",
    "\n",
    "3\n",
    "1 100 100\n",
    "1 100 120\n",
    "1 100 150\n",
    "5\n",
    "100 200\n",
    "100 200\n",
    "100 200\n",
    "100 200\n",
    "100 200\n",
    "输出样例 3\n",
    "\n",
    "[0 3]\n",
    "[1 4]\n",
    "[2]\n",
    "```\n",
    "提示样例 3\n",
    "常规录取阶段，三个部门分别录取应聘者0、1、2；\n",
    "补录阶段，部门0先选人，补录了应聘者3； 剩下应聘者4，满足部门1和部门2的补录条件，但部门1先选人。"
   ],
   "metadata": {
    "collapsed": false
   }
  },
  {
   "cell_type": "code",
   "execution_count": 165,
   "outputs": [],
   "source": [
    "from typing import List\n",
    "\n",
    "\n",
    "class DeptDemand:\n",
    "    def __init__(self, dept_id, employ_num, progm_thd, tech_thd):\n",
    "        self.dept_id = dept_id\n",
    "        self.employ_num = employ_num\n",
    "        self.progm_thd = progm_thd\n",
    "        self.tech_thd = tech_thd\n",
    "        # 记录录取人员\n",
    "        self.employ_list = []\n",
    "\n",
    "\n",
    "class Candidate:\n",
    "    def __init__(self, candidate_id, progm_score, tech_score):\n",
    "        self.candidate_id = candidate_id\n",
    "        self.progm_score = progm_score  # 机考分数\n",
    "        self.tech_score = tech_score  # 面试分数\n",
    "\n",
    "\n",
    "class Solution:\n",
    "    def __init__(self):\n",
    "        self.finish = True\n",
    "        self.temp = -1\n",
    "\n",
    "    def recruitment_result(self, dept_demands: List[DeptDemand],\n",
    "                           candidate_abilities: List[Candidate]) -> List[List[int]]:\n",
    "        candidate_abilities.sort(key=lambda x: (x.tech_score, x.progm_score, -x.candidate_id), reverse=True)\n",
    "        # 招聘从池不再变化结束\n",
    "        while len(candidate_abilities) != self.temp:\n",
    "            self.temp = len(candidate_abilities)\n",
    "            for dept_demand in dept_demands:\n",
    "                if len(dept_demand.employ_list) < dept_demand.employ_num:  # 部门没招满\n",
    "                    for num, candidate in enumerate(candidate_abilities):\n",
    "                        if candidate.progm_score >= dept_demand.progm_thd and candidate.tech_score >= dept_demand.tech_thd:\n",
    "                            dept_demand.employ_list.append(candidate_abilities.pop(num))\n",
    "                            break\n",
    "\n",
    "        # 补录环节\n",
    "        for dept_demand in dept_demands:\n",
    "            for num, candidate in enumerate(candidate_abilities):\n",
    "                if dept_demand.employ_list:\n",
    "                    last = dept_demand.employ_list[-1]\n",
    "                    if candidate.progm_score == last.progm_score and candidate.tech_score == last.tech_score:\n",
    "                        dept_demand.employ_list.append(candidate_abilities.pop(num))\n",
    "                        break\n",
    "                else:\n",
    "                    continue\n",
    "        return [[y.candidate_id for y in x.employ_list] for x in dept_demands]\n"
   ],
   "metadata": {
    "collapsed": false
   }
  },
  {
   "cell_type": "code",
   "execution_count": 166,
   "metadata": {
    "collapsed": true
   },
   "outputs": [],
   "source": [
    "dept_demand1 = DeptDemand(0, 2, 130, 120)\n",
    "dept_demand2 = DeptDemand(1, 1, 150, 150)\n",
    "candidate1 = Candidate(0, 150, 100)\n",
    "candidate2 = Candidate(1, 160, 190)\n",
    "candidate3 = Candidate(2, 150, 200)\n",
    "candidate4 = Candidate(3, 200, 190)\n",
    "candidate5 = Candidate(4, 160, 190)\n",
    "candidate6 = Candidate(5, 160, 190)\n",
    "dept_demands = [dept_demand1, dept_demand2]\n",
    "candidate_abilities = [candidate1, candidate2, candidate3, candidate4, candidate5, candidate6]"
   ]
  },
  {
   "cell_type": "code",
   "execution_count": 167,
   "outputs": [],
   "source": [
    "# dept_demand1 = DeptDemand(0, 1, 110, 110)\n",
    "# dept_demand2 = DeptDemand(1, 1, 136, 113)\n",
    "# candidate1 = Candidate(0, 100, 200)\n",
    "# candidate2 = Candidate(1, 100, 100)\n",
    "# candidate3 = Candidate(2, 100, 200)\n",
    "# candidate4 = Candidate(3, 100, 200)\n",
    "# candidate5 = Candidate(4, 100, 200)\n",
    "# dept_demands = [dept_demand1, dept_demand2]\n",
    "# candidate_abilities = [candidate1, candidate2, candidate3, candidate4, candidate5]"
   ],
   "metadata": {
    "collapsed": false
   }
  },
  {
   "cell_type": "code",
   "execution_count": 168,
   "outputs": [
    {
     "data": {
      "text/plain": "[[2, 1, 4], [3]]"
     },
     "execution_count": 168,
     "metadata": {},
     "output_type": "execute_result"
    }
   ],
   "source": [
    "sol = Solution()\n",
    "sol.recruitment_result(dept_demands, candidate_abilities)"
   ],
   "metadata": {
    "collapsed": false
   }
  }
 ],
 "metadata": {
  "kernelspec": {
   "display_name": "Python 3",
   "language": "python",
   "name": "python3"
  },
  "language_info": {
   "codemirror_mode": {
    "name": "ipython",
    "version": 2
   },
   "file_extension": ".py",
   "mimetype": "text/x-python",
   "name": "python",
   "nbconvert_exporter": "python",
   "pygments_lexer": "ipython2",
   "version": "2.7.6"
  }
 },
 "nbformat": 4,
 "nbformat_minor": 0
}
