{
 "cells": [
  {
   "cell_type": "markdown",
   "source": [
    "https://oj.rnd.huawei.com/problems/1247/details"
   ],
   "metadata": {
    "collapsed": false
   }
  },
  {
   "cell_type": "markdown",
   "source": [
    "题目描述\n",
    "在一个直角坐标系上绘制矩形后，如果坐标系上的一个点在某个矩形内部或边上，则说该点被命中一次。\n",
    "\n",
    "现在绘制N个矩形，请计算最多的命中次数，以及满足该次数的点的数量。\n",
    "\n",
    "注：只统计坐标值为整数的点。\n",
    "\n",
    "解答要求\n",
    "时间限制：2000ms, 内存限制：512MB\n",
    "输入\n",
    "首行一个正整数K，代表矩形的数量，取值范围 [1,10000]。\n",
    "接下来 K 行，每行以 x1 y1 x2 y2 的形式给出一个矩形，其中 (x1, y1) 为左上角的坐标，(x2, y2) 是右下角的坐标。 坐标为整数，取值范围如下：\n",
    "0 <= x1 < x2 <= 2000\n",
    "0 <= y2 < y1 <= 2000\n",
    "注：直角坐标系的原点为(0,0)\n",
    "\n",
    "输出\n",
    "两个整数，第一个为最大的命中数，第二个为最大命中次数的坐标点的数量\n",
    "\n",
    "样例\n",
    "输入样例 1 复制\n",
    "\n",
    "4\n",
    "1 2 2 1\n",
    "0 3 3 0\n",
    "4 3 5 2\n",
    "2 1 4 0\n",
    "输出样例 1\n",
    "\n",
    "3 1\n",
    "提示样例 1\n",
    "<img src=\"data:image/png;base64,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\" >\n",
    "\n",
    "点(1,1)/(1,2)/(2,2)被矩形A和B命中，次数为2。\n",
    "点(2,0)/(3,0)/(3,1)被矩形B和D命中，次数为2。\n",
    "点(2,1)被矩形A/B/D命中，次数为3。\n",
    "因此最大命中数为3，点的数量为1，输出 3 1。\n",
    "\n",
    "\n",
    "输入样例 2 复制\n",
    "\n",
    "3\n",
    "0 3 3 0\n",
    "2 4 4 2\n",
    "1 4 2 3\n",
    "输出样例 2\n",
    "\n",
    "3 1\n",
    "提示样例 2\n",
    "点（2,3）被3个矩形命中，即：最大命中数为3，点的数量为1。\n",
    "\n",
    "\n",
    "\n",
    "输入样例 3 复制\n",
    "\n",
    "2\n",
    "0 3 3 0\n",
    "2 4 4 2\n",
    "输出样例 3\n",
    "\n",
    "2 4\n",
    "提示样例 3\n",
    "两个矩形重合在 (2,2) (2,3) (3,2) (3,3)，即这四个点的被命中次数均为2。"
   ],
   "metadata": {
    "collapsed": false
   }
  },
  {
   "cell_type": "code",
   "execution_count": 7,
   "outputs": [],
   "source": [
    "\"\"\"\n",
    "Copyright (c) Huawei Technologies Co., Ltd. 2019-2021. All rights reserved.\n",
    "Description: 上机编程认证\n",
    "Note: 缺省代码仅供参考，可自行决定使用、修改或删除\n",
    "\"\"\"\n",
    "from typing import List\n",
    "\n",
    "\n",
    "class Solution:\n",
    "\n",
    "    def get_max_covered(self, rectangles: List[List[int]]) -> List[int]:\n",
    "        # 第一步需要确定我们到底在多大的范围内选取矩阵\n",
    "        min_x, min_y = 2000, 2000\n",
    "        max_x, max_y = 0, 0\n",
    "        for rectangle in rectangles:\n",
    "            x1, y1, x2, y2 = rectangle\n",
    "            min_x = min(min_x, x1, x2)\n",
    "            min_y = min(min_y, y1, y2)\n",
    "            max_x = max(max_x, x1, x2)\n",
    "            max_y = max(max_y, y1, y2)\n",
    "        matrix = [[0] * (max_x - min_x + 2) for _ in range(max_y - min_y + 2)]\n",
    "        temp = [[0] * (max_x - min_x + 2) for _ in range(max_y - min_y + 2)]\n",
    "        \"\"\"\n",
    "        前缀和是从左下角->右上角求和，题目给出的是 左上角和右下角\n",
    "        这里需要进行简单的交换来实现\n",
    "        \"\"\"\n",
    "        for rectangle in rectangles:\n",
    "            x1, y1, x2, y2 = rectangle\n",
    "            y1, y2 = y2, y1\n",
    "            x1 -= min_x\n",
    "            x2 -= min_x\n",
    "            y1 -= min_y\n",
    "            y2 -= min_y\n",
    "            matrix[y1][x1] += 1\n",
    "            matrix[y1][x2 + 1] -= 1\n",
    "            matrix[y2 + 1][x1] -= 1\n",
    "            matrix[y2 + 1][x2 + 1] += 1\n",
    "        count = 0\n",
    "        times = 0\n",
    "        for x in range(1, max_x - min_x + 2):\n",
    "            for y in range(1, max_y - min_y + 2):\n",
    "                temp[y][x] = temp[y - 1][x] + temp[y][x - 1] - temp[y - 1][x - 1] + matrix[y - 1][x - 1]\n",
    "                if temp[y][x] > count:\n",
    "                    count = temp[y][x]\n",
    "                    times = 1\n",
    "                elif temp[y][x] == count:\n",
    "                    times += 1\n",
    "        return [count, times]"
   ],
   "metadata": {
    "collapsed": false
   }
  },
  {
   "cell_type": "code",
   "execution_count": 8,
   "outputs": [],
   "source": [
    "num = 2\n",
    "rectangles = [[798, 800, 800, 798],\n",
    "              [799, 800, 799, 796]]\n",
    "function = Solution()\n",
    "results = function.get_max_covered(rectangles)"
   ],
   "metadata": {
    "collapsed": false
   }
  },
  {
   "cell_type": "code",
   "execution_count": 9,
   "outputs": [
    {
     "data": {
      "text/plain": "[2, 3]"
     },
     "execution_count": 9,
     "metadata": {},
     "output_type": "execute_result"
    }
   ],
   "source": [
    "results"
   ],
   "metadata": {
    "collapsed": false
   }
  },
  {
   "cell_type": "code",
   "execution_count": 10,
   "outputs": [],
   "source": [
    "class Solution:\n",
    "\n",
    "    def get_max_covered(self, rectangles: List[List[int]]) -> List[int]:\n",
    "        # 第一步需要确定我们到底在多大的范围内选取矩阵\n",
    "        matrix = [[0] * 2002 for _ in range(2002)]\n",
    "        min_x, min_y = 2002, 2002\n",
    "        max_x, max_y = -1, -1\n",
    "        count, times = 0, 0\n",
    "        \"\"\"\n",
    "        前缀和是从左下角->右上角求和，题目给出的是 左上角和右下角\n",
    "        这里需要进行简单的交换来实现\n",
    "        \"\"\"\n",
    "        for rectangle in rectangles:\n",
    "            x1, y1, x2, y2 = rectangle\n",
    "            y1, y2 = y2, y1\n",
    "            min_x = min(min_x, x1, x2)\n",
    "            min_y = min(min_y, y1, y2)\n",
    "            max_x = max(max_x, x1, x2)\n",
    "            max_y = max(max_y, y1, y2)\n",
    "            matrix[y1][x1] += 1\n",
    "            matrix[y1][x2 + 1] -= 1\n",
    "            matrix[y2 + 1][x1] -= 1\n",
    "            matrix[y2 + 1][x2 + 1] += 1\n",
    "        temp = [[0] * (max_x - min_x + 2) for _ in range(max_y - min_y + 2)]\n",
    "        for x in range(1, max_x - min_x + 2):\n",
    "            for y in range(1, max_y - min_y + 2):\n",
    "                temp[y][x] = temp[y - 1][x] + temp[y][x - 1] - temp[y - 1][x - 1] + matrix[y + min_y - 1][x + min_x - 1]\n",
    "                if temp[y][x] > count:\n",
    "                    count = temp[y][x]\n",
    "                    times = 1\n",
    "                elif temp[y][x] == count:\n",
    "                    times += 1\n",
    "        return [count, times]"
   ],
   "metadata": {
    "collapsed": false
   }
  },
  {
   "cell_type": "code",
   "execution_count": 11,
   "outputs": [],
   "source": [
    "# num = 4\n",
    "# rectangles = [[1, 2, 2, 1],\n",
    "# [0, 3, 3, 0],\n",
    "# [4, 3, 5, 2],\n",
    "# [2, 1, 4, 0]]\n",
    "num = 2\n",
    "rectangles = [[798, 800, 800, 798],\n",
    "              [799, 800, 799, 796]]\n",
    "function = Solution()\n",
    "results = function.get_max_covered(rectangles)"
   ],
   "metadata": {
    "collapsed": false
   }
  },
  {
   "cell_type": "code",
   "execution_count": 12,
   "outputs": [
    {
     "data": {
      "text/plain": "[2, 3]"
     },
     "execution_count": 12,
     "metadata": {},
     "output_type": "execute_result"
    }
   ],
   "source": [
    "results"
   ],
   "metadata": {
    "collapsed": false
   }
  }
 ],
 "metadata": {
  "kernelspec": {
   "display_name": "Python 3",
   "language": "python",
   "name": "python3"
  },
  "language_info": {
   "codemirror_mode": {
    "name": "ipython",
    "version": 2
   },
   "file_extension": ".py",
   "mimetype": "text/x-python",
   "name": "python",
   "nbconvert_exporter": "python",
   "pygments_lexer": "ipython2",
   "version": "2.7.6"
  }
 },
 "nbformat": 4,
 "nbformat_minor": 0
}
