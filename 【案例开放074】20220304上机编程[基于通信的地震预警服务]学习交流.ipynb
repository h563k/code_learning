{
 "cells": [
  {
   "cell_type": "markdown",
   "source": [
    "http://3ms.huawei.com/km/groups/3803117/blogs/details/11926207?l=zh-cn"
   ],
   "metadata": {
    "collapsed": false
   }
  },
  {
   "cell_type": "markdown",
   "source": [
    "某运营商客户基于其通讯能力提供了地震预警服务，假设视某地震多发区域为一个正方形地图，如下所示：\n",
    "\n",
    "![](./assert/5.png)\n",
    "\n",
    "·  区域左上角单元格位置为[0, 0]\n",
    "·  为方便管理，把区域划分为若干个大小相同的栅格Grid（也是正方形），从左到右、从上到下依次编号为1，2，3… n\n",
    "·  单元格边长为 1 。左图的地图边长为 9，栅格边长为 3\n",
    "\n",
    "当发生地震时（震源是区域内某个单元格），地震预警按照如下通知模型通知用户：\n",
    "\n",
    "·         以栅格为单位进行通知，仅通知「栅格通知范围」为指定值radius内（含）、且有用户的栅格；\n",
    "\n",
    "「栅格通知范围」：栅格中心点与震源点之间的曼哈顿距离。现约定栅格边长为奇数，即必有一个单元格作为栅格中心点；\n",
    "\n",
    "·         按照栅格通知范围由近及远依次通知栅格内用户；\n",
    "·         栅格通知范围相同时，优先通知栅格用户量较多的；\n",
    "·         栅格用户量也相同时，优先通知栅格编号较小的。\n",
    "\n",
    "现已知震源位置以及区域内所有用户位置，请按照通知模型依次输出通知的栅格编号。\n",
    "\n",
    "输入\n",
    "\n",
    "首行三个正整数 mapSideLen gridSideLen radius，分别表示地图边长、栅格边长、栅格通知范围\n",
    "\n",
    "1 <= gridSideLen <= mapSideLen <= 8192，输入保证gridSideLen为奇数\n",
    "1 <= radius <= 16000\n",
    "mapSideLen 是 gridSideLen 的整数倍\n",
    "\n",
    "第二行两个整数row col，表示震源发生的单元格位置\n",
    "第三行一个整数 usersNum，表示用户数，1 <= usersNum <= 1000\n",
    "接下来 usersNum 行，每行两个整数，表示一个用户所在单元格位置\n",
    "一个单元格内可以有多个用户。\n",
    "\n",
    "输出\n",
    "\n",
    "一个整数序列，表示待通知的栅格编号。如果没有符合条件的栅格，请输出空序列 []\n",
    "\n",
    "样例\n",
    "\n",
    "输入样例 1\n",
    "\n",
    "\n",
    "9 3 6\n",
    "3 2\n",
    "\n",
    "6\n",
    "\n",
    "3 5\n",
    "7 4\n",
    "6 5\n",
    "5 7\n",
    "2 5\n",
    "5 7\n",
    "\n",
    " 输出样例 1\n",
    "\n",
    "[5 2 6 8]\n",
    "\n",
    "提示样例 1\n",
    "\n",
    "输入数据表示的内容参考上图：\n",
    "与震源距离小于等于通知范围6的栅格编号为1、2、4、5、6、7、8 号；其中有用户的栅格为 2、5、6、8号，与震源的曼哈顿距离分别为 4、3、6、6。\n",
    "首先按由近及远通知，先通知5号、2号；对于6号和8号，依次比较距离和用户数，都相同，则按栅格编号从小到大先通知 6号。\n",
    "输入样例 2\n",
    "\n",
    "\n",
    "3 1 3\n",
    "0 0\n",
    "1\n",
    "2 2\n",
    "\n",
    "输出样例 2\n",
    "\n",
    "[]\n",
    "提示样例 2\n",
    "没有符合条件的栅格，输出空序列\n",
    "提示：点P1位置(x1,y1)与点P2坐标(x2,y2)曼哈顿距离=|x1-x2|+|y1-y2|"
   ],
   "metadata": {
    "collapsed": false
   }
  },
  {
   "cell_type": "code",
   "execution_count": 11,
   "outputs": [],
   "source": [
    "from leetcode import *\n",
    "from collections import defaultdict"
   ],
   "metadata": {
    "collapsed": false
   }
  },
  {
   "cell_type": "code",
   "execution_count": 12,
   "metadata": {
    "collapsed": true
   },
   "outputs": [],
   "source": [
    "class Solution:\n",
    "    def __init__(self):\n",
    "        self.grid_dict = defaultdict(list)\n",
    "        self.grid_num = {}\n",
    "\n",
    "    def warm_up(self, mapside_len: int, gridside_len: int, user_array: List[List[int]],\n",
    "                half_gridside_len: int):\n",
    "        n = mapside_len // gridside_len\n",
    "        for i in range(n):\n",
    "            for j in range(n):\n",
    "                # 接下来把用户塞进去\n",
    "                center = (gridside_len * i + half_gridside_len, gridside_len * j + half_gridside_len)\n",
    "                temp = []\n",
    "                for user in user_array:\n",
    "                    if abs(user[0] - center[0]) <= half_gridside_len and abs(user[1] - center[1]) <= half_gridside_len:\n",
    "                        self.grid_dict[center].append(user)\n",
    "                    else:\n",
    "                        temp.append(user)\n",
    "                user_array = temp\n",
    "                self.grid_num[center] = i * n + j + 1\n",
    "\n",
    "    def get_notification_order(self, mapside_len: int, gridside_len: int, radius: int, earthquake_row: int,\n",
    "                               earthquake_col: int, user_array: List[List[int]]) -> List[int]:\n",
    "        # 栅格半长\n",
    "        half_gridside_len = (gridside_len - 1) // 2\n",
    "        self.warm_up(mapside_len, gridside_len, user_array, half_gridside_len)\n",
    "        # 确定通知范围\n",
    "        note_grid = {}\n",
    "        for center in self.grid_dict.keys():\n",
    "            lens = abs(earthquake_row - center[0]) + abs(earthquake_col - center[1])\n",
    "            if lens <= radius and len(self.grid_dict[tuple(center)]):\n",
    "                note_grid[center] = lens\n",
    "        if note_grid:\n",
    "            final_list = []\n",
    "            for center in self.grid_dict:\n",
    "                # 距离，用户数，编号\n",
    "                final_list.append([note_grid[center], len(self.grid_dict[center]), self.grid_num[center]])\n",
    "            final_list.sort()\n",
    "            return [x[-1] for x in final_list]\n",
    "        else:\n",
    "            return []\n"
   ]
  },
  {
   "cell_type": "code",
   "execution_count": 13,
   "outputs": [],
   "source": [
    "mapside_len, gridside_len, radius = 9, 3, 6\n",
    "earthquake_row, earthquake_col = 3, 2\n",
    "user_array = [[3, 5], [7, 4], [6, 5], [5, 7], [2, 5], [5, 7]]"
   ],
   "metadata": {
    "collapsed": false
   }
  },
  {
   "cell_type": "code",
   "execution_count": 14,
   "outputs": [],
   "source": [
    "mapside_len, gridside_len, radius = 3,1,3\n",
    "earthquake_row, earthquake_col = 0,0\n",
    "user_array = [[2,2]]"
   ],
   "metadata": {
    "collapsed": false
   }
  },
  {
   "cell_type": "code",
   "execution_count": 15,
   "outputs": [
    {
     "data": {
      "text/plain": "[]"
     },
     "execution_count": 15,
     "metadata": {},
     "output_type": "execute_result"
    }
   ],
   "source": [
    "sol = Solution()\n",
    "sol.get_notification_order(mapside_len, gridside_len, radius, earthquake_row, earthquake_col, user_array)"
   ],
   "metadata": {
    "collapsed": false
   }
  }
 ],
 "metadata": {
  "kernelspec": {
   "display_name": "Python 3",
   "language": "python",
   "name": "python3"
  },
  "language_info": {
   "codemirror_mode": {
    "name": "ipython",
    "version": 2
   },
   "file_extension": ".py",
   "mimetype": "text/x-python",
   "name": "python",
   "nbconvert_exporter": "python",
   "pygments_lexer": "ipython2",
   "version": "2.7.6"
  }
 },
 "nbformat": 4,
 "nbformat_minor": 0
}
