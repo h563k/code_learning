{
 "cells": [
  {
   "attachments": {},
   "cell_type": "markdown",
   "metadata": {
    "collapsed": false
   },
   "source": [
    "http://3ms.huawei.com/km/groups/3803117/blogs/details/11926207?l=zh-cn"
   ]
  },
  {
   "attachments": {},
   "cell_type": "markdown",
   "metadata": {
    "collapsed": false
   },
   "source": [
    "某运营商客户基于其通讯能力提供了地震预警服务，假设视某地震多发区域为一个正方形地图，如下所示：\n",
    "\n",
    "<img src=\"data:image/png;base64,iVBORw0KGgoAAAANSUhEUgAAAYsAAAFNCAYAAADxUUMiAAAAAXNSR0IArs4c6QAAAARnQU1BAACxjwv8YQUAAAAJcEhZcwAAGdYAABnWARjRyu0AABoQSURBVHhe7d19jFzVecfxZ/0Wh7JOjWiT7BKy4DVOLKLUwpWFt0rjlaNobVWlIAHdIlFo5U3zItt/oPgPhxDVqqygsjuqRLL+I6lVMgEkZEcpniITB6qsiRsHKy9YTnZwLWC3QYkw9fLi+m06Z3xOuHt9Zs683HvPmZnvR3o0d86d9XieO3N/c+6d2e0plQkAADUs0JcAAFRFWAAAnAgLAIAT5ywienp69JKIr7ao/4PP+zay/j9E71vx+bT0sQ3ij9/I8v/ha/tXe+xKNzz+dkFYaPEdRPx62nw/UX0+ftt9Zd3/KB/37fPxKvH7z/L/Y7uvrPvh8/G3Cw5DBUI9MX09OW0vDHVdjfvi6/59PuaQ+Hou+hDi8z9EhEUZTxa/Qtkx2Z4H3cD3447fd7duh9ARFgjyhdmNOwz1mE354Pv+fVHPs/hjVtcJrPkIC1j5eLGYHZWv+/a9c1D3b0r9f7JkHr+v+zd8bQfzmE35+D+EjrDAFXy+YE2p/0M3ifc76x74vn/fzHPeVLc9/+pBWGAe86LxLcsXbCiPudv52g62+83y+dcuCAv8XjfvNNVjNxW9noWs7gdoBWFRZnsXoa53047T9ni7ZWepHne0omMALiMsEGQwdltYx2X5+NX9xAO7m/rf7Y+/XoSFZp4wprJ+opj7jS9nxdxntLIS770qHy9Uc9/x5bSF8Pjj/wcf/fepUx5/sagXooo5GRvLScG2rgH8ug8AyMDbZy/IHyxdpK81oyiFwrRetti/SzbtEdlyYEomR/SYUg6LoXtF9k5tlUE91AzCAgAyML7/uLz97nkZ3XCj3PihXj3avGJuSFY+eadMu0IgobDgMBQAZOSFE7+VL33jiOz67s/k5G/m9GgzivL0k4dl/Z2bLQFQlNzQkIzlWjzuFENYAEDGWg6N4tPy5OH1cufm6nOF1TXWNYOwAABPmg2N4tNPyuH1N4tMF6RQKFduTIbKs4mEJxPzcM5Cu398Si/5p06CtXYiLDkLF/TItR9Yqq/5t+yqxbJ08UJ9za8lixbI8quX6Gv+Le99X+X/FIKlSxZWtlUorl22tPJc9kmds3j22Ky+diX1/9vwyQ/LXZ8akL5rrtKjNuow00o5vrP03onswpj07Fqtz1+o9ZWTFLJVTS44wZ2szV99Vi8BgD/O0NDBcKC88zdZoU523yt7ZepyOhAWaXr9zXf1kn9n3jkvZ89d1Nf8unipJL/737P6mn+n3zon5y5c0tf8On/xUuX/Ewq1ndT2CoF6/qrncShCen3XQ4XE6KdvqITGfDoIdt4pT+4yARALB8ICANqX6zCUokJCzShUSNgOmxVzY/LwTZOVw0+FsR7ZtXpapm56OHIIqnKrVMKCE9wA4JkKie23rZZvfulW2bimz35+pbzTf1ge+P15ipWr11cuC/v3VPkIbbIICwDwpK6QMAa3yuTl40wVg1unZG95VrHplxOyNzKeFsICADLWUEhUVZCHd/1SJvbaDi8dluM1fjNIMwgLAMhIMiGhqPMSu0R2mpPaUYOydSrysdqEEBYAkIHb11+fQEiUFQsyNvRw5QR20oFQC2EBABn46B9f3VpIlBULORkr58QDU5OWGUVEOVByY0MypH7l+sptcvjmm1o+Ac5HZwEgeOrXkz8tsnKrjDSy1698bPa47CyHS6uTEMICAODUUWGh/sIVAPjUqe+/OWcBAHDqyLBQye6r8vm8dTyr8nn/hm1dVkX/6b9tPIvqdMwsAABOhAUAwImwAAA4ERYAACfCAgDgRFgAAJwICwCAE2EBAHBKJSzUr90wBQBof4mHhQqI6LcaCQwAaH8chgIAOCUaFmZWEcXsAgDaX9Azi2ePzcrmrz4r4/uP6xEAgA8chgIAOBEWAAAnwgIA4ERYAACcEg0L2yefbJ+QAgC0F2YWAACnxMPCzC5MMasAgPaXysxCBYQpAED74zAUAMCJsAAAOBEWAAAnwgIA4ERYAACcCAsAgFNPKeDPt6pfUa5+PfnGNX2y/bbVerQ68+3xfD5fuUS2RkdHK5f03w/675fpf8d+ZUCFRagOvjhT2vTgwdIj+17SI7Wph+P7IZVfqHrJD5/3T//pP/0PepfaEg5DAQCcCAsAgBNhAQBwIiwAAE6EBQDAibAAADgRFgGK/j2QaoX02PodL6TH1u94IXuERaBKpff+Jki8kD5b300hfba+m4IfqYUF6W9HX/zhnak/0d7T//aUeFjwZLCjL36p3kffnbItshPvPf1vT4mHhXkyYL5G+6JeTNUKjVE9i/deXa/Vy2i/44XW0f/2wzmLAJlgqVVIj63f8UL9Gu1XvNe2QvYIi0DY3kHVW6itnp2Lra/1Fhqn+hbdLvGeNlLIBmERiOi7JvMiio9VKzRO7WSivbP1ND5WrVCf6A4+3jdbT+Nj1QrZICwCZHsxITmu/tL/dJiduyrV42rof5gIi0CpF0ytQnNU7+rZEcX7HS+0pp7AqFXIHmERIPPuq1qhOWonU0//4v2OF9Jl63m04Adhga5gCwreoWaDPncGwgIdr94ZBbLDNmk/iYeFehKYdxLR5W7Xal+iP8uLrHGm59FqhLm9uqT/jVH9iva9mR6qnzGX9N+PxMNCbch4ofW+qNvzQmlOtOfxqpe6Lf1vXrTnzfRQ/Qz994vDUG2EF4pf9N8v+u8XYQEAcCIsAABOhAUAwImwAAA4ERYAAKeeUsAfMXj22KyM7z8uG9f0yfbbVuvR6sxnsfP5fOUS2RodHa1c0n8/6L9fpv8d+6ktFRahOvjiTGnTgwdLj+x7SY/Uph6O74dUfqHqJT983j/9p//0P+hdaks4DAUAcCIsAABOhAUAwCnosDjzzvnK5bKrFlcuAQB+BB0W7567WLlcunhh5RIA4AeHoQAAToQFEIK5I5I7ul2GDpXr6FNSmNPjQCAIC8C32QnpObRbts2cksNz5Zp5TDaVQ2NsVq8HApBKWKhvUpsCUMuM5E48r5ejTsme2SN6GfAv8bAwf83KFIEBNOnMa1LUi4BviYaFCYooAgNo0rLrZFAvAr5xzgLwql829w/o5fm29K3TS4B/iYZFfFYBwG1w1bhMD++QiXJorO8dkC3998iB4X0y2advAAQg9ZmF7dAUgPkGe9fJ1rXjMjU8LpNr75CRXr0CCESqYUFQAEBnSC0sCAoA6ByphAVBAQCdJfGwsAWFGgMAtK9Ew4IZBQB0plRmFvECALS3RMNCzSqqFQCgfaVyghsA0FkICwCAE2EBAHAiLAAAToQFAMCppxTwR5W+88OTkn/upIx++kb5mw036tHq+JguAN869dOfzCwAAE4dGRbmux0+Kp/PW8ezKp/3b9jWZVX0n/7bxrOoTsfMAgDgRFgAAJwICwCAE2EBAHAiLAAAToQFAMCJsAAAOBEWQAjmjkju6HYZOlSuo09JYU6PA4FIPCz4K3lAg2YnpOfQbtk2c0oOz5Vr5jHZVA6NsVm9HghAomGhwiH+rUYCA6hlRnInntfLUadkz+wRvQz4l/phKAIDaNKZ16SoFwHfEg0LFQxoU6dfkAsHPy//90S5Dj4hF0/rcfiz7DoZ1IuAb6nPLMyhKQTs5Nfl7OMPyYXiy1J6o1zFb8n5xz8v507q9UhRv2zuH9DL823pW6eXAP9SCQsVEKYIitC9Khd+8gO9HPWyXHr5Bb2MNA2uGpfp4R0yUQ6N9b0DsqX/HjkwvE8m+/QNgACkEhYqIExxvqKNvfGKXNKLSNdg7zrZunZcpobHZXLtHTLSq1cAgeAEN6q75vr0nyAA2gL7gq73EVkwuEIvz7dgxa16CUC3SzQsmEG0pwW3PCpL7n5IFpVDo+eaFeXwuF8W3/2MLHH/2XMAXSL1mQUnudvDguW3yqLPPCrvu6scHJ+5SxYu1ysAoCzRsDDnJ6JFUABA+0t8ZqHCIVoAgPbHCW4AgBNhAQBwCjoszp6/WLlcsohMAwCfgt4Ln3nnfOVy+dVLKpcAAD94yw4AcCIsAABOPaWAP986vv+4PHtsVrbftlo2rnH/Ck71vQ4ln89XLpGt0dHRyiX994P++2X637FfGVBhEapH9r1U2vTgwdLBF2f0SG3q4fh+SOUXql7yw+f903/6T/+D3qW2hMNQAAAnwgIA4ERYAACcCAsAgBNhAQBwIiwAAE6ERYDifxPEVkiPrd/xQnps/Y4XskdYBKpUmv93QaKF9Nn6bgrps/XdFPxINSx4B2BHX7IXfVcaLWSHvrc3ZhboGrxL9UcFRLTvBEb7SS0seDLY1dsXdbtqhfTZ+m4KrXMFta3vpuBHKmGhNijv2q5Ub1/Mu69ahfTY+h0v1K/R/UG817ZC9jgMFQjzrqmZQn1q9Sy6rtFCfWr1LLqu0UI2Eg8LtfFI/iu5+hJ912RuFx+rVqhPtGfxnUx0nSrbWLWCm3n+m6L/7YeZRYAI3OTF+6mux3dYBv1PHv1vf4mGBRvZrpm+qJ+pVUiXrefRQrpsPY8WspfKYajoBmXjXtZIX1Sw1Co0plqfq7H1PFpIl63n0YIfiYaFbaNGl7tVtCemF9FlAAgd5yzQldRsg7DOhupzfHZH/9tPKmGhngjmyRFd7nat9CX6c7zIGmN2VtFqtIfqZ8wl/W9cfBvQ//aTSliojRkvtNYXdVteKM2L9ryZHqqfof+tof/tjcNQbYQXil/03y/67xdhAQBwIiwAAE6EBQDAibAAADgRFgAAp55SwB8xGN9/XJ49Nivbb1stG9f06dHqzGex8/l85RLZGh0drVzSfz/ov1+m/x37qS0VFqF6ZN9LpU0PHiwdfHFGj9SmHo7vh1R+oeolP3zeP/2n//Q/6F1qSzgMBQBwIiwAAE6EBQDAibAAADgRFgAAJ8ICAOBEWADwb+6I5I5ul6FD5Tr6lBTm9DiCQVgA8Gt2QnoO7ZZtM6fk8Fy5Zh6TTeXQGJvV6xGExMNCfYvaVgBwpRnJnXheL0edkj2zR/QyQpDKzKJUmv9XyVQBQEPOvCZFvQj/OAwFIEzLrpNBvQj/CAsAHvXL5v4BvTzflr51egkhSCUsOFcBoF6Dq8ZleniHTJRDY33vgGzpv0cODO+TSfcvmkaGUj9nQWAAcBnsXSdb147L1PC4TK69Q0Z69QoEI/GwiJ/MJjAANGP//xyRDVNfkeUH7pFb//PL8vjMj/Qa+BD0OYvXT79bufzg8vdXLgF0h8defV7+6r92y3O/+6W8ef5t+fHpX8tfH/1nmXj5+/oWyFqiYcEMAkASvvarJ/TSfLmT/66XkLWgZxYAgDCkHhZqthE/jwEAtXzhhhG9NN/YwGf1ErKWaFiYk9nRIigANGrbir+Qb6/5kvzJB26oXL952fXyjU9+TnasvL1yHdlLfGahwiFaANCMv71+WI59+hEp/eU++cWGnHyOWYVXnLMAADgRFgAAJ8ICAOBEWAAAnAgLAIBTTyngjyzt+PZP5RenTsvu+26RTwws16PVqY/qAoBPnfopUGYWAACnjgwL8x0PH5XP563jWZXP+zds67Iq+k//beNZVKdjZgEAcCIsAABOhAUAwImwAAA4ERYAACfCAgDgRFgAAJwICyAEc0ckd3S7DB0q19GnpDCnx4FApBIW0b+UB8BhdkJ6Du2WbTOn5PBcuWYek03l0Bib1euBACQeFuZPqZoiMIBaZiR34nm9HHVK9swe0cuAf6kfhuqGr8EDqTjzmhT1IuBbomFhZhUAErDsOhnUi4BvnLMAvOqXzf0Denm+LX3r9BLgH+csAM8GV43L9PAOmSiHxvreAdnSf48cGN4nk336BkAAEg+L+GEoAgNwG+xdJ1vXjsvU8LhMrr1DRnr1CiAQqZ/gBgC0P8ICAOBEWAAAnBINC9v5CXPCGwDQvlI5wa0CwhRBAQDtL5XDUCogTAEA2h/nLAAAToQFAMCJsAAAOBEWAAAnwgIA4ERYAACcekoBf751x7d/Kr84dVp233eLfGJguR6tznwhMJ/PVy6RrdHR0col/feD/vtl+t+xXxlQYRGqL3/raGnTgwdLP//vN/RIberh+H5I5ReqXvLD5/3Tf/pP/4PepbaEw1AAACfCAgDgRFgAAJwICwCAE2EBNOBfXzkkH//BFyv1zVPP6FGg8xEWQJ1UUNx37F/kxFszlfqHn32TwEDXCDoszrxzvnK57KrFlctuEf17INUK6bH1W9V93/8nfYv3fO3E43oJSbH1Pl7IXtBhcfbcxcrl0iULK5fdpFR672+CxAvps/V9cNVNeu17LpQu6SUkydZ/U/Aj0bCwvQMw1c1s/TCF7LTa97/76Ea99J4v3DCil+DSav/hV+IzC9u7AN4N0Bff1A4q2v9mdlg7Vt4u//jxUZHTZ+XaJcvkq6vukoc+drdei1qS6D/84gR3oNSLqVqhMapnagcV5dphRfsdra+sulPkvv+Q347sJSjqpPqWVP9VwY9EwyL+hFAbNj7WjRrti1rnKqTH1u94IT22fscL2WNmEYjoO6dGC7WpnUu8T+p6dKcT7WejhdbZ+lpvIRuphYXaiLwDuFK1vqixaNnGqhXcVJ+iO5h436L9NOviY9UKrbP1ND5WrZANZhYBImiTZ3pqSl2vhv4ny9Zv+t9+UgkLNrZdI31Rt61VqJ/qV7zvth1YVLTXtkJjTL9NuV4H0dvaCtljZhEg9UKqVUiXrefRQnPq7WH0draCH4QFgMyp2QE7/vZCWKDjqZ1S/NAFO6tsceio/REWbcK82NjJNccEhqlGe0j/W0P/218qYcHGtGulL+bFRm+bp3pnqlH0v3X0v70xs2gjvFD8ov9+0X+/CAsAgBNhAQBwIiwAAE6EBQDAibAAADj1lAL+iMH941Py+pvvyre2D8kH//D9erQ681nsfD5fuUS2RkdHK5f03w/675fpf8d+akuFRajue+RHpU0PHiz95vQ7eqQ29XB8P6TyC1Uv+eHz/uk//af/Qe9SW8JhKACAE2EBAHAiLAAAToQFAMCJsAAAOBEWAAAnwgIA4ERYAACcUgkL9U1qUwCA9pd4WJi/ZmWKwACA9pdoWJigiCIwAKD9cc4CAOCUaFjYZhG22QYAoL0kPrMwgWGKoACA9scJbgCAEye4AQBOnOAGADgRFgAAp0TDwnbIyXZoCgDQXhKfWZjAMEVQAED7S+UwlAoIUwCA9sc5CwCAE2EBAHAiLAAATkGExem3zsl3fnjyinrr7PnK+u/9+NUr1r3+5ruVdQCA9AURFsuvXiI/PvFbyT93cl69ffZCZf33Xnhl3vhzP/+NXLtsaWUdACB9PaVAPrL0Qjksdn33Z/pabdtvWy0b1/Tpa++Jf8cDALLWqZ8CDeacxa0f+yO58UO9+lp1fddcJRs++WF9DQCQhWBmFko9s4tqswoAQHqC+jSUa3bBrAIA/Ajuo7OjG27US1e661MDsnAB5yUAIGvBhUW12QWzCgDwJ7iwUGyzC2YVAOBPkGERn10wqwAAv4IMCyU6u2BWAQB+BRsWZnbBrAIA/AvqexZx6nsXb797nu9VAIBnQYeFcvFSiUNQAOBZ8GEBAPAv2HMWAIBwEBYAAKeAwqIoubExKRT11VqK9dwISVC/9r3eAtC5wjlnURiTnk0iB6YnZWSwfL1YkML05VXz7Zddm/aITEzL1FZ1Q2RNBUMjT5vo7esNFU6l+dfodkZnCyQsCjI2tF9u26uDAkFodrZge0qZHY9tB8ROqXWNbKtGes22gRHEYajC2C5ZXQmKohQ5xBQUtaOIV7VxVY1iZ5Qc27awjQHN8B4WhdyYyANTUjmiVHhYVq68V3LkhXfRnbhaNhUVH1eX0R1S9PbxHVX856IFf2zbIj5mxtFd/B6GKs8iioODcvnIU1FyQyvl+M6STI5UBmqb97OY5/QLcuHov8nFN8rL1/y5LFp7lyxcfnlVEtTOot6nTfy25nq1f6ORf7vtzR2R3K8elyfPlJeX/ZnsXHWHjLj/srCVrW/1jkXV0/+u2kb4vWBOcBdzQ3Lv8Z0yVU6KYrEg09aT29qv98uubXvk8JYDUqorWbrIya/L2Wd+oK8YK2TBZx+VJdX/rlRNaudgqKeL2VnEx23iOxbbz8ZV+7c6yuyE9PzkeX3FGJAtfzouk038dpta/Yyr1d/49rKp5zboPGGERTEnQyu3iZR3/iosbApjPbJrNZ+Aqu1VufDE38sFNaOIG3xIln7mVn0le9GQiF7GdceOaEZyh74o2+b01aj+HVJau05fqZ+tb/WORdXT/+7YRogL4AR3QcbuPS53TqwXWb1SjyFxb7wil/RiI9SOoZFqRKs/35HOvCacskOIPIeF+iLer+WBqUnZrEeQkmuub3pjq3eR9ZaNCgHbuujP1Pr5rrLsOu/n4eIBHi+bauPoHB7DoiiFwrRsntzKSerEfEQWDK7Qy/MtWNHaIaj4DsNWcdXGlWrB0B2B0S+b+wf08nxb+ho/BGVEt4Xpu23MxQR3tbKpNo7O4TEsBmVkZISgSNiCWx6VJXc/JIvKodFzzYpyeNwvi+9+pumT20Z8h2GruGrjRnznVe/OrBMMrhqX6eEdMlEOjfW9A7Kl/x45MLyvqZPbRnRbmL7bxlqV1L+D9hLWp6Fkb9UT2Jzg9qPRHbjt6aT+DTVuLqNjtZZRP1vf6h2Lov+oJoAT3Aid2nmYHYhZjl83y/WotUNS42o9gLAQFqjK9S7T7NjreTcavY25rBYKrn8L89XT/3ok9e+gMwUdFsVCTsaGhipPYvWLZm++iUNQWam244jv4NVtVKlxU3HmNnHm52zrkCzbdgEaEVBY3Cx3xsJgcGSrTE5NyfTEetkyMV3frwFBIqrt3Kvt2M26auurafT2mK9W2EbH1XKt2xLacAnmBDcAIFycswAAOBEWAAAnwgIA4ERYAACcCAsAgBNhAQBwEPl/jR4KVgyIPdgAAAAASUVORK5CYII=\" >\n",
    "\n",
    "- 区域左上角单元格位置为[0, 0]\n",
    "- 为方便管理，把区域划分为若干个大小相同的栅格Grid（也是正方形），从左到右、从上到下依次编号为1，2，3… n\n",
    "- 单元格边长为 1 。左图的地图边长为 9，栅格边长为 3\n",
    "\n",
    "当发生地震时（震源是区域内某个单元格），地震预警按照如下通知模型通知用户：\n",
    "\n",
    "- 以栅格为单位进行通知，仅通知「栅格通知范围」为指定值radius内（含）、且有用户的栅格；\n",
    "\n",
    "「栅格通知范围」：栅格中心点与震源点之间的曼哈顿距离。现约定栅格边长为奇数，即必有一个单元格作为栅格中心点；\n",
    "\n",
    "- 按照栅格通知范围由近及远依次通知栅格内用户；\n",
    "- 栅格通知范围相同时，优先通知栅格用户量较多的；\n",
    "- 栅格用户量也相同时，优先通知栅格编号较小的。\n",
    "\n",
    "现已知震源位置以及区域内所有用户位置，请按照通知模型依次输出通知的栅格编号。\n",
    "\n",
    "输入\n",
    "\n",
    "首行三个正整数 mapSideLen gridSideLen radius，分别表示地图边长、栅格边长、栅格通知范围\n",
    "\n",
    "- 1 <= gridSideLen <= mapSideLen <= 8192，输入保证gridSideLen为奇数\n",
    "- 1 <= radius <= 16000\n",
    "- mapSideLen 是 gridSideLen 的整数倍\n",
    "\n",
    "- 第二行两个整数row col，表示震源发生的单元格位置\n",
    "- 第三行一个整数 usersNum，表示用户数，1 <= usersNum <= 1000\n",
    "- 接下来 usersNum 行，每行两个整数，表示一个用户所在单元格位置\n",
    "- 一个单元格内可以有多个用户。\n",
    "\n",
    "输出\n",
    "\n",
    "一个整数序列，表示待通知的栅格编号。如果没有符合条件的栅格，请输出空序列 []\n",
    "\n",
    "样例\n",
    "\n",
    "输入样例 1\n",
    "\n",
    "```\n",
    "9 3 6\n",
    "3 2\n",
    "\n",
    "6\n",
    "\n",
    "3 5\n",
    "7 4\n",
    "6 5\n",
    "5 7\n",
    "2 5\n",
    "5 7\n",
    "```\n",
    "\n",
    " 输出样例 1\n",
    "\n",
    "[5 2 6 8]\n",
    "\n",
    "提示样例 1\n",
    "\n",
    "输入数据表示的内容参考上图：\n",
    "与震源距离小于等于通知范围6的栅格编号为1、2、4、5、6、7、8 号；其中有用户的栅格为 2、5、6、8号，与震源的曼哈顿距离分别为 4、3、6、6。\n",
    "首先按由近及远通知，先通知5号、2号；对于6号和8号，依次比较距离和用户数，都相同，则按栅格编号从小到大先通知 6号。\n",
    "输入样例 2\n",
    "\n",
    "```\n",
    "3 1 3\n",
    "0 0\n",
    "1\n",
    "2 2\n",
    "```\n",
    "输出样例 2\n",
    "\n",
    "[]\n",
    "提示样例 2\n",
    "没有符合条件的栅格，输出空序列\n",
    "提示：点P1位置(x1,y1)与点P2坐标(x2,y2)曼哈顿距离=|x1-x2|+|y1-y2|"
   ]
  },
  {
   "cell_type": "code",
   "execution_count": null,
   "metadata": {
    "collapsed": false
   },
   "outputs": [],
   "source": [
    "from leetcode import *\n",
    "from collections import defaultdict"
   ]
  },
  {
   "cell_type": "code",
   "execution_count": null,
   "metadata": {
    "collapsed": true
   },
   "outputs": [],
   "source": [
    "class Solution:\n",
    "    def __init__(self):\n",
    "        self.grid_dict = defaultdict(list)\n",
    "        self.grid_num = {}\n",
    "\n",
    "    def warm_up(self, mapside_len: int, gridside_len: int, user_array: List[List[int]],\n",
    "                half_gridside_len: int):\n",
    "        n = mapside_len // gridside_len\n",
    "        for i in range(n):\n",
    "            for j in range(n):\n",
    "                # 接下来把用户塞进去\n",
    "                center = (gridside_len * i + half_gridside_len, gridside_len * j + half_gridside_len)\n",
    "                temp = []\n",
    "                for user in user_array:\n",
    "                    if abs(user[0] - center[0]) <= half_gridside_len and abs(user[1] - center[1]) <= half_gridside_len:\n",
    "                        self.grid_dict[center].append(user)\n",
    "                    else:\n",
    "                        temp.append(user)\n",
    "                user_array = temp\n",
    "                self.grid_num[center] = i * n + j + 1\n",
    "\n",
    "    def get_notification_order(self, mapside_len: int, gridside_len: int, radius: int, earthquake_row: int,\n",
    "                               earthquake_col: int, user_array: List[List[int]]) -> List[int]:\n",
    "        # 栅格半长\n",
    "        half_gridside_len = (gridside_len - 1) // 2\n",
    "        self.warm_up(mapside_len, gridside_len, user_array, half_gridside_len)\n",
    "        # 确定通知范围\n",
    "        note_grid = {}\n",
    "        for center in self.grid_dict.keys():\n",
    "            lens = abs(earthquake_row - center[0]) + abs(earthquake_col - center[1])\n",
    "            if lens <= radius and len(self.grid_dict[tuple(center)]):\n",
    "                note_grid[center] = lens\n",
    "        if note_grid:\n",
    "            final_list = []\n",
    "            for center in self.grid_dict:\n",
    "                # 距离，用户数，编号\n",
    "                final_list.append([note_grid[center], len(self.grid_dict[center]), self.grid_num[center]])\n",
    "            final_list.sort()\n",
    "            return [x[-1] for x in final_list]\n",
    "        else:\n",
    "            return []\n"
   ]
  },
  {
   "cell_type": "code",
   "execution_count": null,
   "metadata": {
    "collapsed": false
   },
   "outputs": [],
   "source": [
    "mapside_len, gridside_len, radius = 9, 3, 6\n",
    "earthquake_row, earthquake_col = 3, 2\n",
    "user_array = [[3, 5], [7, 4], [6, 5], [5, 7], [2, 5], [5, 7]]"
   ]
  },
  {
   "cell_type": "code",
   "execution_count": null,
   "metadata": {
    "collapsed": false
   },
   "outputs": [],
   "source": [
    "mapside_len, gridside_len, radius = 3,1,3\n",
    "earthquake_row, earthquake_col = 0,0\n",
    "user_array = [[2,2]]"
   ]
  },
  {
   "cell_type": "code",
   "execution_count": null,
   "metadata": {
    "collapsed": false
   },
   "outputs": [
    {
     "data": {
      "text/plain": [
       "[]"
      ]
     },
     "execution_count": 5,
     "metadata": {},
     "output_type": "execute_result"
    }
   ],
   "source": [
    "sol = Solution()\n",
    "sol.get_notification_order(mapside_len, gridside_len, radius, earthquake_row, earthquake_col, user_array)"
   ]
  }
 ],
 "metadata": {
  "kernelspec": {
   "display_name": "Python 3.8.16 64-bit ('ml': conda)",
   "language": "python",
   "name": "python3"
  },
  "language_info": {
   "codemirror_mode": {
    "name": "ipython",
    "version": 2
   },
   "file_extension": ".py",
   "mimetype": "text/x-python",
   "name": "python",
   "nbconvert_exporter": "python",
   "pygments_lexer": "ipython2",
   "version": "3.8.16"
  },
  "vscode": {
   "interpreter": {
    "hash": "331a39974702ce3f720074a2f64e10b740deb1bf2af49a468ba271cb507153cf"
   }
  }
 },
 "nbformat": 4,
 "nbformat_minor": 0
}
