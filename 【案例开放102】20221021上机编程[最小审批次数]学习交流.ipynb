{
 "cells": [
  {
   "cell_type": "markdown",
   "source": [
    "http://3ms.huawei.com/km/groups/3803117/blogs/details/13143433"
   ],
   "metadata": {
    "collapsed": false
   }
  },
  {
   "cell_type": "markdown",
   "source": [
    "某公司各级部门之间的连接关系为一颗多叉树结构，每个节点表示一个部门（有两个属性：部门id和部门研究的技术分类tech），父节点表示上级部门；以样例1数据为例，连接关系如下：\n",
    "![](./assert/9.png)\n",
    "现给定各个部门的连接关系和tech，及你所在部门myDeptId，你需要查阅所有与你部门tech相同的其它部门的资料，查阅资料的审批流程如下：\n",
    "\n",
    "·         查阅每个部门的资料都需要进行一次申请\n",
    "\n",
    "·         假设你申请查阅部门B的资料，审批规则为：\n",
    "\n",
    "·         如果你的部门是B的上级部门（含直接和间接），则不需要审批。\n",
    "\n",
    "·         如果你的部门不是B的上级部门（含直接和间接），则需要你的上级部门逐层审批：\n",
    "\n",
    "·         若B是你的上级部门（含直接和间接），则审批到B结束；\n",
    "\n",
    "·         若B不是你的上级部门，则审批到距离两部门最近的同一个上级部门。\n",
    "\n",
    "注：每审批一次审批次数加 1 。\n",
    "\n",
    "请计算并返回累计的审批次数。\n",
    "\n",
    "解答要求时间限制：1000ms, 内存限制：256MB\n",
    "\n",
    "输入\n",
    "\n",
    "首行是一个整数 num，表示部门数量，部门id从 0 到 num - 1，1 <= num <= 1000\n",
    "接下来一行的整数序列techs表示这num个部门的技术分类，下标为部门id，1 <= techs[i] <= 20\n",
    "\n",
    "然后一行是整数 row，表示部门上下级关系数据的行数，1 <= row <= 999\n",
    "接下来row行，每行第一个数字表示一个部门id，第二个数字表示直接下级部门的数量，后面的数字表示直接下级部门id。\n",
    "\n",
    "1 <= 直接下级部门的数量 <= 100\n",
    "\n",
    "最后一行是你所在部门 myDeptId\n",
    "\n",
    "输入保证部门id合法，且仅能构建一棵树\n",
    "\n",
    "输出\n",
    "\n",
    "一个整数，表示累计的审批次数\n",
    "\n",
    "样例\n",
    "\n",
    "输入样例 1\n",
    "\n",
    "8\n",
    "\n",
    "16 20 15 15 15 15 15 11\n",
    "\n",
    "5\n",
    "\n",
    "0 3 3 1 5\n",
    "\n",
    "3 1 4\n",
    "\n",
    "1 1 6\n",
    "\n",
    "4 1 7\n",
    "\n",
    "7 1 2\n",
    "\n",
    "4\n",
    "\n",
    "输出样例 1\n",
    "\n",
    "5\n",
    "\n",
    "提示样例 1\n",
    "\n",
    "连接关系如题目图示：申请者id4的部门的tech为15，其它tech为15的部门有部门2，部门3, 部门5, 部门6\n",
    "四次申请的审批如下：\n",
    "\n",
    "l  查阅部门2，部门4是部门2的上级部门，不需要审批\n",
    "\n",
    "l  查阅部门3，依次需要 部门3 审批，审批 1 次\n",
    "\n",
    "l  查阅部门5，依次需要 部门3 -> 部门0 审批，审批 2 次\n",
    "\n",
    "l  查阅部门6，依次需要 部门3 -> 部门0 审批，审批 2 次\n",
    "\n",
    "因此累计审批次数为 5\n",
    "\n",
    "输入样例 2\n",
    "\n",
    "6\n",
    "\n",
    "16 13 16 14 12 15\n",
    "\n",
    "3\n",
    "\n",
    "0 2 4 1\n",
    "\n",
    "4 2 2 5\n",
    "\n",
    "1 1 3\n",
    "\n",
    "0\n",
    "\n",
    "输出样例 2\n",
    "\n",
    "0\n",
    "\n",
    "提示样例 2\n",
    "\n",
    "部门0的tech为16\n",
    "tech同为16的节点是部门2，部门0是部门2的上级部门（间接上级），因此不需要审批。"
   ],
   "metadata": {
    "collapsed": false
   }
  },
  {
   "cell_type": "code",
   "execution_count": 1,
   "metadata": {
    "collapsed": true
   },
   "outputs": [],
   "source": [
    "from typing import List\n",
    "\n",
    "\n",
    "class Node:\n",
    "    def __init__(self, ind: int, tech: int):\n",
    "        self.id = ind\n",
    "        self.tech = tech\n",
    "        self.child = []\n",
    "\n",
    "\n",
    "class Solution:\n",
    "    def __init__(self):\n",
    "        self.node_dict = {}\n",
    "        self.start_end = {}\n",
    "        self.start = 0\n",
    "        self.tech_list = []\n",
    "\n",
    "    def dfs(self, root: Node):\n",
    "        if root:\n",
    "            self.start_end[root] = [self.start, 0]\n",
    "            self.start += 1\n",
    "            for child in root.child:\n",
    "                self.dfs(child)\n",
    "            self.start_end[root][1] = self.start\n",
    "\n",
    "    def counts(self, node: Node, my_dept_id: int):\n",
    "        count, temp = -1, []\n",
    "        my_start, my_end = self.start_end[self.node_dict[my_dept_id]]\n",
    "        start, end = self.start_end[node]\n",
    "        for note, (note_start, note_end) in self.start_end.items():\n",
    "            if note_start <= my_start and my_end <= note_end:\n",
    "                temp.append(note)\n",
    "        while temp:\n",
    "            note_start, note_end = self.start_end[temp.pop()]\n",
    "            count += 1\n",
    "            if note_start <= start and end <= note_end:\n",
    "                return count\n",
    "\n",
    "    def get_approval_times(self, relations: List[List[int]], techs: List[int], my_dept_id: int) -> int:\n",
    "        count = 0\n",
    "        for ind, tech in enumerate(techs):\n",
    "            temp = Node(ind, tech)\n",
    "            self.node_dict[ind] = temp\n",
    "            if tech == techs[my_dept_id]:\n",
    "                self.tech_list.append(temp)\n",
    "        for relation in relations:\n",
    "            node = self.node_dict[relation[0]]\n",
    "            for child in relation[2:]:\n",
    "                node.child.append(self.node_dict[child])\n",
    "        self.dfs(self.node_dict[0])\n",
    "        for node in self.tech_list:\n",
    "            count += self.counts(node, my_dept_id)\n",
    "        return count\n"
   ]
  },
  {
   "cell_type": "code",
   "execution_count": 2,
   "outputs": [],
   "source": [
    "num = 8\n",
    "techs = [16, 20, 15, 15, 15, 15, 15, 11]\n",
    "row = 5\n",
    "relations = [\n",
    "    [0, 3, 3, 1, 5],\n",
    "    [3, 1, 4],\n",
    "    [1, 1, 6],\n",
    "    [4, 1, 7],\n",
    "    [7, 1, 2],\n",
    "]\n",
    "my_dept_id = 4"
   ],
   "metadata": {
    "collapsed": false
   }
  },
  {
   "cell_type": "code",
   "execution_count": 3,
   "outputs": [],
   "source": [
    "# num = 6\n",
    "# techs = [16, 13, 16, 14, 12, 15]\n",
    "# row = 3\n",
    "# relations = [\n",
    "#     [0, 2, 4, 1],\n",
    "#     [4, 2, 2, 5],\n",
    "#     [1, 1, 3]\n",
    "# ]\n",
    "# my_dept_id = 0"
   ],
   "metadata": {
    "collapsed": false
   }
  },
  {
   "cell_type": "code",
   "execution_count": 4,
   "outputs": [
    {
     "data": {
      "text/plain": "5"
     },
     "execution_count": 4,
     "metadata": {},
     "output_type": "execute_result"
    }
   ],
   "source": [
    "sol = Solution()\n",
    "sol.get_approval_times(relations, techs, my_dept_id)"
   ],
   "metadata": {
    "collapsed": false
   }
  },
  {
   "cell_type": "code",
   "execution_count": 4,
   "outputs": [],
   "source": [],
   "metadata": {
    "collapsed": false
   }
  }
 ],
 "metadata": {
  "kernelspec": {
   "display_name": "Python 3",
   "language": "python",
   "name": "python3"
  },
  "language_info": {
   "codemirror_mode": {
    "name": "ipython",
    "version": 2
   },
   "file_extension": ".py",
   "mimetype": "text/x-python",
   "name": "python",
   "nbconvert_exporter": "python",
   "pygments_lexer": "ipython2",
   "version": "2.7.6"
  }
 },
 "nbformat": 4,
 "nbformat_minor": 0
}
